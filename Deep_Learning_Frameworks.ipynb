{
  "nbformat": 4,
  "nbformat_minor": 0,
  "metadata": {
    "colab": {
      "provenance": []
    },
    "kernelspec": {
      "name": "python3",
      "display_name": "Python 3"
    },
    "language_info": {
      "name": "python"
    }
  },
  "cells": [
    {
      "cell_type": "markdown",
      "source": [
        "# **Theoretical**\n",
        "1. What is TensorFlow 2.0, and how is it different from TensorFlow 1.x?\n",
        "  - **What is TensorFlow 2.0?**\n",
        "  \n",
        "      TensorFlow 2.0 is an updated version of TensorFlow that has been designed with a focus on simple execution, ease of use, and developer’s productivity. TensorFlow 2.0 makes the development of data science and machine learning applications even easier. With updated features like tight integration of Keras, default Eager execution, and Pythonic function execution, there have been considerable and successful efforts to make the experience of developing applications more familiar for Python developers.\n",
        "\n",
        "      **how is it different from TensorFlow 1.x?**\n",
        "\n",
        "      The key differences between TensorFlow 2.0 and TensorFlow 1.x are:\n",
        "        - **Eager Execution by Default:** In TensorFlow 2.0, eager execution is enabled by default. This means operations are executed immediately as they are called, similar to how NumPy works. In TensorFlow 1.x, you had to explicitly enable eager execution or define a static graph first and then run it within a session. Eager execution makes debugging and development much easier.\n",
        "        - **Keras Integration:** Keras is the official high-level API for TensorFlow 2.0. It is deeply integrated and the recommended way to build and train models. In TensorFlow 1.x, Keras was available but not as tightly integrated or the primary recommended API.\n",
        "        - **`tf.function`:** TensorFlow 2.0 introduces tf.function which allows you to decorate Python functions to compile them into high-performance, portable TensorFlow graphs. This provides the performance benefits of graphs while maintaining the flexibility of writing code in Python. In TensorFlow 1.x, you had to manually manage graph construction and sessions.\n",
        "        - **API Simplification and Cleanup:** TensorFlow 2.0 removed or consolidated many redundant or confusing APIs from TensorFlow 1.x, leading to a cleaner and more intuitive API surface.\n",
        "        - **No More Sessions:** The concept of explicit sessions from TensorFlow 1.x is largely gone in TensorFlow 2.0 due to eager execution.\n",
        "        - **Variable Management:** Variable management is simpler and more consistent in TensorFlow 2.0.\n",
        "\n",
        "2. How do you install TensorFlow 2.0?\n",
        "  - To install TensorFlow, we can simply open up our terminal or command prompt and type in the following command:\n",
        "  ```\n",
        "  !pip install tensorflow==2.0.0\n",
        "  ```\n",
        "\n",
        "3. What is the primary function of the tf.function in TensorFlow 2.0?\n",
        "  - The primary function of `tf.function` in TensorFlow 2.0 is to compile Python functions into high-performance, portable TensorFlow graphs.\n",
        "  \n",
        "      `tf.function` bridges the gap between the flexibility of eager execution and the performance/portability of graph execution in TensorFlow 2.0. It allows developers to write more natural Python code while still benefiting from TensorFlow's optimizations and deployment capabilities.\n",
        "\n",
        "4. What is the purpose of the Model class in TensorFlow 2.0?\n",
        "  - The `Model` class in TensorFlow 2.0 (specifically `tf.keras.Model`) is a central abstraction for defining and managing neural networks. Its primary purpose is to encapsulate the architecture and training logic of a machine learning model.\n",
        "\n",
        "      The `tf.keras.Model` class provides a high-level, object-oriented way to define, train, and use neural networks in TensorFlow 2.0. It encapsulates the model's structure and functionality, making the development process more organized and efficient.\n",
        "\n",
        "5. How do you create a neural network using TensorFlow 2.0?\n",
        "  - The code demonstrates how to create a simple neural network with one hidden layer using TensorFlow 2.0's Keras API.\n",
        "      1. **Import necessary modules:** It imports `tensorflow`, `keras`, and `layers` from `tensorflow.keras`.\n",
        "      2. **Define the model using `keras.Sequential`:** `keras.Sequential` is used to create a linear stack of layers.\n",
        "          - The first layer is a `layers.Dense` layer with 64 units and 'relu' activation. `input_shape=(784,)` specifies the shape of the input data (e.g., a flattened image).\n",
        "          - The second layer is a `layers.Dense` layer with 10 units and 'softmax' activation. This is typically used for multi-class classification problems to output a probability distribution over the 10 classes.\n",
        "          - **Print the model summary:** `model.summary()` displays a summary of the model's architecture, including the layers, their output shapes, and the number of parameters.\n",
        "\n",
        "6. What is the importance of Tensor Space in TensorFlow?\n",
        "  - The importance of Tensors in TensorFlow lies in the fact that:\n",
        "      1. All operations in TensorFlow operate on Tensors. Whether you are performing a simple addition, a matrix multiplication, or running a complex neural network layer, the inputs and outputs are always Tensors.\n",
        "      2. Tensors carry the data through the computation graph. In TensorFlow's execution model, Tensors flow through the operations defined in the graph.\n",
        "      3. Tensors are the basis for automatic differentiation. TensorFlow's ability to automatically compute gradients relies on tracking operations performed on Tensors.\n",
        "\n",
        "7. How can TensorBoard be integrated with TensorFlow 2.0?\n",
        "  - Please check below.\n",
        "\n",
        "8. What is the purpose of TensorFlow Playground?\n",
        "  - TensorFlow Playground is an interactive, web-based neural network visualization tool. Its primary purpose is to help users understand how neural networks work by allowing them to experiment with different network architectures, activation functions, regularization techniques, and hyperparameters in a visual and intuitive way.\n",
        "\n",
        "9. What is Netron, and how is it useful for deep learning models?\n",
        "  - **What is Netron?**\n",
        "  \n",
        "      Netron is a viewer for neural network, deep learning, and machine learning models. It's a popular tool because it allows you to visualize the structure of various types of trained models from different frameworks.\n",
        "      \n",
        "      **How it's useful for deep learning models?**\n",
        "      - **Model Visualization:** This makes it much easier to understand the flow of data through the network and debug potential issues.\n",
        "      - **Framework Support:** Netron supports a wide range of deep learning frameworks and formats, including TensorFlow, Keras, PyTorch, ONNX, Caffe, Core ML, and many more. This makes it a versatile tool regardless of which framework you're using.\n",
        "      - **Inspecting Model Details:** You can click on individual layers or operations within the model to see their specific properties, such as the type of layer, the kernel size, the number of filters, and the activation function.\n",
        "      - **Debugging and Verification:** By visualizing the model, you can quickly identify potential errors in the architecture, such as incorrect connections between layers or unexpected input/output shapes. It can also help you verify that your model was saved and loaded correctly.\n",
        "      - **Sharing and Communication:** The visual representation of a model can be very helpful for explaining its architecture to others, whether they are colleagues, students, or collaborators.\n",
        "\n",
        "10. What is the difference between TensorFlow and PyTorch?\n",
        "  - PyTorch's API is often considered more intuitive and Pythonic for researchers and those familiar with object-oriented programming. TensorFlow, with Keras, provides a very high-level and user-friendly API, which is great for rapid prototyping and building standard models.\n",
        "\n",
        "11. How do you install PyTorch?\n",
        "  - To install PyTorch, we can simply open up our terminal or command prompt and type in the following command:\n",
        "  ```\n",
        "  !pip install torch torchvision torchaudio\n",
        "  ```\n",
        "  \n",
        "12. What is the basic structure of a PyTorch neural network?\n",
        "  - The basic structure of a PyTorch neural network is typically defined as a class that inherits from torch.nn.Module. This class will contain the layers and the forward method that defines how data flows through the network. Example:\n",
        "      - We define a class `SimpleNN` that inherits from `nn.Module`.\n",
        "      - In `__init__`, we define two linear layers (`fc1` and `fc2`) and a ReLU activation function.\n",
        "      - In `forward`, we define the sequence of operations: input `x` goes through `fc1`, then `relu`, and finally `fc2` to produce the output.\n",
        "      \n",
        "      This `nn.Module` structure provides a clear and organized way to define complex neural network architectures in PyTorch.\n",
        "\n",
        "13. What is the significance of tensors in PyTorch?\n",
        "  - Tensors are the fundamental data structure in PyTorch, similar to arrays in NumPy or matrices in other mathematical libraries. Their significance in PyTorch lies in the fact that they are the primary building blocks for all computations and data manipulation within the framework.\n",
        "\n",
        "      Tensors are the universal language of PyTorch. They are the containers for your data, the units on which all mathematical operations are performed, and the key to enabling efficient computation and automatic differentiation. Understanding how to work with tensors is fundamental to using PyTorch effectively for deep learning.\n",
        "\n",
        "14. What is the difference between torch.Tensor and torch.cuda.Tensor in PyTorch?\n",
        "  - In PyTorch, both `torch.Tensor` and `torch.cuda.Tensor` represent multi-dimensional arrays of numerical data, but the key difference lies in where the tensor's data is stored and where computations on that data will be performed.\n",
        "\n",
        "      Use `torch.Tensor` when you want to perform computations on the CPU and `torch.cuda.Tensor` when you want to perform computations on the GPU for significant speedups in deep learning tasks. You need to explicitly move tensors to the GPU to utilize its power.\n",
        "\n",
        "15. What is the purpose of the torch.optim module in PyTorch?\n",
        "  - The `torch.optim` module is essential for training neural networks in PyTorch by providing the algorithms and functionality needed to update model parameters based on gradients and minimize the loss function.\n",
        "\n",
        "      The torch.optim module in PyTorch is a sub-package that implements various optimization algorithms commonly used to train neural networks. Its primary purpose is to update the model's parameters (weights and biases) during the training process based on the computed gradients of the loss function.\n",
        "\n",
        "16. What are some common activation functions used in neural networks?\n",
        "  - Activation functions are crucial components of neural networks as they introduce non-linearity, allowing the network to learn complex patterns. Here are some common activation functions used in neural networks:\n",
        "      1. **Sigmoid Function:**\n",
        "        - **Formula:** $\\sigma(x) = \\frac{1}{1 + e^{-x}}$\n",
        "        - **Output Range:** (0, 1)\n",
        "        - **Use Case:** Historically used in the output layer for binary classification problems (outputting probabilities).\n",
        "        - **Drawbacks:** Suffers from the vanishing gradient problem for very large or very small inputs, which can hinder training.\n",
        "      2. **Tanh (Hyperbolic Tangent) Function:**\n",
        "        - **Formula:** $\\tanh(x) = \\frac{e^x - e^{-x}}{e^x + e^{-x}}$\n",
        "        - **Output Range:** (-1, 1)\n",
        "        - **Use Case:** Often used in hidden layers.\n",
        "        - **Drawbacks:** Also suffers from the vanishing gradient problem, similar to the sigmoid function, though less severe.\n",
        "      3. **ReLU (Rectified Linear Unit) Function:**\n",
        "        - **Formula:** $ReLU(x) = \\max(0, x)$\n",
        "        - **Output Range:** [0, $\\infty$)\n",
        "        - **Use Case:** The most widely used activation function in hidden layers of deep neural networks.\n",
        "        - **Drawbacks:** Can suffer from the \"dying ReLU\" problem where neurons can become inactive and stop learning if their input is always negative.\n",
        "      4. **Leaky ReLU Function:**\n",
        "        - **Formula:** $LeakyReLU(x) = \\max(\\alpha x, x)$, where $\\alpha$ is a small positive constant (e.g., 0.01).\n",
        "        - **Output Range:** $(-\\infty, \\infty)$\n",
        "        - **Use Case:** An attempt to address the dying ReLU problem by allowing a small gradient when the input is negative.\n",
        "      5. **ELU (Exponential Linear Unit) Function:**\n",
        "        - **Formula:** $ELU(x) = \\begin{cases} x & \\text{if } x > 0 \\\\ \\alpha (e^x - 1) & \\text{if } x \\le 0 \\end{cases}$, where $\\alpha$ is a positive constant.\n",
        "        - **Output Range:** $(-\\alpha, \\infty)$\n",
        "        - **Use Case:** Aims to make the mean activations closer to zero, which can help with training.\n",
        "      6. **Softmax Function:**\n",
        "        - **Formula:** $\\sigma(\\mathbf{z})*i = \\frac{e^{z_i}}{\\sum*{j=1}^K e^{z_j}}$\n",
        "        - **Output Range:** (0, 1) for each element, and the sum of all elements is 1.\n",
        "        - **Use Case:** Typically used in the output layer of multi-class classification problems to output a probability distribution over the classes.\n",
        "\n",
        "17. What is the difference between torch.nn.Module and torch.nn.Sequential in PyTorch?\n",
        "  - Use `torch.nn.Module` when you need to define a neural network with a custom or non-sequential architecture, requiring explicit control over the data flow in the `forward` method.\n",
        "  - Use `torch.nn.Sequential` when you have a simple, linear stack of layers and want a more concise way to define your model.\n",
        "\n",
        "18. How can you monitor training progress in TensorFlow 2.0?\n",
        "  - The code demonstrates how to monitor training progress by plotting the accuracy and loss over epochs using Matplotlib.\n",
        "      - **Model Compilation:** The model is compiled with an optimizer (`adam`), a loss function (`categorical_crossentropy`), and metrics (`accuracy`).\n",
        "      - **Dummy Data:** Dummy data is created for demonstration purposes. In a real scenario, you would load and preprocess your actual training data.\n",
        "      - **Model Training:** The `model.fit()` method is used to train the model. The `history` object returned by this method contains a record of the training and validation loss and metric values at each epoch.\n",
        "      - **Plotting with Matplotlib:** Matplotlib is used to plot the training and validation accuracy and loss values stored in the `history` object. This visualization helps you see how the model's performance changes over time and identify potential issues like overfitting.\n",
        "\n",
        "19. How does the Keras API fit into TensorFlow 2.0?\n",
        "  - The Keras API is the official high-level API for TensorFlow 2.0. how it fits in:\n",
        "      - **Simplified Model Building:** Keras provides a user-friendly and modular way to build neural networks. You can easily stack layers, define models (Sequential, Functional API, Subclassing), and configure training processes without dealing with low-level TensorFlow operations.\n",
        "      - **Eager Execution by Default:** TensorFlow 2.0 has eager execution enabled by default, which makes Keras models more intuitive and easier to debug. You can run operations and inspect results immediately.\n",
        "      - **`tf.function` Integration:** Keras models can be easily optimized for performance using `tf.function`. This allows you to define computations that can be compiled into efficient TensorFlow graphs.\n",
        "      - **Standardized Workflow:** Keras provides a consistent workflow for training, evaluation, and prediction, making it easier to build and experiment with different models.\n",
        "      - **Wide Adoption:** Keras is widely used and has a large community, which means plenty of resources and support are available.\n",
        "\n",
        "20. What is an example of a deep learning project that can be implemented using TensorFlow 2.0?\n",
        "  - A classic example of a deep learning project that can be implemented using TensorFlow 2.0 is Image Classification. We could approach this:\n",
        "      1. **Choose a Dataset:** You could use a well-known dataset like MNIST (handwritten digits), CIFAR-10 (small images of objects), or even a larger one like ImageNet.\n",
        "      2. **Build a Convolutional Neural Network (CNN):** CNNs are particularly well-suited for image tasks. You would use TensorFlow's Keras API to define layers like:\n",
        "          - `Conv2D` for convolutional layers to extract features.\n",
        "          - `MaxPooling2D` for down-sampling.\n",
        "          - `Flatten` to convert the 2D feature maps into a 1D vector.\n",
        "          - `Dense` for fully connected layers to perform the classification.\n",
        "      3. **Compile the Model:** Configure the model with an optimizer (like Adam), a loss function (like categorical crossentropy for multi-class classification), and metrics (like accuracy).\n",
        "      4. **Train the Model:** Feed the training data to the model and train it for a specified number of epochs. TensorFlow 2.0's eager execution makes the training loop feel very Pythonic.\n",
        "      - **Evaluate the Model:** Test the trained model on a separate test set to assess its performance.\n",
        "      - **Make Predictions:** Use the trained model to classify new, unseen images.\n",
        "\n",
        "21. What is the main advantage of using pre-trained models in TensorFlow and PyTorch?\n",
        "  - The main advantage of using pre-trained models in TensorFlow and PyTorch is transfer learning. Pre-trained models have been trained on massive datasets (like ImageNet), allowing them to learn powerful features and representations that are applicable to a wide range of tasks. By using a pre-trained model, you can:\n",
        "      - **Save time and computational resources:** Training a deep learning model from scratch requires significant data and computational power. Pre-trained models eliminate the need for this extensive training process.\n",
        "      - **Achieve better performance with limited data:** When you have a smaller dataset for your specific task, a pre-trained model can leverage the knowledge gained from a larger dataset to achieve better performance than a model trained from scratch.\n",
        "      - **Use them as a starting point:** You can use a pre-trained model as a base and fine-tune it on your specific dataset for improved performance on your task."
      ],
      "metadata": {
        "id": "xIjP_IVZnG2u"
      }
    },
    {
      "cell_type": "markdown",
      "source": [
        "# **Practical**"
      ],
      "metadata": {
        "id": "ZWogAIncpKnF"
      }
    },
    {
      "cell_type": "code",
      "execution_count": null,
      "metadata": {
        "id": "k_DmY3kEmN04",
        "colab": {
          "base_uri": "https://localhost:8080/"
        },
        "outputId": "4971d925-b201-40ba-c553-4b83f26ac4b5"
      },
      "outputs": [
        {
          "output_type": "stream",
          "name": "stdout",
          "text": [
            "\u001b[31mERROR: Could not find a version that satisfies the requirement tensorflow==2.0.0 (from versions: 2.12.0rc0, 2.12.0rc1, 2.12.0, 2.12.1, 2.13.0rc0, 2.13.0rc1, 2.13.0rc2, 2.13.0, 2.13.1, 2.14.0rc0, 2.14.0rc1, 2.14.0, 2.14.1, 2.15.0rc0, 2.15.0rc1, 2.15.0, 2.15.0.post1, 2.15.1, 2.16.0rc0, 2.16.1, 2.16.2, 2.17.0rc0, 2.17.0rc1, 2.17.0, 2.17.1, 2.18.0rc0, 2.18.0rc1, 2.18.0rc2, 2.18.0, 2.18.1, 2.19.0rc0, 2.19.0)\u001b[0m\u001b[31m\n",
            "\u001b[0m\u001b[31mERROR: No matching distribution found for tensorflow==2.0.0\u001b[0m\u001b[31m\n",
            "\u001b[0m2.18.0\n"
          ]
        }
      ],
      "source": [
        "# 1. How do you install and verify that TensorFlow 2.0 was installed successfully?\n",
        "\n",
        "# Install TensorFlow latest version\n",
        "!pip install tensorflow==2.0.0\n",
        "\n",
        "# Verify TensorFlow installation\n",
        "import tensorflow as tf\n",
        "print(tf.__version__)"
      ]
    },
    {
      "cell_type": "code",
      "metadata": {
        "colab": {
          "base_uri": "https://localhost:8080/"
        },
        "id": "942ae202",
        "outputId": "dbdb5949-ccd1-4f4a-83a4-b56c593f01bd"
      },
      "source": [
        "# 2. How can you define a simple function in TensorFlow 2.0 to perform addition?\n",
        "\n",
        "import tensorflow as tf\n",
        "\n",
        "@tf.function\n",
        "def add_numbers(x, y):\n",
        "  return x + y\n",
        "\n",
        "# Example usage\n",
        "result = add_numbers(tf.constant(2), tf.constant(3))\n",
        "print(result.numpy())"
      ],
      "execution_count": null,
      "outputs": [
        {
          "output_type": "stream",
          "name": "stdout",
          "text": [
            "5\n"
          ]
        }
      ]
    },
    {
      "cell_type": "code",
      "metadata": {
        "id": "54af348b",
        "colab": {
          "base_uri": "https://localhost:8080/",
          "height": 257
        },
        "outputId": "e53866e3-e8db-4c62-85ee-103f45cc27f5"
      },
      "source": [
        "# 3. How can you create a simple neural network in TensorFlow 2.0 with one hidden layer?\n",
        "\n",
        "import tensorflow as tf\n",
        "from tensorflow import keras\n",
        "from tensorflow.keras import layers\n",
        "\n",
        "# Define the model\n",
        "model = keras.Sequential([\n",
        "    layers.Dense(units=64, activation='relu', input_shape=(784,)), # Input layer with 784 features and a hidden layer with 64 units and ReLU activation\n",
        "    layers.Dense(units=10, activation='softmax') # Output layer with 10 units and softmax activation\n",
        "])\n",
        "\n",
        "# Print the model summary\n",
        "model.summary()"
      ],
      "execution_count": null,
      "outputs": [
        {
          "output_type": "stream",
          "name": "stderr",
          "text": [
            "/usr/local/lib/python3.11/dist-packages/keras/src/layers/core/dense.py:87: UserWarning: Do not pass an `input_shape`/`input_dim` argument to a layer. When using Sequential models, prefer using an `Input(shape)` object as the first layer in the model instead.\n",
            "  super().__init__(activity_regularizer=activity_regularizer, **kwargs)\n"
          ]
        },
        {
          "output_type": "display_data",
          "data": {
            "text/plain": [
              "\u001b[1mModel: \"sequential\"\u001b[0m\n"
            ],
            "text/html": [
              "<pre style=\"white-space:pre;overflow-x:auto;line-height:normal;font-family:Menlo,'DejaVu Sans Mono',consolas,'Courier New',monospace\"><span style=\"font-weight: bold\">Model: \"sequential\"</span>\n",
              "</pre>\n"
            ]
          },
          "metadata": {}
        },
        {
          "output_type": "display_data",
          "data": {
            "text/plain": [
              "┏━━━━━━━━━━━━━━━━━━━━━━━━━━━━━━━━━┳━━━━━━━━━━━━━━━━━━━━━━━━┳━━━━━━━━━━━━━━━┓\n",
              "┃\u001b[1m \u001b[0m\u001b[1mLayer (type)                   \u001b[0m\u001b[1m \u001b[0m┃\u001b[1m \u001b[0m\u001b[1mOutput Shape          \u001b[0m\u001b[1m \u001b[0m┃\u001b[1m \u001b[0m\u001b[1m      Param #\u001b[0m\u001b[1m \u001b[0m┃\n",
              "┡━━━━━━━━━━━━━━━━━━━━━━━━━━━━━━━━━╇━━━━━━━━━━━━━━━━━━━━━━━━╇━━━━━━━━━━━━━━━┩\n",
              "│ dense (\u001b[38;5;33mDense\u001b[0m)                   │ (\u001b[38;5;45mNone\u001b[0m, \u001b[38;5;34m64\u001b[0m)             │        \u001b[38;5;34m50,240\u001b[0m │\n",
              "├─────────────────────────────────┼────────────────────────┼───────────────┤\n",
              "│ dense_1 (\u001b[38;5;33mDense\u001b[0m)                 │ (\u001b[38;5;45mNone\u001b[0m, \u001b[38;5;34m10\u001b[0m)             │           \u001b[38;5;34m650\u001b[0m │\n",
              "└─────────────────────────────────┴────────────────────────┴───────────────┘\n"
            ],
            "text/html": [
              "<pre style=\"white-space:pre;overflow-x:auto;line-height:normal;font-family:Menlo,'DejaVu Sans Mono',consolas,'Courier New',monospace\">┏━━━━━━━━━━━━━━━━━━━━━━━━━━━━━━━━━┳━━━━━━━━━━━━━━━━━━━━━━━━┳━━━━━━━━━━━━━━━┓\n",
              "┃<span style=\"font-weight: bold\"> Layer (type)                    </span>┃<span style=\"font-weight: bold\"> Output Shape           </span>┃<span style=\"font-weight: bold\">       Param # </span>┃\n",
              "┡━━━━━━━━━━━━━━━━━━━━━━━━━━━━━━━━━╇━━━━━━━━━━━━━━━━━━━━━━━━╇━━━━━━━━━━━━━━━┩\n",
              "│ dense (<span style=\"color: #0087ff; text-decoration-color: #0087ff\">Dense</span>)                   │ (<span style=\"color: #00d7ff; text-decoration-color: #00d7ff\">None</span>, <span style=\"color: #00af00; text-decoration-color: #00af00\">64</span>)             │        <span style=\"color: #00af00; text-decoration-color: #00af00\">50,240</span> │\n",
              "├─────────────────────────────────┼────────────────────────┼───────────────┤\n",
              "│ dense_1 (<span style=\"color: #0087ff; text-decoration-color: #0087ff\">Dense</span>)                 │ (<span style=\"color: #00d7ff; text-decoration-color: #00d7ff\">None</span>, <span style=\"color: #00af00; text-decoration-color: #00af00\">10</span>)             │           <span style=\"color: #00af00; text-decoration-color: #00af00\">650</span> │\n",
              "└─────────────────────────────────┴────────────────────────┴───────────────┘\n",
              "</pre>\n"
            ]
          },
          "metadata": {}
        },
        {
          "output_type": "display_data",
          "data": {
            "text/plain": [
              "\u001b[1m Total params: \u001b[0m\u001b[38;5;34m50,890\u001b[0m (198.79 KB)\n"
            ],
            "text/html": [
              "<pre style=\"white-space:pre;overflow-x:auto;line-height:normal;font-family:Menlo,'DejaVu Sans Mono',consolas,'Courier New',monospace\"><span style=\"font-weight: bold\"> Total params: </span><span style=\"color: #00af00; text-decoration-color: #00af00\">50,890</span> (198.79 KB)\n",
              "</pre>\n"
            ]
          },
          "metadata": {}
        },
        {
          "output_type": "display_data",
          "data": {
            "text/plain": [
              "\u001b[1m Trainable params: \u001b[0m\u001b[38;5;34m50,890\u001b[0m (198.79 KB)\n"
            ],
            "text/html": [
              "<pre style=\"white-space:pre;overflow-x:auto;line-height:normal;font-family:Menlo,'DejaVu Sans Mono',consolas,'Courier New',monospace\"><span style=\"font-weight: bold\"> Trainable params: </span><span style=\"color: #00af00; text-decoration-color: #00af00\">50,890</span> (198.79 KB)\n",
              "</pre>\n"
            ]
          },
          "metadata": {}
        },
        {
          "output_type": "display_data",
          "data": {
            "text/plain": [
              "\u001b[1m Non-trainable params: \u001b[0m\u001b[38;5;34m0\u001b[0m (0.00 B)\n"
            ],
            "text/html": [
              "<pre style=\"white-space:pre;overflow-x:auto;line-height:normal;font-family:Menlo,'DejaVu Sans Mono',consolas,'Courier New',monospace\"><span style=\"font-weight: bold\"> Non-trainable params: </span><span style=\"color: #00af00; text-decoration-color: #00af00\">0</span> (0.00 B)\n",
              "</pre>\n"
            ]
          },
          "metadata": {}
        }
      ]
    },
    {
      "cell_type": "code",
      "metadata": {
        "id": "7b278730",
        "colab": {
          "base_uri": "https://localhost:8080/",
          "height": 1000
        },
        "outputId": "05d40f5d-05d8-4cbe-c911-9ed390913cd7"
      },
      "source": [
        "# 4. How can you visualize the training progress using TensorFlow and Matplotlib?\n",
        "\n",
        "# Compile the model\n",
        "model.compile(optimizer='adam',\n",
        "              loss='categorical_crossentropy',\n",
        "              metrics=['accuracy'])\n",
        "\n",
        "# Assuming you have training data (replace with your actual data)\n",
        "# Example: dummy data for demonstration\n",
        "import numpy as np\n",
        "x_train = np.random.rand(1000, 784)\n",
        "y_train = np.random.randint(10, size=(1000, 10)) # One-hot encoded labels\n",
        "\n",
        "# Train the model and store the history\n",
        "history = model.fit(x_train, y_train, epochs=10, validation_split=0.2)\n",
        "\n",
        "# 4. How can you visualize the training progress using TensorFlow and Matplotlib?\n",
        "\n",
        "import matplotlib.pyplot as plt\n",
        "\n",
        "# Plot training & validation accuracy values\n",
        "plt.plot(history.history['accuracy'])\n",
        "plt.plot(history.history['val_accuracy'])\n",
        "plt.title('Model accuracy')\n",
        "plt.ylabel('Accuracy')\n",
        "plt.xlabel('Epoch')\n",
        "plt.legend(['Train', 'Validation'], loc='upper left')\n",
        "plt.show()\n",
        "\n",
        "# Plot training & validation loss values\n",
        "plt.plot(history.history['loss'])\n",
        "plt.plot(history.history['val_loss'])\n",
        "plt.title('Model loss')\n",
        "plt.ylabel('Loss')\n",
        "plt.xlabel('Epoch')\n",
        "plt.legend(['Train', 'Validation'], loc='upper left')\n",
        "plt.show()"
      ],
      "execution_count": null,
      "outputs": [
        {
          "output_type": "stream",
          "name": "stdout",
          "text": [
            "Epoch 1/10\n",
            "\u001b[1m25/25\u001b[0m \u001b[32m━━━━━━━━━━━━━━━━━━━━\u001b[0m\u001b[37m\u001b[0m \u001b[1m4s\u001b[0m 38ms/step - accuracy: 0.0584 - loss: 146.4258 - val_accuracy: 0.0800 - val_loss: 325.1916\n",
            "Epoch 2/10\n",
            "\u001b[1m25/25\u001b[0m \u001b[32m━━━━━━━━━━━━━━━━━━━━\u001b[0m\u001b[37m\u001b[0m \u001b[1m0s\u001b[0m 7ms/step - accuracy: 0.0626 - loss: 398.7366 - val_accuracy: 0.0800 - val_loss: 714.4099\n",
            "Epoch 3/10\n",
            "\u001b[1m25/25\u001b[0m \u001b[32m━━━━━━━━━━━━━━━━━━━━\u001b[0m\u001b[37m\u001b[0m \u001b[1m0s\u001b[0m 6ms/step - accuracy: 0.0655 - loss: 794.1403 - val_accuracy: 0.0800 - val_loss: 1187.4639\n",
            "Epoch 4/10\n",
            "\u001b[1m25/25\u001b[0m \u001b[32m━━━━━━━━━━━━━━━━━━━━\u001b[0m\u001b[37m\u001b[0m \u001b[1m0s\u001b[0m 5ms/step - accuracy: 0.0588 - loss: 1262.1597 - val_accuracy: 0.0800 - val_loss: 1704.1971\n",
            "Epoch 5/10\n",
            "\u001b[1m25/25\u001b[0m \u001b[32m━━━━━━━━━━━━━━━━━━━━\u001b[0m\u001b[37m\u001b[0m \u001b[1m0s\u001b[0m 6ms/step - accuracy: 0.0568 - loss: 1748.7744 - val_accuracy: 0.0800 - val_loss: 2230.1482\n",
            "Epoch 6/10\n",
            "\u001b[1m25/25\u001b[0m \u001b[32m━━━━━━━━━━━━━━━━━━━━\u001b[0m\u001b[37m\u001b[0m \u001b[1m0s\u001b[0m 5ms/step - accuracy: 0.0731 - loss: 2261.0818 - val_accuracy: 0.0800 - val_loss: 2763.5269\n",
            "Epoch 7/10\n",
            "\u001b[1m25/25\u001b[0m \u001b[32m━━━━━━━━━━━━━━━━━━━━\u001b[0m\u001b[37m\u001b[0m \u001b[1m0s\u001b[0m 7ms/step - accuracy: 0.0707 - loss: 2744.9995 - val_accuracy: 0.0600 - val_loss: 3291.5679\n",
            "Epoch 8/10\n",
            "\u001b[1m25/25\u001b[0m \u001b[32m━━━━━━━━━━━━━━━━━━━━\u001b[0m\u001b[37m\u001b[0m \u001b[1m0s\u001b[0m 7ms/step - accuracy: 0.0805 - loss: 3232.1995 - val_accuracy: 0.0800 - val_loss: 3859.7957\n",
            "Epoch 9/10\n",
            "\u001b[1m25/25\u001b[0m \u001b[32m━━━━━━━━━━━━━━━━━━━━\u001b[0m\u001b[37m\u001b[0m \u001b[1m0s\u001b[0m 6ms/step - accuracy: 0.0801 - loss: 3745.1919 - val_accuracy: 0.0800 - val_loss: 4315.9658\n",
            "Epoch 10/10\n",
            "\u001b[1m25/25\u001b[0m \u001b[32m━━━━━━━━━━━━━━━━━━━━\u001b[0m\u001b[37m\u001b[0m \u001b[1m0s\u001b[0m 6ms/step - accuracy: 0.0799 - loss: 4250.9214 - val_accuracy: 0.0450 - val_loss: 4861.8765\n"
          ]
        },
        {
          "output_type": "display_data",
          "data": {
            "text/plain": [
              "<Figure size 640x480 with 1 Axes>"
            ],
            "image/png": "[encoded data removed]"
          },
          "metadata": {}
        },
        {
          "output_type": "display_data",
          "data": {
            "text/plain": [
              "<Figure size 640x480 with 1 Axes>"
            ],
            "image/png": "[encoded data removed]"
          },
          "metadata": {}
        }
      ]
    },
    {
      "cell_type": "code",
      "metadata": {
        "id": "4d6e7b5d",
        "colab": {
          "base_uri": "https://localhost:8080/"
        },
        "outputId": "d1214826-9a9d-4ee8-b5bc-dbd37fd9307d"
      },
      "source": [
        "# 5. How do you install PyTorch and verify the PyTorch installation?\n",
        "\n",
        "# Install PyTorch\n",
        "!pip install torch torchvision torchaudio\n",
        "\n",
        "# Verify PyTorch installation\n",
        "import torch\n",
        "print(torch.__version__)"
      ],
      "execution_count": null,
      "outputs": [
        {
          "output_type": "stream",
          "name": "stdout",
          "text": [
            "Requirement already satisfied: torch in /usr/local/lib/python3.11/dist-packages (2.6.0+cu124)\n",
            "Requirement already satisfied: torchvision in /usr/local/lib/python3.11/dist-packages (0.21.0+cu124)\n",
            "Requirement already satisfied: torchaudio in /usr/local/lib/python3.11/dist-packages (2.6.0+cu124)\n",
            "Requirement already satisfied: filelock in /usr/local/lib/python3.11/dist-packages (from torch) (3.18.0)\n",
            "Requirement already satisfied: typing-extensions>=4.10.0 in /usr/local/lib/python3.11/dist-packages (from torch) (4.14.0)\n",
            "Requirement already satisfied: networkx in /usr/local/lib/python3.11/dist-packages (from torch) (3.5)\n",
            "Requirement already satisfied: jinja2 in /usr/local/lib/python3.11/dist-packages (from torch) (3.1.6)\n",
            "Requirement already satisfied: fsspec in /usr/local/lib/python3.11/dist-packages (from torch) (2025.3.2)\n",
            "Requirement already satisfied: nvidia-cuda-nvrtc-cu12==12.4.127 in /usr/local/lib/python3.11/dist-packages (from torch) (12.4.127)\n",
            "Requirement already satisfied: nvidia-cuda-runtime-cu12==12.4.127 in /usr/local/lib/python3.11/dist-packages (from torch) (12.4.127)\n",
            "Requirement already satisfied: nvidia-cuda-cupti-cu12==12.4.127 in /usr/local/lib/python3.11/dist-packages (from torch) (12.4.127)\n",
            "Requirement already satisfied: nvidia-cudnn-cu12==9.1.0.70 in /usr/local/lib/python3.11/dist-packages (from torch) (9.1.0.70)\n",
            "Requirement already satisfied: nvidia-cublas-cu12==12.4.5.8 in /usr/local/lib/python3.11/dist-packages (from torch) (12.4.5.8)\n",
            "Requirement already satisfied: nvidia-cufft-cu12==11.2.1.3 in /usr/local/lib/python3.11/dist-packages (from torch) (11.2.1.3)\n",
            "Requirement already satisfied: nvidia-curand-cu12==10.3.5.147 in /usr/local/lib/python3.11/dist-packages (from torch) (10.3.5.147)\n",
            "Requirement already satisfied: nvidia-cusolver-cu12==11.6.1.9 in /usr/local/lib/python3.11/dist-packages (from torch) (11.6.1.9)\n",
            "Requirement already satisfied: nvidia-cusparse-cu12==12.3.1.170 in /usr/local/lib/python3.11/dist-packages (from torch) (12.3.1.170)\n",
            "Requirement already satisfied: nvidia-cusparselt-cu12==0.6.2 in /usr/local/lib/python3.11/dist-packages (from torch) (0.6.2)\n",
            "Requirement already satisfied: nvidia-nccl-cu12==2.21.5 in /usr/local/lib/python3.11/dist-packages (from torch) (2.21.5)\n",
            "Requirement already satisfied: nvidia-nvtx-cu12==12.4.127 in /usr/local/lib/python3.11/dist-packages (from torch) (12.4.127)\n",
            "Requirement already satisfied: nvidia-nvjitlink-cu12==12.4.127 in /usr/local/lib/python3.11/dist-packages (from torch) (12.4.127)\n",
            "Requirement already satisfied: triton==3.2.0 in /usr/local/lib/python3.11/dist-packages (from torch) (3.2.0)\n",
            "Requirement already satisfied: sympy==1.13.1 in /usr/local/lib/python3.11/dist-packages (from torch) (1.13.1)\n",
            "Requirement already satisfied: mpmath<1.4,>=1.1.0 in /usr/local/lib/python3.11/dist-packages (from sympy==1.13.1->torch) (1.3.0)\n",
            "Requirement already satisfied: numpy in /usr/local/lib/python3.11/dist-packages (from torchvision) (2.0.2)\n",
            "Requirement already satisfied: pillow!=8.3.*,>=5.3.0 in /usr/local/lib/python3.11/dist-packages (from torchvision) (11.2.1)\n",
            "Requirement already satisfied: MarkupSafe>=2.0 in /usr/local/lib/python3.11/dist-packages (from jinja2->torch) (3.0.2)\n",
            "2.6.0+cu124\n"
          ]
        }
      ]
    },
    {
      "cell_type": "code",
      "metadata": {
        "id": "7bcf7b9e",
        "colab": {
          "base_uri": "https://localhost:8080/"
        },
        "outputId": "cf0f95e8-96f1-4f9b-d99f-1a4067a820b3"
      },
      "source": [
        "# 6. How do you create a simple neural network in PyTorch?\n",
        "\n",
        "import torch\n",
        "import torch.nn as nn\n",
        "import torch.nn.functional as F\n",
        "\n",
        "class SimpleNN(nn.Module):\n",
        "    def __init__(self, input_size, hidden_size, num_classes):\n",
        "        super(SimpleNN, self).__init__()\n",
        "        self.fc1 = nn.Linear(input_size, hidden_size) # First fully connected layer\n",
        "        self.relu = nn.ReLU() # ReLU activation function\n",
        "        self.fc2 = nn.Linear(hidden_size, num_classes) # Second fully connected layer\n",
        "\n",
        "    def forward(self, x):\n",
        "        out = self.fc1(x)\n",
        "        out = self.relu(out)\n",
        "        out = self.fc2(out)\n",
        "        return out\n",
        "\n",
        "# Example usage\n",
        "input_size = 784  # Example input size (e.g., flattened image)\n",
        "hidden_size = 128 # Example hidden layer size\n",
        "num_classes = 10  # Example number of output classes\n",
        "\n",
        "model = SimpleNN(input_size, hidden_size, num_classes)\n",
        "print(model)"
      ],
      "execution_count": null,
      "outputs": [
        {
          "output_type": "stream",
          "name": "stdout",
          "text": [
            "SimpleNN(\n",
            "  (fc1): Linear(in_features=784, out_features=128, bias=True)\n",
            "  (relu): ReLU()\n",
            "  (fc2): Linear(in_features=128, out_features=10, bias=True)\n",
            ")\n"
          ]
        }
      ]
    },
    {
      "cell_type": "code",
      "metadata": {
        "id": "ec3942d9",
        "colab": {
          "base_uri": "https://localhost:8080/"
        },
        "outputId": "e0d3705b-2c80-4225-8bfe-df44a53a1f72"
      },
      "source": [
        "# 7. How do you define a loss function and optimizer in PyTorch?\n",
        "\n",
        "# Define a loss function (e.g., Cross-Entropy Loss for classification)\n",
        "criterion = nn.CrossEntropyLoss()\n",
        "\n",
        "# Define an optimizer (e.g., Adam optimizer)\n",
        "optimizer = torch.optim.Adam(model.parameters(), lr=0.001)\n",
        "\n",
        "print(\"Loss function:\", criterion)\n",
        "print(\"Optimizer:\", optimizer)"
      ],
      "execution_count": null,
      "outputs": [
        {
          "output_type": "stream",
          "name": "stdout",
          "text": [
            "Loss function: CrossEntropyLoss()\n",
            "Optimizer: Adam (\n",
            "Parameter Group 0\n",
            "    amsgrad: False\n",
            "    betas: (0.9, 0.999)\n",
            "    capturable: False\n",
            "    differentiable: False\n",
            "    eps: 1e-08\n",
            "    foreach: None\n",
            "    fused: None\n",
            "    lr: 0.001\n",
            "    maximize: False\n",
            "    weight_decay: 0\n",
            ")\n"
          ]
        }
      ]
    },
    {
      "cell_type": "code",
      "metadata": {
        "id": "bade444e",
        "colab": {
          "base_uri": "https://localhost:8080/"
        },
        "outputId": "e1a9312b-401f-4d1a-cd11-f0243c4f7f59"
      },
      "source": [
        "# 8. How do you implement a custom loss function in PyTorch?\n",
        "\n",
        "import torch\n",
        "import torch.nn as nn\n",
        "\n",
        "# Method 1: Define a class inheriting from nn.Module\n",
        "class MeanSquaredError(nn.Module):\n",
        "    def __init__(self):\n",
        "        super(MeanSquaredError, self).__init__()\n",
        "\n",
        "    def forward(self, outputs, targets):\n",
        "        return torch.mean((outputs - targets)**2)\n",
        "\n",
        "# Example usage of the custom class\n",
        "custom_loss_class = MeanSquaredError()\n",
        "outputs = torch.randn(5, 1, requires_grad=True)\n",
        "targets = torch.randn(5, 1)\n",
        "loss = custom_loss_class(outputs, targets)\n",
        "print(f\"Custom MSE Loss (Class): {loss.item()}\")\n",
        "\n",
        "# Method 2: Define a simple function\n",
        "def mean_absolute_error(outputs, targets):\n",
        "    return torch.mean(torch.abs(outputs - targets))\n",
        "\n",
        "# Example usage of the custom function\n",
        "outputs = torch.randn(5, 1, requires_grad=True)\n",
        "targets = torch.randn(5, 1)\n",
        "loss = mean_absolute_error(outputs, targets)\n",
        "print(f\"Custom MAE Loss (Function): {loss.item()}\")"
      ],
      "execution_count": null,
      "outputs": [
        {
          "output_type": "stream",
          "name": "stdout",
          "text": [
            "Custom MSE Loss (Class): 1.0452722311019897\n",
            "Custom MAE Loss (Function): 0.6772406697273254\n"
          ]
        }
      ]
    },
    {
      "cell_type": "code",
      "metadata": {
        "colab": {
          "base_uri": "https://localhost:8080/",
          "height": 348
        },
        "id": "d6cbefb3",
        "outputId": "b743c819-6f48-4fa2-e46b-c88dd7cbe413"
      },
      "source": [
        "# 9. How do you save and load a TensorFlow model?\n",
        "\n",
        "# Recreate the TensorFlow model from cell 54af348b\n",
        "import tensorflow as tf\n",
        "from tensorflow import keras\n",
        "from tensorflow.keras import layers\n",
        "\n",
        "# Define the model\n",
        "tf_model = keras.Sequential([\n",
        "    layers.Dense(units=64, activation='relu', input_shape=(784,)), # Input layer with 784 features and a hidden layer with 64 units and ReLU activation\n",
        "    layers.Dense(units=10, activation='softmax') # Output layer with 10 units and softmax activation\n",
        "])\n",
        "\n",
        "# Compile the model (necessary for saving the optimizer state)\n",
        "tf_model.compile(optimizer='adam',\n",
        "              loss='categorical_crossentropy',\n",
        "              metrics=['accuracy'])\n",
        "\n",
        "# Now save and load the TensorFlow model\n",
        "save_path = \"./my_tf_model.keras\"\n",
        "\n",
        "# Save the entire model\n",
        "tf.keras.models.save_model(tf_model, save_path)\n",
        "print(f\"TensorFlow model saved to: {save_path}\")\n",
        "\n",
        "# Load the saved model\n",
        "loaded_tf_model = tf.keras.models.load_model(save_path)\n",
        "print(\"TensorFlow model loaded successfully.\")\n",
        "\n",
        "# Verify the loaded model\n",
        "loaded_tf_model.summary()"
      ],
      "execution_count": null,
      "outputs": [
        {
          "output_type": "stream",
          "name": "stdout",
          "text": [
            "TensorFlow model saved to: ./my_tf_model.keras\n",
            "TensorFlow model loaded successfully.\n"
          ]
        },
        {
          "output_type": "stream",
          "name": "stderr",
          "text": [
            "/usr/local/lib/python3.11/dist-packages/keras/src/layers/core/dense.py:87: UserWarning: Do not pass an `input_shape`/`input_dim` argument to a layer. When using Sequential models, prefer using an `Input(shape)` object as the first layer in the model instead.\n",
            "  super().__init__(activity_regularizer=activity_regularizer, **kwargs)\n",
            "/usr/local/lib/python3.11/dist-packages/keras/src/saving/saving_lib.py:757: UserWarning: Skipping variable loading for optimizer 'adam', because it has 10 variables whereas the saved optimizer has 2 variables. \n",
            "  saveable.load_own_variables(weights_store.get(inner_path))\n"
          ]
        },
        {
          "output_type": "display_data",
          "data": {
            "text/plain": [
              "\u001b[1mModel: \"sequential_2\"\u001b[0m\n"
            ],
            "text/html": [
              "<pre style=\"white-space:pre;overflow-x:auto;line-height:normal;font-family:Menlo,'DejaVu Sans Mono',consolas,'Courier New',monospace\"><span style=\"font-weight: bold\">Model: \"sequential_2\"</span>\n",
              "</pre>\n"
            ]
          },
          "metadata": {}
        },
        {
          "output_type": "display_data",
          "data": {
            "text/plain": [
              "┏━━━━━━━━━━━━━━━━━━━━━━━━━━━━━━━━━┳━━━━━━━━━━━━━━━━━━━━━━━━┳━━━━━━━━━━━━━━━┓\n",
              "┃\u001b[1m \u001b[0m\u001b[1mLayer (type)                   \u001b[0m\u001b[1m \u001b[0m┃\u001b[1m \u001b[0m\u001b[1mOutput Shape          \u001b[0m\u001b[1m \u001b[0m┃\u001b[1m \u001b[0m\u001b[1m      Param #\u001b[0m\u001b[1m \u001b[0m┃\n",
              "┡━━━━━━━━━━━━━━━━━━━━━━━━━━━━━━━━━╇━━━━━━━━━━━━━━━━━━━━━━━━╇━━━━━━━━━━━━━━━┩\n",
              "│ dense_4 (\u001b[38;5;33mDense\u001b[0m)                 │ (\u001b[38;5;45mNone\u001b[0m, \u001b[38;5;34m64\u001b[0m)             │        \u001b[38;5;34m50,240\u001b[0m │\n",
              "├─────────────────────────────────┼────────────────────────┼───────────────┤\n",
              "│ dense_5 (\u001b[38;5;33mDense\u001b[0m)                 │ (\u001b[38;5;45mNone\u001b[0m, \u001b[38;5;34m10\u001b[0m)             │           \u001b[38;5;34m650\u001b[0m │\n",
              "└─────────────────────────────────┴────────────────────────┴───────────────┘\n"
            ],
            "text/html": [
              "<pre style=\"white-space:pre;overflow-x:auto;line-height:normal;font-family:Menlo,'DejaVu Sans Mono',consolas,'Courier New',monospace\">┏━━━━━━━━━━━━━━━━━━━━━━━━━━━━━━━━━┳━━━━━━━━━━━━━━━━━━━━━━━━┳━━━━━━━━━━━━━━━┓\n",
              "┃<span style=\"font-weight: bold\"> Layer (type)                    </span>┃<span style=\"font-weight: bold\"> Output Shape           </span>┃<span style=\"font-weight: bold\">       Param # </span>┃\n",
              "┡━━━━━━━━━━━━━━━━━━━━━━━━━━━━━━━━━╇━━━━━━━━━━━━━━━━━━━━━━━━╇━━━━━━━━━━━━━━━┩\n",
              "│ dense_4 (<span style=\"color: #0087ff; text-decoration-color: #0087ff\">Dense</span>)                 │ (<span style=\"color: #00d7ff; text-decoration-color: #00d7ff\">None</span>, <span style=\"color: #00af00; text-decoration-color: #00af00\">64</span>)             │        <span style=\"color: #00af00; text-decoration-color: #00af00\">50,240</span> │\n",
              "├─────────────────────────────────┼────────────────────────┼───────────────┤\n",
              "│ dense_5 (<span style=\"color: #0087ff; text-decoration-color: #0087ff\">Dense</span>)                 │ (<span style=\"color: #00d7ff; text-decoration-color: #00d7ff\">None</span>, <span style=\"color: #00af00; text-decoration-color: #00af00\">10</span>)             │           <span style=\"color: #00af00; text-decoration-color: #00af00\">650</span> │\n",
              "└─────────────────────────────────┴────────────────────────┴───────────────┘\n",
              "</pre>\n"
            ]
          },
          "metadata": {}
        },
        {
          "output_type": "display_data",
          "data": {
            "text/plain": [
              "\u001b[1m Total params: \u001b[0m\u001b[38;5;34m152,672\u001b[0m (596.38 KB)\n"
            ],
            "text/html": [
              "<pre style=\"white-space:pre;overflow-x:auto;line-height:normal;font-family:Menlo,'DejaVu Sans Mono',consolas,'Courier New',monospace\"><span style=\"font-weight: bold\"> Total params: </span><span style=\"color: #00af00; text-decoration-color: #00af00\">152,672</span> (596.38 KB)\n",
              "</pre>\n"
            ]
          },
          "metadata": {}
        },
        {
          "output_type": "display_data",
          "data": {
            "text/plain": [
              "\u001b[1m Trainable params: \u001b[0m\u001b[38;5;34m50,890\u001b[0m (198.79 KB)\n"
            ],
            "text/html": [
              "<pre style=\"white-space:pre;overflow-x:auto;line-height:normal;font-family:Menlo,'DejaVu Sans Mono',consolas,'Courier New',monospace\"><span style=\"font-weight: bold\"> Trainable params: </span><span style=\"color: #00af00; text-decoration-color: #00af00\">50,890</span> (198.79 KB)\n",
              "</pre>\n"
            ]
          },
          "metadata": {}
        },
        {
          "output_type": "display_data",
          "data": {
            "text/plain": [
              "\u001b[1m Non-trainable params: \u001b[0m\u001b[38;5;34m0\u001b[0m (0.00 B)\n"
            ],
            "text/html": [
              "<pre style=\"white-space:pre;overflow-x:auto;line-height:normal;font-family:Menlo,'DejaVu Sans Mono',consolas,'Courier New',monospace\"><span style=\"font-weight: bold\"> Non-trainable params: </span><span style=\"color: #00af00; text-decoration-color: #00af00\">0</span> (0.00 B)\n",
              "</pre>\n"
            ]
          },
          "metadata": {}
        },
        {
          "output_type": "display_data",
          "data": {
            "text/plain": [
              "\u001b[1m Optimizer params: \u001b[0m\u001b[38;5;34m101,782\u001b[0m (397.59 KB)\n"
            ],
            "text/html": [
              "<pre style=\"white-space:pre;overflow-x:auto;line-height:normal;font-family:Menlo,'DejaVu Sans Mono',consolas,'Courier New',monospace\"><span style=\"font-weight: bold\"> Optimizer params: </span><span style=\"color: #00af00; text-decoration-color: #00af00\">101,782</span> (397.59 KB)\n",
              "</pre>\n"
            ]
          },
          "metadata": {}
        }
      ]
    },
    {
      "cell_type": "code",
      "metadata": {
        "colab": {
          "base_uri": "https://localhost:8080/"
        },
        "id": "bf7d073d",
        "outputId": "daf7e164-3c89-45c5-9a75-bf504872376d"
      },
      "source": [
        "# Theoretical Q.7. How can TensorBoard be integrated with TensorFlow 2.0?\n",
        "\n",
        "import tensorflow as tf\n",
        "from tensorflow import keras\n",
        "from tensorflow.keras import layers\n",
        "import datetime\n",
        "\n",
        "# Define a simple model\n",
        "model = keras.Sequential([\n",
        "    layers.Dense(units=64, activation='relu', input_shape=(784,)),\n",
        "    layers.Dense(units=10, activation='softmax')\n",
        "])\n",
        "\n",
        "model.compile(optimizer='adam',\n",
        "              loss='categorical_crossentropy',\n",
        "              metrics=['accuracy'])\n",
        "\n",
        "# Prepare dummy data\n",
        "import numpy as np\n",
        "x_train = np.random.rand(1000, 784)\n",
        "y_train = np.random.randint(10, size=(1000, 10)) # One-hot encoded labels\n",
        "\n",
        "# Define the TensorBoard callback\n",
        "log_dir = \"logs/fit/\" + datetime.datetime.now().strftime(\"%Y%m%d-%H%M%S\")\n",
        "tensorboard_callback = tf.keras.callbacks.TensorBoard(log_dir=log_dir, histogram_freq=1)\n",
        "\n",
        "# Train the model with the TensorBoard callback\n",
        "print(\"Training the model with TensorBoard callback...\")\n",
        "history = model.fit(x_train, y_train, epochs=10, validation_split=0.2, callbacks=[tensorboard_callback])\n",
        "print(\"Training finished.\")"
      ],
      "execution_count": null,
      "outputs": [
        {
          "output_type": "stream",
          "name": "stderr",
          "text": [
            "/usr/local/lib/python3.11/dist-packages/keras/src/layers/core/dense.py:87: UserWarning: Do not pass an `input_shape`/`input_dim` argument to a layer. When using Sequential models, prefer using an `Input(shape)` object as the first layer in the model instead.\n",
            "  super().__init__(activity_regularizer=activity_regularizer, **kwargs)\n"
          ]
        },
        {
          "output_type": "stream",
          "name": "stdout",
          "text": [
            "Training the model with TensorBoard callback...\n",
            "Epoch 1/10\n",
            "\u001b[1m25/25\u001b[0m \u001b[32m━━━━━━━━━━━━━━━━━━━━\u001b[0m\u001b[37m\u001b[0m \u001b[1m2s\u001b[0m 21ms/step - accuracy: 0.1340 - loss: 211.8249 - val_accuracy: 0.1600 - val_loss: 693.8121\n",
            "Epoch 2/10\n",
            "\u001b[1m25/25\u001b[0m \u001b[32m━━━━━━━━━━━━━━━━━━━━\u001b[0m\u001b[37m\u001b[0m \u001b[1m0s\u001b[0m 9ms/step - accuracy: 0.1321 - loss: 877.8442 - val_accuracy: 0.1600 - val_loss: 1501.5691\n",
            "Epoch 3/10\n",
            "\u001b[1m25/25\u001b[0m \u001b[32m━━━━━━━━━━━━━━━━━━━━\u001b[0m\u001b[37m\u001b[0m \u001b[1m0s\u001b[0m 8ms/step - accuracy: 0.1488 - loss: 1708.8326 - val_accuracy: 0.1600 - val_loss: 2424.7102\n",
            "Epoch 4/10\n",
            "\u001b[1m25/25\u001b[0m \u001b[32m━━━━━━━━━━━━━━━━━━━━\u001b[0m\u001b[37m\u001b[0m \u001b[1m0s\u001b[0m 9ms/step - accuracy: 0.1443 - loss: 2657.6003 - val_accuracy: 0.1600 - val_loss: 3414.0254\n",
            "Epoch 5/10\n",
            "\u001b[1m25/25\u001b[0m \u001b[32m━━━━━━━━━━━━━━━━━━━━\u001b[0m\u001b[37m\u001b[0m \u001b[1m0s\u001b[0m 9ms/step - accuracy: 0.1559 - loss: 3684.9070 - val_accuracy: 0.1600 - val_loss: 4675.2295\n",
            "Epoch 6/10\n",
            "\u001b[1m25/25\u001b[0m \u001b[32m━━━━━━━━━━━━━━━━━━━━\u001b[0m\u001b[37m\u001b[0m \u001b[1m0s\u001b[0m 9ms/step - accuracy: 0.1549 - loss: 5009.8730 - val_accuracy: 0.1600 - val_loss: 5974.7373\n",
            "Epoch 7/10\n",
            "\u001b[1m25/25\u001b[0m \u001b[32m━━━━━━━━━━━━━━━━━━━━\u001b[0m\u001b[37m\u001b[0m \u001b[1m0s\u001b[0m 10ms/step - accuracy: 0.1439 - loss: 6399.5356 - val_accuracy: 0.1600 - val_loss: 7285.0781\n",
            "Epoch 8/10\n",
            "\u001b[1m25/25\u001b[0m \u001b[32m━━━━━━━━━━━━━━━━━━━━\u001b[0m\u001b[37m\u001b[0m \u001b[1m0s\u001b[0m 10ms/step - accuracy: 0.1312 - loss: 7604.1646 - val_accuracy: 0.1600 - val_loss: 8622.3984\n",
            "Epoch 9/10\n",
            "\u001b[1m25/25\u001b[0m \u001b[32m━━━━━━━━━━━━━━━━━━━━\u001b[0m\u001b[37m\u001b[0m \u001b[1m0s\u001b[0m 17ms/step - accuracy: 0.1436 - loss: 8902.7266 - val_accuracy: 0.1600 - val_loss: 9872.5430\n",
            "Epoch 10/10\n",
            "\u001b[1m25/25\u001b[0m \u001b[32m━━━━━━━━━━━━━━━━━━━━\u001b[0m\u001b[37m\u001b[0m \u001b[1m1s\u001b[0m 17ms/step - accuracy: 0.1552 - loss: 10287.5586 - val_accuracy: 0.1600 - val_loss: 11213.3555\n",
            "Training finished.\n"
          ]
        }
      ]
    },
    {
      "cell_type": "markdown",
      "metadata": {
        "id": "8569721f"
      },
      "source": [
        "After the training is complete, you can launch TensorBoard to visualize the logged data. Run the following command in a new cell."
      ]
    }
  ]
}