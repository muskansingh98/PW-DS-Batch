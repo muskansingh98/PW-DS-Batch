{
  "nbformat": 4,
  "nbformat_minor": 0,
  "metadata": {
    "colab": {
      "provenance": []
    },
    "kernelspec": {
      "name": "python3",
      "display_name": "Python 3"
    },
    "language_info": {
      "name": "python"
    }
  },
  "cells": [
    {
      "cell_type": "markdown",
      "source": [
        "1. What is Python, and why is it popular?\n",
        "  - Python is a popular programming language. It was created by Guido van Rossum, and released in 1991.It is a high-level, general-purpose programming language.\n",
        "  - Python is very popular because of it is simple, user-friendly, and easy to learn for programming beginners. its simple syntax, large community, extensive libraries and wide applicability, including web development, data analysis, mechine learning and more.\n",
        "\n",
        "2. What is an interpreter in Python?\n",
        "  - Interpreters are the computer program that will convert the source code or an high level language into intermediate code (machine level language). It execute the code line by line, allowing you to run scripts interactively. This makes it easier to debug and develop code quickly.\n",
        "\n",
        "3. What are pre-defined keywords in Python?\n",
        "  - Pre-defined Keywords in python are reserved words that have special meanings to the compiler. Examples if, else, for, while, True, False and etc.\n",
        "\n",
        "4. Can keywords be used as variable names?\n",
        "  - No, keywords can not be used as variable names as they are reserved by python for specific functionalities.\n",
        "\n",
        "5. What is mutability in Python?\n",
        "  -  Mutability allow you to change their value or data directly without affecting their identity such as lists and dictionaries.\n",
        "\n",
        "6. Why are lists mutable, but tuples are immutable?\n",
        "  - List allow you to change their value or data directly without affecting their identity but tuple can’t change their content after creation. Therefore list is mutable, but tuples are immutable.\n",
        "\n",
        "7. What is the difference between “==” and “is” operators in Python?\n",
        "  - \"==\" checks if the value of two objects are equal but \"is\" checks if two variables point to the same memory location, not just if their values are equal.\n",
        "\n",
        "8. What are logical operators in Python?\n",
        "  - Logical operators are used to combine conditions and include and, or and not.\n",
        "\n",
        "9. What is type casting in Python?\n",
        "  - Type casting is the conversion of one data type to another, such as converting an integer to a string or a float.\n",
        "\n",
        "10. What is the difference between implicit and explicit type casting?\n",
        "  - Implicit type casting is done automatically, while explicit type casting requires the use of functions like int(), float(), or str() to convert between types.\n",
        "\n",
        "11. What is the purpose of conditional statements in Python?\n",
        "  - Conditional statements in Python allow to execute certain blocks of code based on wheater a condition is True or False.\n",
        "\n",
        "12. How does the elif statement work?\n",
        "  - The elif statement provides additional conditions after an initial if. It is only executed if the previous if or elif condition was false.\n",
        "\n",
        "13. What is the difference between for and while loops?\n",
        "  - The for loop is typically used when the number of iteration in advance. but a while loop is used when the number of iteration depends on a condition.\n",
        "\n",
        "14. Describe a scenario where a while loop is more suitable than a for loop.\n",
        "  - A while loop when you don't know how many times the loop should run. A while loop continues executing once a specified condition is considered true.\n"
      ],
      "metadata": {
        "id": "ID8m8c5s-5ni"
      }
    },
    {
      "cell_type": "code",
      "source": [
        "# 1. Write a Python program to print \"Hello, World!\"\n",
        "print(\"Hello, World!\")"
      ],
      "metadata": {
        "colab": {
          "base_uri": "https://localhost:8080/"
        },
        "id": "2bk0YWZNIYK-",
        "outputId": "50d5efa9-469b-45ca-baba-163d717d3f45"
      },
      "execution_count": null,
      "outputs": [
        {
          "output_type": "stream",
          "name": "stdout",
          "text": [
            "Hello, World!\n"
          ]
        }
      ]
    },
    {
      "cell_type": "code",
      "source": [
        "# 2. Write a Python program that displays your name and age.\n",
        "Name = \"Muskan Singh\"\n",
        "age = 26\n",
        "print(\"Name : {}\\nAge : {}\".format(Name, age))"
      ],
      "metadata": {
        "colab": {
          "base_uri": "https://localhost:8080/"
        },
        "id": "VlrortQMI0Ib",
        "outputId": "c671e7d9-9bdd-4b93-8519-467fb25510ae"
      },
      "execution_count": null,
      "outputs": [
        {
          "output_type": "stream",
          "name": "stdout",
          "text": [
            "Name : Muskan Singh\n",
            "Age : 26\n"
          ]
        }
      ]
    },
    {
      "cell_type": "code",
      "source": [
        "# 3. Write code to print all the pre-defined keywords in Python using the keyword library.\n",
        "import keyword\n",
        "print(\"Python pre-define keywords is .....\")\n",
        "print(keyword.kwlist)"
      ],
      "metadata": {
        "colab": {
          "base_uri": "https://localhost:8080/"
        },
        "id": "ZpxjtE9pN3R-",
        "outputId": "68fd58c0-f487-44c2-aff4-926e08504fa5"
      },
      "execution_count": null,
      "outputs": [
        {
          "output_type": "stream",
          "name": "stdout",
          "text": [
            "Python pre-define keywords is .....\n",
            "['False', 'None', 'True', 'and', 'as', 'assert', 'async', 'await', 'break', 'class', 'continue', 'def', 'del', 'elif', 'else', 'except', 'finally', 'for', 'from', 'global', 'if', 'import', 'in', 'is', 'lambda', 'nonlocal', 'not', 'or', 'pass', 'raise', 'return', 'try', 'while', 'with', 'yield']\n"
          ]
        }
      ]
    },
    {
      "cell_type": "code",
      "source": [
        "# 4. Write a program that checks if a given word is a Python keyword.\n",
        "import keyword\n",
        "\n",
        "k = input(\"Please enter if you check given word is keyword or not: \")\n",
        "if keyword.iskeyword(k):\n",
        "  print(\"{} is python keyword\".format(k))\n",
        "else:\n",
        "  print(\"{} is not python keyword\".format(k))"
      ],
      "metadata": {
        "id": "YM2ChtPxXhvY",
        "colab": {
          "base_uri": "https://localhost:8080/"
        },
        "outputId": "384d5bfc-838d-4e1d-c796-440be53343c0"
      },
      "execution_count": null,
      "outputs": [
        {
          "output_type": "stream",
          "name": "stdout",
          "text": [
            "Please enter if you check given word is keyword or not: x\n",
            "x is not python keyword\n"
          ]
        }
      ]
    },
    {
      "cell_type": "code",
      "source": [
        "# 5. Create a list and tuple in Python, and demonstrate how attempting to change an element works differently for each.\n",
        "my_list = [1,2,3]\n",
        "print(\"Original List: \",my_list)\n",
        "my_list[1] = 5\n",
        "print(\"Modified List: \",my_list)\n",
        "\n",
        "my_tuple = (1,2,3)\n",
        "print(\"Original List: \",my_tuple)\n",
        "my_tuple[2] = 5"
      ],
      "metadata": {
        "id": "JGlTfu_5Xh7m",
        "colab": {
          "base_uri": "https://localhost:8080/"
        },
        "outputId": "3256b79a-6caf-427b-d66c-4948175f7e6e"
      },
      "execution_count": 23,
      "outputs": [
        {
          "output_type": "stream",
          "name": "stdout",
          "text": [
            "Original List:  [1, 2, 3]\n",
            "Modified List:  [1, 5, 3]\n",
            "Original List:  (1, 2, 3)\n"
          ]
        }
      ]
    },
    {
      "cell_type": "code",
      "source": [
        "# 6. Write a function to demonstrate the behavior of mutable and immutable arguments.\n",
        "def modify_list(lst):\n",
        "  lst.append(100)\n",
        "  print(\"inside function (list modified): \", lst)\n",
        "\n",
        "def modify_string(s):\n",
        "  s += \" World\"\n",
        "  print(\"inside function (string modified): \", s)\n",
        "\n",
        "my_list = [1,2,3]\n",
        "print(\"Before function call (list): \",my_list)\n",
        "modify_list(my_list)\n",
        "print(\"After function call (list): \",my_list)\n",
        "\n",
        "my_string = \"Hello\"\n",
        "print(\"Before function call (string): \",my_string)\n",
        "modify_string(my_string)\n",
        "print(\"After function call (string): \",my_string)"
      ],
      "metadata": {
        "id": "RwVeSO_vXiFe",
        "colab": {
          "base_uri": "https://localhost:8080/"
        },
        "outputId": "37688b0e-74fd-4dbb-81f9-774d4e060a86"
      },
      "execution_count": 25,
      "outputs": [
        {
          "output_type": "stream",
          "name": "stdout",
          "text": [
            "Before function call (list):  [1, 2, 3]\n",
            "inside function (list modified):  [1, 2, 3, 100]\n",
            "After function call (list):  [1, 2, 3, 100]\n",
            "Before function call (string):  Hello\n",
            "inside function (string modified):  Hello World\n",
            "After function call (string):  Hello\n"
          ]
        }
      ]
    },
    {
      "cell_type": "code",
      "source": [
        "# 7. Write a program that performs basic arithmetic operations on two user-input numbers.\n",
        "num1 = int(input(\"Enter the first number: \"))\n",
        "num2 = int(input(\"Enter the second number: \"))\n",
        "print(\"Enter which operation would you like to perform?\")\n",
        "op = input(\"Enter any of these char for specific operation +,-,*,/: \")\n",
        "if(op == '+'):\n",
        "  Result = num1 + num2\n",
        "elif(op == '-'):\n",
        "  Result = num1 - num2\n",
        "elif(op == \"*\"):\n",
        "  Result = num1 * num2\n",
        "elif(op == \"/\"):\n",
        "  Result = num1 / num2\n",
        "else:\n",
        "  print(\"Input character is not recognized!\")\n",
        "print(num1,op,num2,\" = \",Result)"
      ],
      "metadata": {
        "id": "bS7xN56CXiM1",
        "colab": {
          "base_uri": "https://localhost:8080/"
        },
        "outputId": "4e617a53-8c7b-4087-f6d7-93e1fc45914c",
        "collapsed": true
      },
      "execution_count": 5,
      "outputs": [
        {
          "output_type": "stream",
          "name": "stdout",
          "text": [
            "Enter the first number: 5\n",
            "Enter the second number: 4\n",
            "Enter which operation would you like to perform?\n",
            "Enter any of these char for specific operation +,-,*,/: *\n",
            "5 * 4  =  20\n"
          ]
        }
      ]
    },
    {
      "cell_type": "code",
      "source": [
        "# 8. Write a program to demonstrate the use of logical operators.\n",
        "a = 12\n",
        "b = 8\n",
        "print(a < 10 and b > 5)\n",
        "print(a < 10 or b > 5)\n",
        "print(not(a < 10))"
      ],
      "metadata": {
        "id": "fEHmzrx_XzTh",
        "colab": {
          "base_uri": "https://localhost:8080/"
        },
        "outputId": "a6b5228d-1456-4f41-d7ae-53be7491d2eb"
      },
      "execution_count": 10,
      "outputs": [
        {
          "output_type": "stream",
          "name": "stdout",
          "text": [
            "False\n",
            "True\n",
            "True\n"
          ]
        }
      ]
    },
    {
      "cell_type": "code",
      "source": [
        "# 9. Write a Python program to convert user input from string to integer, float, and boolean types.\n",
        "a=input(\"Enter a number: \")\n",
        "print(int(a))\n",
        "print(float(a))\n",
        "print(bool(a))"
      ],
      "metadata": {
        "id": "sIqRiGkjXzWL",
        "colab": {
          "base_uri": "https://localhost:8080/"
        },
        "outputId": "688ce061-1593-4d81-f9f1-35b0422134a1"
      },
      "execution_count": 13,
      "outputs": [
        {
          "output_type": "stream",
          "name": "stdout",
          "text": [
            "Enter a number: 4\n",
            "4\n",
            "4.0\n",
            "True\n"
          ]
        }
      ]
    },
    {
      "cell_type": "code",
      "source": [
        "# 10. Write code to demonstrate type casting with list elements.\n",
        "my_list = [\"10\", \"20\", \"30\", \"40\"]\n",
        "int_list = [int(x) for x in my_list] #Convert each string element to integer\n",
        "float_list = [float(x) for x in my_list] #Convert each string element to float\n",
        "bool_list = [bool(x) for x in my_list] #Convert each string element to boolean\n",
        "print(\"Original List: \", my_list)\n",
        "print(\"Integer List: \", int_list)\n",
        "print(\"Float List: \", float_list)\n",
        "print(\"Boolean List: \", bool_list)"
      ],
      "metadata": {
        "id": "ZaIbB3xkXznI",
        "colab": {
          "base_uri": "https://localhost:8080/"
        },
        "outputId": "23eb9a3e-8458-40fc-cfbc-1279cc0d1486"
      },
      "execution_count": 27,
      "outputs": [
        {
          "output_type": "stream",
          "name": "stdout",
          "text": [
            "Original List:  ['10', '20', '30', '40']\n",
            "Integer List:  [10, 20, 30, 40]\n",
            "Float List:  [10.0, 20.0, 30.0, 40.0]\n",
            "Boolean List:  [True, True, True, True]\n"
          ]
        }
      ]
    },
    {
      "cell_type": "code",
      "source": [
        "# 11. Write a program that checks if a number is positive, negative, or zero.\n",
        "num = int(input(\"Please enter the number: \"))\n",
        "if num > 0:\n",
        "  print(\"Positive Number are given.\")\n",
        "elif num < 0:\n",
        "  print(\"Negative Number are given.\")\n",
        "else:\n",
        "  print(\"Zero is given\")"
      ],
      "metadata": {
        "id": "7qvZrsfnYDe0",
        "colab": {
          "base_uri": "https://localhost:8080/"
        },
        "outputId": "ff123cf0-7e03-4bf0-d33c-136cd8ef9bd1",
        "collapsed": true
      },
      "execution_count": 7,
      "outputs": [
        {
          "output_type": "stream",
          "name": "stdout",
          "text": [
            "Please enter the number: -7\n",
            "Negative Number are given.\n"
          ]
        }
      ]
    },
    {
      "cell_type": "code",
      "source": [
        "# 12. Write a for loop to print numbers from 1 to 10.\n",
        "for num in range(1, 11):\n",
        "  print(num)"
      ],
      "metadata": {
        "id": "7mlFxnM7YDmh",
        "colab": {
          "base_uri": "https://localhost:8080/"
        },
        "outputId": "8a44dfc7-c73d-4be4-f36d-e55c064ecc4b",
        "collapsed": true
      },
      "execution_count": 8,
      "outputs": [
        {
          "output_type": "stream",
          "name": "stdout",
          "text": [
            "1\n",
            "2\n",
            "3\n",
            "4\n",
            "5\n",
            "6\n",
            "7\n",
            "8\n",
            "9\n",
            "10\n"
          ]
        }
      ]
    },
    {
      "cell_type": "code",
      "source": [
        "# 13. Write a Python program to find the sum of all even numbers between 1 and 50.\n",
        "minimum = 1\n",
        "maximum = 50\n",
        "sum = 0\n",
        "while minimum <= maximum:\n",
        "  if minimum % 2 == 0:\n",
        "    print(minimum)\n",
        "    sum+=minimum\n",
        "  minimum+=1\n",
        "print(\"The sum of all even numbers between 1 and 50 is {}\".format(sum))"
      ],
      "metadata": {
        "id": "e6m68SqMYDvJ",
        "colab": {
          "base_uri": "https://localhost:8080/"
        },
        "outputId": "23a9e410-1c8d-44b2-8b78-3fdaf97460d9",
        "collapsed": true
      },
      "execution_count": 9,
      "outputs": [
        {
          "output_type": "stream",
          "name": "stdout",
          "text": [
            "2\n",
            "4\n",
            "6\n",
            "8\n",
            "10\n",
            "12\n",
            "14\n",
            "16\n",
            "18\n",
            "20\n",
            "22\n",
            "24\n",
            "26\n",
            "28\n",
            "30\n",
            "32\n",
            "34\n",
            "36\n",
            "38\n",
            "40\n",
            "42\n",
            "44\n",
            "46\n",
            "48\n",
            "50\n",
            "The sum of all even numbers between 1 and 50 is 650\n"
          ]
        }
      ]
    },
    {
      "cell_type": "code",
      "source": [
        "# 14. Write a program to reverse a string using a while loop.\n",
        "string = \"Hello\"\n",
        "rev_str = \"\"\n",
        "i = len(string)-1\n",
        "while i >= 0:\n",
        "  rev_str+=string[i]\n",
        "  i-=1\n",
        "\n",
        "print(\"Reversed String: \",rev_str)"
      ],
      "metadata": {
        "id": "2UB4qFw5YFGF",
        "colab": {
          "base_uri": "https://localhost:8080/"
        },
        "outputId": "7c6a4a36-80a8-4c12-88cf-31c65aeffae9"
      },
      "execution_count": 26,
      "outputs": [
        {
          "output_type": "stream",
          "name": "stdout",
          "text": [
            "Reversed String:  olleH\n"
          ]
        }
      ]
    },
    {
      "cell_type": "code",
      "source": [
        "# 15. Write a Python program to calculate the factorial of a number provided by the user using a while loop.\n",
        "num = int(input(\"Enter a number which required factorial: \"))\n",
        "fac = 1\n",
        "i=1\n",
        "while i <= num:\n",
        "  fac*=i\n",
        "  i+=1\n",
        "print(\"The factorial of {} is {}.\".format(num,fac))"
      ],
      "metadata": {
        "id": "42IpRtOYYFSU",
        "colab": {
          "base_uri": "https://localhost:8080/"
        },
        "outputId": "4a16b001-b938-4afd-8c99-5536c558edec"
      },
      "execution_count": 12,
      "outputs": [
        {
          "output_type": "stream",
          "name": "stdout",
          "text": [
            "Enter a number which required factorial: 5\n",
            "The factorial of 5 is 120.\n"
          ]
        }
      ]
    }
  ]
}