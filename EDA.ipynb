{
  "nbformat": 4,
  "nbformat_minor": 0,
  "metadata": {
    "colab": {
      "provenance": []
    },
    "kernelspec": {
      "name": "python3",
      "display_name": "Python 3"
    },
    "language_info": {
      "name": "python"
    }
  },
  "cells": [
    {
      "cell_type": "code",
      "execution_count": null,
      "metadata": {
        "id": "ZkKzy9iF-BLJ"
      },
      "outputs": [],
      "source": [
        "import pandas as pd\n",
        "import numpy as np\n",
        "import matplotlib.pyplot as plt\n",
        "import seaborn as sns\n",
        "\n",
        "import warnings\n",
        "warnings.filterwarnings('ignore')"
      ]
    },
    {
      "cell_type": "markdown",
      "source": [
        "# **EDA - 1**"
      ],
      "metadata": {
        "id": "vTkCZdF0-zHs"
      }
    },
    {
      "cell_type": "code",
      "source": [
        "df = pd.read_csv(\"BIKE DETAILS.csv\")"
      ],
      "metadata": {
        "id": "dYO-vHpC7Bka"
      },
      "execution_count": null,
      "outputs": []
    },
    {
      "cell_type": "code",
      "source": [
        "# 1. What is the range of selling prices in the dataset?\n",
        "\n",
        "min_price = df['selling_price'].min()\n",
        "max_price = df['selling_price'].max()\n",
        "\n",
        "print(f\"The Range of selling price is {min_price} to {max_price}\")"
      ],
      "metadata": {
        "id": "1DOMum1dXr1p"
      },
      "execution_count": null,
      "outputs": []
    },
    {
      "cell_type": "code",
      "source": [
        "# 2. What is the median selling price for bikes in the dataset?\n",
        "\n",
        "median_price = df['selling_price'].median()\n",
        "\n",
        "print(f\"The median selling price for bikes is: {median_price}\")"
      ],
      "metadata": {
        "id": "l_-faThZ7eGq"
      },
      "execution_count": null,
      "outputs": []
    },
    {
      "cell_type": "code",
      "source": [
        "# 3. What is the most common seller type?\n",
        "\n",
        "most_common_seller_type = df['seller_type'].mode()[0]\n",
        "\n",
        "print(f\"The most common seller type is: {most_common_seller_type}\")"
      ],
      "metadata": {
        "id": "crFQmwzR7eY7"
      },
      "execution_count": null,
      "outputs": []
    },
    {
      "cell_type": "code",
      "source": [
        "# 4. How many bikes have driven more than 50,000 kilometers?\n",
        "\n",
        "bikes_above_50k_km = df[df['km_driven'] > 50000]['km_driven'].count()\n",
        "\n",
        "print(f\"Number of bikes driven more than 50,000 kilometers: {bikes_above_50k_km}\")"
      ],
      "metadata": {
        "id": "iDsb2bA77eiV"
      },
      "execution_count": null,
      "outputs": []
    },
    {
      "cell_type": "code",
      "source": [
        "# 5. What is the average km_driven value for each ownership type?\n",
        "\n",
        "avg_km_driven = df.groupby('owner')['km_driven'].mean()\n",
        "\n",
        "print(f\"The average km_driven value for each ownership type is {avg_km_driven}\")"
      ],
      "metadata": {
        "id": "6M1Mj2Rb7eqE"
      },
      "execution_count": null,
      "outputs": []
    },
    {
      "cell_type": "code",
      "source": [
        "# 6. What proportion of bikes are from the year 2015 or older?\n",
        "\n",
        "total_bikes = len(df)\n",
        "\n",
        "older_bikes = df[df['year'] <= 2015]\n",
        "\n",
        "# Calculate the number of older bikes\n",
        "num_older_bikes = len(older_bikes)\n",
        "\n",
        "# Calculate the proportion\n",
        "proportion_older_bikes = num_older_bikes / total_bikes\n",
        "\n",
        "print(f\"Proportion of bikes from 2015 or older: {proportion_older_bikes:.2f}\")"
      ],
      "metadata": {
        "id": "IppdnCyU7e_x"
      },
      "execution_count": null,
      "outputs": []
    },
    {
      "cell_type": "code",
      "source": [
        "# 7. What is the trend of missing values across the dataset?\n",
        "\n",
        "missing_values = df.isnull().sum()\n",
        "missing_percentage = (missing_values / len(df)) * 100\n",
        "\n",
        "plt.figure(figsize=(10, 6))\n",
        "sns.barplot(x=missing_percentage.index, y=missing_percentage.values)\n",
        "plt.xticks(rotation=45)\n",
        "plt.title('Percentage of Missing Values per Column')\n",
        "plt.xlabel('Columns')\n",
        "plt.ylabel('Percentage of Missing Values')\n",
        "plt.show()\n",
        "\n",
        "print(\"Missing Value Counts:\\n\", missing_values)\n",
        "print(\"\\nMissing Value Percentages:\\n\", missing_percentage)"
      ],
      "metadata": {
        "id": "tqw0dOax7fJL"
      },
      "execution_count": null,
      "outputs": []
    },
    {
      "cell_type": "code",
      "source": [
        "# 8. What is the highest ex_showroom_price recorded, and for which bike?\n",
        "\n",
        "highest_price = df['ex_showroom_price'].max()\n",
        "\n",
        "bike_highest = df[df['ex_showroom_price'] == highest_price]['name'].values[0]\n",
        "\n",
        "print(f\"The highest ex_showroom_price recorded is: {highest_price}\")\n",
        "print(f\"The highest bike record is: {bike_highest}\")"
      ],
      "metadata": {
        "id": "wL-uIMoR99-i"
      },
      "execution_count": null,
      "outputs": []
    },
    {
      "cell_type": "code",
      "source": [
        "# 9. What is the total number of bikes listed by each seller type?\n",
        "\n",
        "bikes_by_seller_type = df.groupby('seller_type')['name'].count()\n",
        "print(\"Total number of bikes listed by each seller type:\\n\", bikes_by_seller_type)"
      ],
      "metadata": {
        "id": "bxACl-rx9-IN"
      },
      "execution_count": null,
      "outputs": []
    },
    {
      "cell_type": "code",
      "source": [
        "# 10. What is the relationship between selling_price and km_driven for first-owner bikes?\n",
        "\n",
        "first_owner_bikes = df[df['owner'] == '1st owner']\n",
        "\n",
        "plt.figure(figsize=(10, 6))\n",
        "sns.scatterplot(x='km_driven', y='selling_price', data=first_owner_bikes)\n",
        "plt.title('Relationship between Selling Price and Km Driven for First-Owner Bikes')\n",
        "plt.xlabel('Km Driven')\n",
        "plt.ylabel('Selling Price')\n",
        "plt.show()\n",
        "\n",
        "correlation = first_owner_bikes['selling_price'].corr(first_owner_bikes['km_driven'])\n",
        "print(f\"Correlation coefficient between selling_price and km_driven for first-owner bikes: {correlation}\")"
      ],
      "metadata": {
        "id": "oj0vJP459-Qt"
      },
      "execution_count": null,
      "outputs": []
    },
    {
      "cell_type": "code",
      "source": [
        "# 11. Identify and remove outliers in the km_driven column using the IQR method.\n",
        "\n",
        "Q1 = df['km_driven'].quantile(0.25)\n",
        "Q3 = df['km_driven'].quantile(0.75)\n",
        "IQR = Q3 - Q1\n",
        "\n",
        "lower_bound = Q1 - 1.5 * IQR\n",
        "upper_bound = Q3 + 1.5 * IQR\n",
        "\n",
        "df_no_outliers = df[(df['km_driven'] >= lower_bound) & (df['km_driven'] <= upper_bound)]\n",
        "\n",
        "print(\"Original DataFrame shape:\", df.shape)\n",
        "print(\"DataFrame shape after removing outliers:\", df_no_outliers.shape)"
      ],
      "metadata": {
        "id": "F4DpsKPiCot2"
      },
      "execution_count": null,
      "outputs": []
    },
    {
      "cell_type": "code",
      "source": [
        "# 12. Perform a bivariate analysis to visualize the relationship between year and selling_price.\n",
        "\n",
        "plt.figure(figsize=(10, 6))\n",
        "sns.scatterplot(x='year', y='selling_price', data=df)\n",
        "plt.title('Relationship between Year and Selling Price')\n",
        "plt.xlabel('Year')\n",
        "plt.ylabel('Selling Price')\n",
        "plt.show()\n",
        "\n",
        "correlation = df['year'].corr(df['selling_price'])\n",
        "print(f\"Correlation coefficient between year and selling_price: {correlation}\")"
      ],
      "metadata": {
        "id": "Fu-0OEdLCo5E"
      },
      "execution_count": null,
      "outputs": []
    },
    {
      "cell_type": "code",
      "source": [
        "# 13. What is the average depreciation in selling price based on the bike's age (current year - manufacturing year)?\n",
        "\n",
        "current_year = 2023  # Replace with the current year if needed\n",
        "df['bike_age'] = current_year - df['year']\n",
        "\n",
        "average_selling_price_by_age = df.groupby('bike_age')['selling_price'].mean()\n",
        "\n",
        "depreciation = average_selling_price_by_age.iloc[0] - average_selling_price_by_age\n",
        "\n",
        "print(\"Average Depreciation by Bike Age:\\n\", depreciation)"
      ],
      "metadata": {
        "id": "QWwsX3zCCpC4"
      },
      "execution_count": null,
      "outputs": []
    },
    {
      "cell_type": "code",
      "source": [
        "# 14. Which bike names are priced significantly above the average price for their manufacturing year?\n",
        "\n",
        "average_price_by_year = df.groupby('year')['selling_price'].mean()\n",
        "\n",
        "def is_significantly_above_average(row, threshold=1.5):\n",
        "\n",
        "  year_average = average_price_by_year.loc[row['year']]\n",
        "  return row['selling_price'] > threshold * year_average\n",
        "\n",
        "\n",
        "df['above_average'] = df.apply(is_significantly_above_average, axis=1)\n",
        "\n",
        "bikes_above_average = df[df['above_average']]['name'].unique()\n",
        "print(\"Bikes priced significantly above average for their manufacturing year:\")\n",
        "for bike in bikes_above_average:\n",
        "    print(bike)"
      ],
      "metadata": {
        "id": "FWuBjyFYCpdR"
      },
      "execution_count": null,
      "outputs": []
    },
    {
      "cell_type": "code",
      "source": [
        "# 15. Develop a correlation matrix for numeric columns and visualize it using a heatmap.\n",
        "\n",
        "numeric_cols = df.select_dtypes(include=['number']).columns\n",
        "\n",
        "correlation_matrix = df[numeric_cols].corr()\n",
        "\n",
        "plt.figure(figsize=(10, 8))\n",
        "sns.heatmap(correlation_matrix, annot=True, cmap='coolwarm', fmt=\".2f\")\n",
        "plt.title('Correlation Matrix of Numeric Columns')\n",
        "plt.show()"
      ],
      "metadata": {
        "id": "eSqUEZrdCpr8"
      },
      "execution_count": null,
      "outputs": []
    },
    {
      "cell_type": "markdown",
      "source": [
        "# **EDA - 2**"
      ],
      "metadata": {
        "id": "aP045-ahpvCh"
      }
    },
    {
      "cell_type": "code",
      "source": [
        "df = pd.read_csv(\"Car Sale.csv\")"
      ],
      "metadata": {
        "id": "K93GlSHlMCaq"
      },
      "execution_count": null,
      "outputs": []
    },
    {
      "cell_type": "code",
      "source": [
        "# 1. What is the average selling price of cars for each dealer, and how does it compare across different dealers?\n",
        "\n",
        "dealer_avg_price = df.groupby('Dealer_Name')['Price ($)'].mean()\n",
        "print(dealer_avg_price)\n",
        "\n",
        "plt.figure(figsize=(10, 6))\n",
        "plt.bar(dealer_avg_price.index, dealer_avg_price.values)\n",
        "plt.xlabel(\"Dealer\")\n",
        "plt.ylabel(\"Average Selling Price\")\n",
        "plt.title(\"Average Selling Price of Cars for Each Dealer\")\n",
        "plt.xticks(rotation=90, ha='right')\n",
        "plt.tight_layout()\n",
        "plt.show()"
      ],
      "metadata": {
        "id": "Wi-5WHjpXNR3"
      },
      "execution_count": null,
      "outputs": []
    },
    {
      "cell_type": "code",
      "source": [
        "# 2. Which car brand (Company) has the highest variation in prices, and what does this tell us about the pricing trends?\n",
        "\n",
        "brand_price_variation = df.groupby('Company')['Price ($)'].std()\n",
        "\n",
        "highest_variation_brand = brand_price_variation.idxmax()\n",
        "\n",
        "print(f\"The car brand with the highest price variation is: {highest_variation_brand}\")\n",
        "print(f\"Standard Deviation of Prices for {highest_variation_brand}: {brand_price_variation.max()}\")"
      ],
      "metadata": {
        "id": "_mbMXkWOXNvY"
      },
      "execution_count": null,
      "outputs": []
    },
    {
      "cell_type": "code",
      "source": [
        "# 3. What is the distribution of car prices for each transmission type, and how do the interquartile ranges compare?\n",
        "\n",
        "plt.figure(figsize=(8, 6))\n",
        "sns.boxplot(x='Transmission', y='Price ($)', data=df)\n",
        "plt.title('Distribution of Car Prices by Transmission Type')\n",
        "plt.xlabel('Transmission Type')\n",
        "plt.ylabel('Selling Price')\n",
        "plt.show()\n",
        "\n",
        "for transmission_type in df['Transmission'].unique():\n",
        "    q1 = df[df['Transmission'] == transmission_type]['Price ($)'].quantile(0.25)\n",
        "    q3 = df[df['Transmission'] == transmission_type]['Price ($)'].quantile(0.75)\n",
        "    iqr = q3 - q1\n",
        "    print(f\"IQR for {transmission_type}: {iqr}\")"
      ],
      "metadata": {
        "id": "MhMLVXsDXN5I"
      },
      "execution_count": null,
      "outputs": []
    },
    {
      "cell_type": "code",
      "source": [
        "# 4. What is the distribution of car prices across different regions?\n",
        "\n",
        "plt.figure(figsize=(10, 6))\n",
        "sns.boxplot(x='Dealer_Region', y='Price ($)', data=df)\n",
        "plt.title('Distribution of Car Prices Across Different Regions')\n",
        "plt.xlabel('Region')\n",
        "plt.ylabel('Selling Price')\n",
        "plt.xticks(rotation=45, ha='right')\n",
        "plt.tight_layout()\n",
        "plt.show()\n",
        "\n",
        "region_stats = df.groupby('Dealer_Region')['Price ($)'].describe()\n",
        "print(region_stats)"
      ],
      "metadata": {
        "id": "ABQT7zAUXOBi"
      },
      "execution_count": null,
      "outputs": []
    },
    {
      "cell_type": "code",
      "source": [
        "# 5. What is the distribution of cars based on body styles?\n",
        "\n",
        "body_style_counts = df['Body Style'].value_counts()\n",
        "\n",
        "plt.figure(figsize=(10, 6))\n",
        "plt.bar(body_style_counts.index, body_style_counts.values)\n",
        "plt.title('Distribution of Cars Based on Body Styles')\n",
        "plt.xlabel('Body Style')\n",
        "plt.ylabel('Number of Cars')\n",
        "plt.xticks(rotation=45, ha='right')\n",
        "plt.tight_layout()\n",
        "plt.show()\n",
        "\n",
        "print(body_style_counts)"
      ],
      "metadata": {
        "id": "G-pB3ZUeXOK3"
      },
      "execution_count": null,
      "outputs": []
    },
    {
      "cell_type": "code",
      "source": [
        "# 6. How does the average selling price of cars vary by customer gender and annual income?\n",
        "\n",
        "gender_income_avg_price = df.groupby(['Gender', 'Annual Income'])['Price ($)'].mean().unstack()\n",
        "\n",
        "plt.figure(figsize=(10, 6))\n",
        "sns.heatmap(gender_income_avg_price, annot=True, cmap='viridis', fmt=\".2f\")\n",
        "plt.title('Average Selling Price by Gender and Annual Income')\n",
        "plt.xlabel('Annual Income')\n",
        "plt.ylabel('Gender')\n",
        "plt.show()\n",
        "\n",
        "print(gender_income_avg_price)"
      ],
      "metadata": {
        "id": "g_UpJSvCXOU-"
      },
      "execution_count": null,
      "outputs": []
    },
    {
      "cell_type": "code",
      "source": [
        "# 7. What is the distribution of car prices by region, and how does the number of cars sold vary by region?\n",
        "\n",
        "# Distribution of Car Prices by Region:\n",
        "plt.figure(figsize=(10, 6))\n",
        "sns.boxplot(x='Dealer_Region', y='Price ($)', data=df)\n",
        "plt.title('Distribution of Car Prices by Region')\n",
        "plt.xlabel('Dealer Region:')\n",
        "plt.ylabel('Selling Price')\n",
        "plt.xticks(rotation=45, ha='right')\n",
        "plt.tight_layout()\n",
        "plt.show()\n",
        "\n",
        "# Number of Cars Sold by Region:\n",
        "cars_sold_by_region = df['Dealer_Region'].value_counts()\n",
        "\n",
        "plt.figure(figsize=(10, 6))\n",
        "plt.bar(cars_sold_by_region.index, cars_sold_by_region.values)\n",
        "plt.title('Number of Cars Sold by Region')\n",
        "plt.xlabel('Dealer Region:')\n",
        "plt.ylabel('Number of Cars Sold')\n",
        "plt.xticks(rotation=45, ha='right')\n",
        "plt.tight_layout()\n",
        "plt.show()\n",
        "\n",
        "print(cars_sold_by_region)"
      ],
      "metadata": {
        "id": "vj71EdQmXOe6"
      },
      "execution_count": null,
      "outputs": []
    },
    {
      "cell_type": "code",
      "source": [
        "# 8. How does the average car price differ between cars with different engine sizes?\n",
        "\n",
        "engine_size_avg_price = df.groupby('Engine')['Price ($)'].mean()\n",
        "\n",
        "plt.figure(figsize=(10, 6))\n",
        "plt.bar(engine_size_avg_price.index, engine_size_avg_price.values)\n",
        "plt.title('Average Car Price by Engine Size')\n",
        "plt.xlabel('Engine Size')\n",
        "plt.ylabel('Average Selling Price')\n",
        "plt.xticks(rotation=45, ha='right')  # Rotate x-axis labels for better readability\n",
        "plt.tight_layout()\n",
        "plt.show()\n",
        "\n",
        "print(engine_size_avg_price)"
      ],
      "metadata": {
        "id": "kKux48hxXOo7"
      },
      "execution_count": null,
      "outputs": []
    },
    {
      "cell_type": "code",
      "source": [
        "# 9. How do car prices vary based on the customer’s annual income bracket?\n",
        "\n",
        "income_brackets = [0, 50000, 100000, 150000, 200000, float('inf')]\n",
        "income_labels = ['<50K', '50K-100K', '100K-150K', '150K-200K', '>200K']\n",
        "\n",
        "df['Income_Bracket'] = pd.cut(df['Annual Income'], bins=income_brackets, labels=income_labels)\n",
        "\n",
        "plt.figure(figsize=(10, 6))\n",
        "sns.boxplot(x='Income_Bracket', y='Price ($)', data=df)\n",
        "plt.title('Distribution of Car Prices by Annual Income Bracket')\n",
        "plt.xlabel('Annual Income Bracket')\n",
        "plt.ylabel('Selling Price')\n",
        "plt.xticks(rotation=45, ha='right')\n",
        "plt.tight_layout()\n",
        "plt.show()\n",
        "\n",
        "income_bracket_stats = df.groupby('Income_Bracket')['Price ($)'].describe()\n",
        "print(income_bracket_stats)"
      ],
      "metadata": {
        "id": "cLV2RtdgXOxb"
      },
      "execution_count": null,
      "outputs": []
    },
    {
      "cell_type": "code",
      "source": [
        "# 10. What are the top 5 car models with the highest number of sales, and how does their price distribution look?\n",
        "\n",
        "top_5_models = df['Model'].value_counts().head(5).index\n",
        "filtered_df = df[df['Model'].isin(top_5_models)]\n",
        "\n",
        "plt.figure(figsize=(10, 6))\n",
        "sns.boxplot(x='Model', y='Price ($)', data=filtered_df)\n",
        "plt.title('Price Distribution of Top 5 Car Models by Sales')\n",
        "plt.xlabel('Car Model')\n",
        "plt.ylabel('Selling Price')\n",
        "plt.xticks(rotation=45, ha='right')\n",
        "plt.tight_layout()\n",
        "plt.show()\n",
        "\n",
        "model_price_stats = filtered_df.groupby('Model')['Price ($)'].describe()\n",
        "print(model_price_stats)"
      ],
      "metadata": {
        "id": "ykpe7Fe_XO6-"
      },
      "execution_count": null,
      "outputs": []
    },
    {
      "cell_type": "code",
      "source": [
        "# 11. How does car price vary with engine size across different car colors, and which colors have the highest price variation?\n",
        "\n",
        "color_engine_price = df.groupby(['Color', 'Engine'])['Price ($)'].mean().reset_index()\n",
        "\n",
        "plt.figure(figsize=(10, 6))\n",
        "sns.scatterplot(x='Engine', y='Price ($)', hue='Color', data=color_engine_price)\n",
        "plt.title('Car Price Variation with Engine Size and Color')\n",
        "plt.xlabel('Engine Size')\n",
        "plt.ylabel('Average Selling Price')\n",
        "plt.legend(title='Color', bbox_to_anchor=(1.05, 1), loc='upper left')\n",
        "plt.show()\n",
        "\n",
        "color_price_variation = df.groupby('Color')['Price ($)'].std()\n",
        "\n",
        "highest_variation_color = color_price_variation.idxmax()\n",
        "\n",
        "print(f\"The car color with the highest price variation is: {highest_variation_color}\")\n",
        "print(f\"Standard Deviation of Prices for {highest_variation_color}: {color_price_variation.max()}\")"
      ],
      "metadata": {
        "id": "oFO0VcDeq5bF"
      },
      "execution_count": null,
      "outputs": []
    },
    {
      "cell_type": "code",
      "source": [
        "# 12. Is there any seasonal trend in car sales based on the date of sale?\n",
        "\n",
        "df['Sale Date'] = pd.to_datetime(df['Sale Date'])\n",
        "\n",
        "df['Sale Month'] = df['Sale Date'].dt.month\n",
        "df['Sale Year'] = df['Sale Date'].dt.year\n",
        "\n",
        "monthly_sales = df.groupby('Sale Month')['Price ($)'].sum()\n",
        "yearly_sales = df.groupby('Sale Year')['Price ($)'].sum()\n",
        "\n",
        "plt.figure(figsize=(10, 6))\n",
        "plt.plot(monthly_sales.index, monthly_sales.values)\n",
        "plt.title('Seasonal Trend in Car Sales')\n",
        "plt.xlabel('Month')\n",
        "plt.ylabel('Total Sales Value')\n",
        "plt.show()"
      ],
      "metadata": {
        "id": "5BOF736aq5l_"
      },
      "execution_count": null,
      "outputs": []
    },
    {
      "cell_type": "code",
      "source": [
        "# 13. How does the car price distribution change when considering different combinations of body style and transmission type?\n",
        "\n",
        "plt.figure(figsize=(12, 8))\n",
        "sns.boxplot(x='Body Style', y='Price ($)', hue='Transmission', data=df)\n",
        "plt.title('Car Price Distribution by Body Style and Transmission Type')\n",
        "plt.xlabel('Body Style')\n",
        "plt.ylabel('Selling Price')\n",
        "plt.xticks(rotation=45, ha='right')\n",
        "plt.tight_layout()\n",
        "plt.show()\n",
        "\n",
        "body_transmission_stats = df.groupby(['Body Style', 'Transmission'])['Price ($)'].describe()\n",
        "print(body_transmission_stats)"
      ],
      "metadata": {
        "id": "q0ZsoSEFq5ul"
      },
      "execution_count": null,
      "outputs": []
    },
    {
      "cell_type": "code",
      "source": [
        "# 14. What is the correlation between car price, engine size, and annual income of customers, and how do these features interact?\n",
        "\n",
        "correlation_matrix = df[['Price ($)', 'Annual Income']].corr()\n",
        "print(correlation_matrix)\n",
        "\n",
        "plt.figure(figsize=(8, 6))\n",
        "sns.heatmap(correlation_matrix, annot=True, cmap='coolwarm', fmt=\".2f\")\n",
        "plt.title('Correlation Matrix of Car Price, Engine Size, and Annual Income')\n",
        "plt.show()\n",
        "\n",
        "plt.figure(figsize=(10, 6))\n",
        "sns.scatterplot(x='Engine', y='Price ($)', hue='Annual Income', data=df)\n",
        "plt.title('Car Price vs. Engine Size, Colored by Annual Income')\n",
        "plt.show()"
      ],
      "metadata": {
        "id": "DVGZoPFfq58t"
      },
      "execution_count": null,
      "outputs": []
    },
    {
      "cell_type": "code",
      "source": [
        "# 15. How does the average car price vary across different car models and engine types?\n",
        "\n",
        "model_engine_avg_price = df.groupby(['Model', 'Engine'])['Price ($)'].mean().reset_index()\n",
        "\n",
        "plt.figure(figsize=(12, 8))\n",
        "sns.barplot(x='Model', y='Price ($)', hue='Engine', data=model_engine_avg_price)\n",
        "plt.title('Average Car Price by Model and Engine Type')\n",
        "plt.xlabel('Car Model')\n",
        "plt.ylabel('Average Price ($)')\n",
        "plt.xticks(rotation=45, ha='right')\n",
        "plt.tight_layout()\n",
        "plt.show()\n",
        "\n",
        "model_engine_price_pivot = model_engine_avg_price.pivot(index='Model', columns='Engine', values='Price ($)')\n",
        "plt.figure(figsize=(10, 8))\n",
        "sns.heatmap(model_engine_price_pivot, annot=True, cmap='viridis', fmt=\".2f\")\n",
        "plt.title('Average Car Price by Model and Engine Type')\n",
        "plt.xlabel('Engine Type')\n",
        "plt.ylabel('Car Model')\n",
        "plt.show()"
      ],
      "metadata": {
        "id": "qMIamcWeq6OQ"
      },
      "execution_count": null,
      "outputs": []
    },
    {
      "cell_type": "markdown",
      "source": [
        "# **EDA - 3**"
      ],
      "metadata": {
        "id": "YzDcSX6zrcqK"
      }
    },
    {
      "cell_type": "code",
      "source": [
        "df = pd.read_csv(\"amazon.csv\")"
      ],
      "metadata": {
        "id": "xvZ7Q5DoWVEG"
      },
      "execution_count": null,
      "outputs": []
    },
    {
      "cell_type": "code",
      "source": [
        "# 1. What is the average rating for each product category?\n",
        "\n",
        "average_ratings = df.groupby('category')['rating'].mean()\n",
        "print(average_ratings)"
      ],
      "metadata": {
        "id": "tiZOIme4LRxD"
      },
      "execution_count": null,
      "outputs": []
    },
    {
      "cell_type": "code",
      "source": [
        "# 2. What are the top rating_count products by category?\n",
        "\n",
        "top_products_by_category = df.loc[df.groupby('category')['rating_count'].idxmax()]\n",
        "print(top_products_by_category[['category', 'product_name', 'rating_count']])"
      ],
      "metadata": {
        "id": "LeDTwULjLSU7"
      },
      "execution_count": null,
      "outputs": []
    },
    {
      "cell_type": "code",
      "source": [
        "# 3. What is the distribution of discounted prices vs. actual prices?\n",
        "\n",
        "plt.figure(figsize=(10, 6))\n",
        "sns.histplot(df['discounted_price'], label='Discounted Price', color='blue', kde=True)\n",
        "sns.histplot(df['actual_price'], label='Actual Price', color='red', kde=True)\n",
        "plt.title('Distribution of Discounted Prices vs. Actual Prices')\n",
        "plt.xlabel('Price')\n",
        "plt.ylabel('Frequency')\n",
        "plt.legend()\n",
        "plt.show()"
      ],
      "metadata": {
        "id": "K9yr_I0mLSf_"
      },
      "execution_count": null,
      "outputs": []
    },
    {
      "cell_type": "code",
      "source": [
        "# 4. How does the average discount percentage vary across categories?\n",
        "\n",
        "df[\"discount_percentage\"] = ((df[\"actual_price\"] - df[\"discounted_price\"]) / df[\"actual_price\"]) * 100\n",
        "\n",
        "average_discount_by_category = df.groupby('category')['discount_percentage'].mean()\n",
        "\n",
        "average_discount_by_category = average_discount_by_category.sort_values(ascending=False)\n",
        "\n",
        "plt.figure(figsize=(12, 6))\n",
        "sns.barplot(x=average_discount_by_category.index, y=average_discount_by_category.values)\n",
        "plt.title('Average Discount Percentage by Product Category')\n",
        "plt.xlabel('Product Category')\n",
        "plt.ylabel('Average Discount Percentage')\n",
        "plt.xticks(rotation=90, ha='right')\n",
        "plt.tight_layout()\n",
        "plt.show()\n",
        "\n",
        "print(average_discount_by_category)"
      ],
      "metadata": {
        "id": "c0AfiiZkLSnW"
      },
      "execution_count": null,
      "outputs": []
    },
    {
      "cell_type": "code",
      "source": [
        "# 5. What are the most popular product names?\n",
        "\n",
        "product_name_counts = df['product_name'].value_counts()\n",
        "\n",
        "top_n = 10\n",
        "most_popular_products = product_name_counts.head(top_n)\n",
        "\n",
        "print(most_popular_products)"
      ],
      "metadata": {
        "id": "-iPqsHU0LS2f"
      },
      "execution_count": null,
      "outputs": []
    },
    {
      "cell_type": "code",
      "source": [
        "# 6. What are the most popular product keywords?\n",
        "\n",
        "from collections import Counter\n",
        "\n",
        "all_product_names = ' '.join(df['product_name'].astype(str).tolist())\n",
        "\n",
        "words = all_product_names.lower().split()\n",
        "\n",
        "word_counts = Counter(words)\n",
        "\n",
        "top_n = 10\n",
        "most_popular_keywords = word_counts.most_common(top_n)\n",
        "\n",
        "print(most_popular_keywords)"
      ],
      "metadata": {
        "id": "NEi7_Nt7LTlz"
      },
      "execution_count": null,
      "outputs": []
    },
    {
      "cell_type": "code",
      "source": [
        "# 7. What are the most popular product reviews?\n",
        "\n",
        "popular_products = df.sort_values(by=['rating_count'], ascending=False)\n",
        "\n",
        "top_n = 10\n",
        "top_products = popular_products.head(top_n)\n",
        "\n",
        "print(top_products[['product_name', 'rating_count']])"
      ],
      "metadata": {
        "id": "DsYyAo8kLTxa"
      },
      "execution_count": null,
      "outputs": []
    },
    {
      "cell_type": "code",
      "source": [
        "# 8. What is the correlation between discounted_price and rating?\n",
        "\n",
        "correlation = df['discounted_price'].corr(df['rating'])\n",
        "print(f\"The correlation between discounted_price and rating is: {correlation}\")"
      ],
      "metadata": {
        "id": "Jtyj5bALLT7Z"
      },
      "execution_count": null,
      "outputs": []
    },
    {
      "cell_type": "code",
      "source": [
        "# 9. What are the Top 5 categories based on the highest ratings?\n",
        "\n",
        "average_ratings_by_category = df.groupby('category')['rating'].mean()\n",
        "\n",
        "top_5_categories = average_ratings_by_category.sort_values(ascending=False).head(5)\n",
        "\n",
        "print(top_5_categories)"
      ],
      "metadata": {
        "id": "CCQZz5DmLUFC"
      },
      "execution_count": null,
      "outputs": []
    },
    {
      "cell_type": "markdown",
      "source": [
        "10. Identify any potential areas for improvement or optimization based on the data analysis.\n",
        "  - any potential areas for improvement or optimization based on the data analysis we've performed on the Amazon product dataset are following identify\n",
        "      - Focus on High-Rated Categories\n",
        "      - Address Low-Rated Categories\n",
        "      - Optimize Discount Strategies\n",
        "      - Leverage Popular Product Names and Keywords\n",
        "      - Monitor Customer Reviews\n",
        "      - Category-Specific Promotions\n",
        "      - Enhance Product Discoverability\n",
        "      - Continuous Data Monitoring"
      ],
      "metadata": {
        "id": "OBbsU8QAvA_S"
      }
    },
    {
      "cell_type": "markdown",
      "source": [
        "# **EDA - 4**"
      ],
      "metadata": {
        "id": "tAVQ8eMztr8r"
      }
    },
    {
      "cell_type": "code",
      "source": [
        "df = pd.read_csv(\"spotify.csv\")"
      ],
      "metadata": {
        "id": "eZsK_kJ_dj1u"
      },
      "execution_count": null,
      "outputs": []
    },
    {
      "cell_type": "code",
      "source": [
        "# 1. Read the dataframe, check null value if present then do the needful, check duplicate row , if present then do the needful.\n",
        "\n",
        "print(\"Null value counts:\\n\", df.isnull().sum())\n",
        "print(\"\\nNumber of duplicate rows:\", df.duplicated().sum())\n",
        "\n",
        "df = df.drop_duplicates()\n",
        "\n",
        "print(\"\\nDataframe shape after cleaning:\", df.shape)"
      ],
      "metadata": {
        "id": "SpglWC5_kN2A"
      },
      "execution_count": null,
      "outputs": []
    },
    {
      "cell_type": "code",
      "source": [
        "# 2. What is the distribution of popularity among the tracks in the dataset? Visualize it using a histogram.\n",
        "\n",
        "plt.figure(figsize=(10, 6))\n",
        "sns.histplot(df['Popularity'], bins=30, kde=True)\n",
        "plt.title('Distribution of Track Popularity')\n",
        "plt.xlabel('Popularity')\n",
        "plt.ylabel('Frequency')\n",
        "plt.show()"
      ],
      "metadata": {
        "id": "8UceiRe9kOCt"
      },
      "execution_count": null,
      "outputs": []
    },
    {
      "cell_type": "code",
      "source": [
        "# 3. Is there any relationship between the popularity and the duration of tracks? Explore this using a scatter plot.\n",
        "\n",
        "plt.figure(figsize=(10, 6))\n",
        "sns.scatterplot(x='Duration (ms)', y='Popularity', data=df)\n",
        "plt.title('Relationship between Track Duration and Popularity')\n",
        "plt.xlabel('Duration (ms)')\n",
        "plt.ylabel('Popularity')\n",
        "plt.show()"
      ],
      "metadata": {
        "id": "46YQS4HQkSsb"
      },
      "execution_count": null,
      "outputs": []
    },
    {
      "cell_type": "code",
      "source": [
        "# 4. Which artist has the highest number of tracks in the dataset? Display the count of tracks for each artist using a countplot.\n",
        "\n",
        "artist_counts = df['Artist'].value_counts()\n",
        "\n",
        "artist_with_most_tracks = artist_counts.index[0]\n",
        "print(f\"The artist with the highest number of tracks is: {artist_with_most_tracks}\")\n",
        "\n",
        "plt.figure(figsize=(12, 6))\n",
        "sns.countplot(y='Artist', data=df, order=artist_counts.index)\n",
        "plt.title('Number of Tracks per Artist')\n",
        "plt.xlabel('Count')\n",
        "plt.ylabel('Artist')\n",
        "plt.show()"
      ],
      "metadata": {
        "id": "hH5ji_yckS50"
      },
      "execution_count": null,
      "outputs": []
    },
    {
      "cell_type": "code",
      "source": [
        "# 5. What are the top 5 least popular tracks in the dataset? Provide the artist name and track name for each.\n",
        "\n",
        "least_popular_tracks = df.sort_values(by=['Popularity']).head(5)\n",
        "\n",
        "for index, row in least_popular_tracks.iterrows():\n",
        "    print(f\"Artist: {row['Artist']}, Track: {row['Track Name']}, Popularity: {row['Popularity']}\")"
      ],
      "metadata": {
        "id": "SchdwvuOkTHY"
      },
      "execution_count": null,
      "outputs": []
    },
    {
      "cell_type": "code",
      "source": [
        "# 6. Among the top 5 most popular artists, which artist has the highest popularity on average? Calculate and display the average popularity for each artist.\n",
        "\n",
        "top_5_artists = df['Artist'].value_counts().head(5).index\n",
        "\n",
        "average_popularity = df[df['Artist'].isin(top_5_artists)].groupby('Artist')['Popularity'].mean()\n",
        "\n",
        "artist_with_highest_avg_popularity = average_popularity.idxmax()\n",
        "\n",
        "print(\"Average Popularity for Top 5 Artists:\")\n",
        "print(average_popularity)\n",
        "print(f\"\\nThe artist with the highest average popularity is: {artist_with_highest_avg_popularity}\")"
      ],
      "metadata": {
        "id": "LuZ6mccdmCae"
      },
      "execution_count": null,
      "outputs": []
    },
    {
      "cell_type": "code",
      "source": [
        "# 7. For the top 5 most popular artists, what are their most popular tracks? List the track name for each artist.\n",
        "\n",
        "top_5_artists = df['Artist'].value_counts().head(5).index\n",
        "\n",
        "for artist in top_5_artists:\n",
        "    artist_tracks = df[df['Artist'] == artist].sort_values(by=['Popularity'], ascending=False)\n",
        "\n",
        "    most_popular_track = artist_tracks.iloc[0]['Track Name']\n",
        "\n",
        "    print(f\"Artist: {artist}, Most Popular Track: {most_popular_track}\")"
      ],
      "metadata": {
        "id": "NKlWCeVcmCrZ"
      },
      "execution_count": null,
      "outputs": []
    },
    {
      "cell_type": "code",
      "source": [
        "# 8. Visualize relationships between multiple numerical variables simultaneously using a pair plot.\n",
        "\n",
        "sns.pairplot(df[['Popularity', 'Duration (ms)']])\n",
        "plt.show()"
      ],
      "metadata": {
        "id": "CZaKTohUmDCh"
      },
      "execution_count": null,
      "outputs": []
    },
    {
      "cell_type": "code",
      "source": [
        "# 9. Does the duration of tracks vary significantly across different artists? Explore this visually using a box plot or violin plot.\n",
        "\n",
        "# Box Plot\n",
        "plt.figure(figsize=(12, 6))  # Adjust figure size as needed\n",
        "sns.boxplot(x='Artist', y='Duration (ms)', data=df)\n",
        "plt.title('Distribution of Track Duration Across Artists (Box Plot)')\n",
        "plt.xlabel('Artist')\n",
        "plt.ylabel('Duration (ms)')\n",
        "plt.xticks(rotation=45, ha='right')  # Rotate x-axis labels for better readability\n",
        "plt.tight_layout()\n",
        "plt.show()\n",
        "\n",
        "# Violin Plot\n",
        "plt.figure(figsize=(12, 6))  # Adjust figure size as needed\n",
        "sns.violinplot(x='Artist', y='Duration (ms)', data=df)\n",
        "plt.title('Distribution of Track Duration Across Artists (Violin Plot)')\n",
        "plt.xlabel('Artist')\n",
        "plt.ylabel('Duration (ms)')\n",
        "plt.xticks(rotation=45, ha='right')  # Rotate x-axis labels for better readability\n",
        "plt.tight_layout()\n",
        "plt.show()"
      ],
      "metadata": {
        "id": "mP7nR4ocnLGH"
      },
      "execution_count": null,
      "outputs": []
    },
    {
      "cell_type": "code",
      "source": [
        "# 10. How does the distribution of track popularity vary for different artists? Visualize this using a swarm plot or a violin plot.\n",
        "\n",
        "# Swarm Plot\n",
        "plt.figure(figsize=(12, 6))\n",
        "sns.swarmplot(x='Artist', y='Popularity', data=df)\n",
        "plt.title('Distribution of Track Popularity Across Artists (Swarm Plot)')\n",
        "plt.xlabel('Artist')\n",
        "plt.ylabel('Popularity')\n",
        "plt.xticks(rotation=45, ha='right')  # Rotate x-axis labels for better readability\n",
        "plt.tight_layout()\n",
        "plt.show()\n",
        "\n",
        "# Violin Plot\n",
        "plt.figure(figsize=(12, 6))  # Adjust figure size as needed\n",
        "sns.violinplot(x='Artist', y='Popularity', data=df)\n",
        "plt.title('Distribution of Track Popularity Across Artists (Violin Plot)')\n",
        "plt.xlabel('Artist')\n",
        "plt.ylabel('Popularity')\n",
        "plt.xticks(rotation=45, ha='right')  # Rotate x-axis labels for better readability\n",
        "plt.tight_layout()\n",
        "plt.show()"
      ],
      "metadata": {
        "id": "cgXI_T3znLeZ"
      },
      "execution_count": null,
      "outputs": []
    }
  ]
}