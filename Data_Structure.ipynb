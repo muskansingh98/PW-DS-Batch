{
  "nbformat": 4,
  "nbformat_minor": 0,
  "metadata": {
    "colab": {
      "provenance": []
    },
    "kernelspec": {
      "name": "python3",
      "display_name": "Python 3"
    },
    "language_info": {
      "name": "python"
    }
  },
  "cells": [
    {
      "cell_type": "markdown",
      "source": [
        "1. What are data structures, and why are they important?\n",
        "  - Data structures are specialized way of organizing and storing collection of data in a computer.\n",
        "  - Data structure is important because of they are essential in programming, optimizing memory usage, improving performance, and simplifying complex operations\n",
        "\n",
        "2. Explain the difference between mutable and immutable data types with examples?\n",
        "  - **Mutable data** types are those whose values can be changed after they are created. This means you can modify the internal state of the object without creating a new one. But **Immutable data** types are those whose values cannot be changed after they are created. Any operation that appears to modify an immutable object actually creates a new object with the modified value.\n",
        "\n",
        "3. What are the main differences between lists and tuples in Python?\n",
        "  - **Lists** are mutable. i can modify a list after it's create. This means I can add, remove, and change elements within the list. It is define using square bracket `[]`. for example:\n",
        "\n",
        "    `my_list = [1, 2, 'mango', true, 2.5]`\n",
        "  - **Tuples** are immutable. if tuple is created, We Cann't change, add and remove it's elements. This makes tuple useful for storing data that should not be modified. It is define using parentheses `()`. for example\n",
        "\n",
        "    `my_tuple = (100, 200, 'apple', 2.5)`\n",
        "\n",
        "4. Describe how dictionaries store data?\n",
        "  - A dictionary is a data structure that stores the value in key: value pairs. It is a collection which is ordered, changeable and do not allow duplicates. They are written with curly brackets `{}`, and have keys and values. for example\n",
        "\n",
        "    `my_dict = {'name': 'Bob', 'age': 22, 'city': 'New York'}`\n",
        "\n",
        "5. Why might you use a set instead of a list in Python?\n",
        "  - Set need to store a collection of items where each item must be unique (no duplicates). If element is already present then duplicate value discard. If we try to add an element that already exists in the set, the set simply ignores that addition. It doesn't raise an error or change its structure. Example:\n",
        "\n",
        "    `my_set = {1,2,2,3,3,4,5}`\n",
        "  \n",
        "    then output:\n",
        "  \n",
        "    `{1,2,3,4,5}`\n",
        "\n",
        "6. What is a string in Python, and how is it different from a list?\n",
        "  - A **string** is a sequence of characters. It is immutable data structure means cann't change be change after created. We an be created using either single `‘` or double `“` quotes.\n",
        "  - **List** s are mutable means we can change, add, or remove element after it's created. but **string** can't changed after it's created.\n",
        "  - **Strings** Are used to represent text or character data. but **Lists** Are used to represent an ordered collection of items, which can be of any data type.\n",
        "\n",
        "\n",
        "7. How do tuples ensure data integrity in Python?\n",
        "  - Tuples ensure data integrity is through their immutable. if tuple is created, we Cann't change, add and remove it's elements. This makes tuple useful for storing data that should not be modified.\n",
        "\n",
        "8. What is a hash table, and how does it relate to dictionaries in Python?\n",
        " - A hash table is a data structure that provides a way to store and retrieve data very efficiently. It's designed for fast lookups, insertions, and deletions of key-value pairs. it is also known as a hash map.\n",
        " - In Python, dictionaries are implemented using hash tables. This means that the underlying mechanism for how dictionaries store and retrieve data is based on hash tables. It provides very fast lookups, insertions, and deletions is because of the hash table implementation.\n",
        "\n",
        "9. Can lists contain different data types in Python?\n",
        " - Yes lists can contain different data types in Python. we can mix strings, numbers (integers, floats), booleans, and even other data structures (like lists, tuples, set, or dictionaries) within a single list. Example\n",
        "\n",
        "    `my_list = [1, 2, 'mango', True, 2.5]`\n",
        "\n",
        "10. Explain why strings are immutable in Python?\n",
        " - Strings are “immutable” because they cann't be changed after they are created.\n",
        "\n",
        "11. What advantages do dictionaries offer over lists for certain tasks?\n",
        " - The primary advantage of dictionaries over lists is their ability to provide fast value retrieval using unique keys. This results in significantly faster data access, especially when dealing with large datasets. Dictionaries offer an average time complexity of O(1) for lookups, while lists require O(n) time complexity.\n",
        "\n",
        "12. Describe a scenario where using a tuple would be preferable over a list.\n",
        " - Scenario Storing data that should not be modified. Tuples ensure data integrity is through their immutable. if tuple is created, we Cann't change, add and remove it's elements. This makes tuple useful for storing data that should not be modified.\n",
        "\n",
        "13. How do sets handle duplicate values in Python?\n",
        " - Set can only contain unique elements. if element is already present then duplicate value discard. If we try to add an element that already exists in the set, the set simply ignores that addition. It doesn't raise an error or change its structure. Example\n",
        "\n",
        "      ![set.jpg](data:image/jpeg;base64,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)\n",
        "\n",
        "14. How does the “in” keyword work differently for lists and dictionaries?\n",
        " - The `in` keyword is used to check for membership. When we use in with a **list**, Python checks if a specific value is present in the list. and When we use in with a **dictionary**, Python checks if a specific key is present in the dictionary. It does not check for values.\n",
        "\n",
        "15. Can you modify the elements of a tuple? Explain why or why not.\n",
        " - No I cann't modify the elements of a tuple after it's create because it is immutable data structure. If i try to directly modify an element in tuple, python will raise a `TypeError`\n",
        "\n",
        "16. What is a nested dictionary, and give an example of its use case?\n",
        " - A nested dictionary is a dictionary inside a dictionary. It's a collection of dictionaries into one single dictionary. When you need to represent complex and hierarchical data, nested dictionaries come in handy. Example\n",
        "\n",
        "      `my_dict = {'dict1':{'name': 'John', 'age': 25},`\n",
        "    `'dict2':{'name': 'Alice', 'age': 30}}`\n",
        "    \n",
        "      `my_dict`\n",
        "\n",
        "        output:\n",
        "\n",
        "        `{'dict1':{'name': 'John', 'age': 25},'dict2':{'name': 'Alice', 'age': 30}}`\n",
        "\n",
        "17. Describe the time complexity of accessing elements in a dictionary.\n",
        " - Dictionaries provide a fast and efficient way to store and retrieve data using key value pair so understanding the time complexities of dictionary operations is very important for optimizing performance in our programs.\n",
        "\n",
        "18. In what situations are lists preferred over dictionaries.\n",
        " - Lists are mutable, meaning you can change, add, or remove elements after the list is created. If you need to modify the collection frequently, lists are preferable.\n",
        "\n",
        "19. Why are dictionaries considered unordered, and how does that affect data retrieval?\n",
        " - Dictionaries are unordered, because we cannot access elements by a numerical index like my_dict[0]. You must use the key `my_dict[key]` to get the corresponding value. We can't use positional indexing but allows for very fast data retrieval using keys.\n",
        "\n",
        "20. Explain the difference between a list and a dictionary in terms of data retrieval.\n",
        " - **Lists** are ordered collections of items and each item is assigned to an index value starting from 0. It is mutable, hence the elements can be modified after their creation. I have to use square brackets `[]`. for example :\n",
        "\n",
        "      `my_list = [1, 2, 'apple', 2.5, True]`\n",
        "\n",
        " - A **dictionary** is an unordered collection of data in the key: value pair form. It is also mutable. I can change the key-value pair after creating the dictionary. I have to use `{}`. for example :\n",
        "\n",
        "      `my_dict = {'name': 'Bob', 'age': 22, 'city': 'New York'}`\n"
      ],
      "metadata": {
        "id": "qtreWKk1cY1v"
      }
    },
    {
      "cell_type": "code",
      "source": [
        "# 1. Write a code to create a string with your name and print it.\n",
        "my_name = \"Muskan Singh\"\n",
        "print(my_name)"
      ],
      "metadata": {
        "id": "CV-RQ57JcaxW",
        "colab": {
          "base_uri": "https://localhost:8080/"
        },
        "outputId": "96889981-693d-4b9a-818e-a49ac4d9b77d"
      },
      "execution_count": null,
      "outputs": [
        {
          "output_type": "stream",
          "name": "stdout",
          "text": [
            "Muskan Singh\n"
          ]
        }
      ]
    },
    {
      "cell_type": "code",
      "source": [
        "# 2. Write a code to find the length of the string \"Hello World\".\n",
        "string = \"Hello World\"\n",
        "print(f'The length of string \"{string}\" is {len(string)}')"
      ],
      "metadata": {
        "id": "4Id25x_7cbC9",
        "colab": {
          "base_uri": "https://localhost:8080/"
        },
        "outputId": "85bd8014-4a96-4513-8cba-d94d538fff47"
      },
      "execution_count": null,
      "outputs": [
        {
          "output_type": "stream",
          "name": "stdout",
          "text": [
            "The length of string \"Hello World\" is 11\n"
          ]
        }
      ]
    },
    {
      "cell_type": "code",
      "source": [
        "# 3. Write a code to slice the first 3 characters from the string \"Python Programming\".\n",
        "String = \"Python Programming\"\n",
        "print(f'The first 3 characters of string \"{String}\" is \"{String[:3]}\"')"
      ],
      "metadata": {
        "id": "2Hkep-MpcbKZ",
        "colab": {
          "base_uri": "https://localhost:8080/"
        },
        "outputId": "eb8c6811-4276-4b5f-ba20-f173523afd2c"
      },
      "execution_count": null,
      "outputs": [
        {
          "output_type": "stream",
          "name": "stdout",
          "text": [
            "The first 3 characters of string \"Python Programming\" is \"Pyt\"\n"
          ]
        }
      ]
    },
    {
      "cell_type": "code",
      "source": [
        "# 4. Write a code to convert the string \"hello\" to uppercase.\n",
        "string = \"hello\"\n",
        "print(f'The String \"{string}\" to uppercase is \"{string.upper()}\"')"
      ],
      "metadata": {
        "id": "zjRkuDXtcbRw",
        "colab": {
          "base_uri": "https://localhost:8080/"
        },
        "outputId": "51a5ce84-004c-4e09-a086-5d6e67a2879c"
      },
      "execution_count": null,
      "outputs": [
        {
          "output_type": "stream",
          "name": "stdout",
          "text": [
            "The String \"hello\" to uppercase is \"HELLO\"\n"
          ]
        }
      ]
    },
    {
      "cell_type": "code",
      "source": [
        "# 5. Write a code to replace the word \"apple\" with \"orange\" in the string \"I like apple\".\n",
        "string = \"I like apple\"\n",
        "print(f'The string after replacing \"apple\" with \"orange\" is \"{string.replace(\"apple\", \"orange\")}\"')"
      ],
      "metadata": {
        "id": "5J8BBkFocbYg",
        "colab": {
          "base_uri": "https://localhost:8080/"
        },
        "outputId": "f7ce9288-e309-4c4d-a2f9-8d3e2b1cc74b"
      },
      "execution_count": null,
      "outputs": [
        {
          "output_type": "stream",
          "name": "stdout",
          "text": [
            "The string after replacing \"apple\" with \"orange\" is \"I like orange\"\n"
          ]
        }
      ]
    },
    {
      "cell_type": "code",
      "source": [
        "# 6. Write a code to create a list with numbers 1 to 5 and print it.\n",
        "my_list = [1, 2, 3, 4, 5]\n",
        "print(my_list)"
      ],
      "metadata": {
        "id": "9Ei9zVc4cbfQ",
        "colab": {
          "base_uri": "https://localhost:8080/"
        },
        "outputId": "ed1e54b0-9aac-4c6e-a20d-c60d4497a441"
      },
      "execution_count": null,
      "outputs": [
        {
          "output_type": "stream",
          "name": "stdout",
          "text": [
            "[1, 2, 3, 4, 5]\n"
          ]
        }
      ]
    },
    {
      "cell_type": "code",
      "source": [
        "# 7. Write a code to append the number 10 to the list [1, 2, 3, 4].\n",
        "lst = [1,2,3,4]\n",
        "print(f'The list before appending 10 is {lst}')\n",
        "lst.append(10)\n",
        "print(f'The list after appending 10 is {lst}')"
      ],
      "metadata": {
        "id": "CJQx0T8xcbov",
        "colab": {
          "base_uri": "https://localhost:8080/"
        },
        "outputId": "5121afab-d3c2-4f1f-c42c-863495d89be0"
      },
      "execution_count": null,
      "outputs": [
        {
          "output_type": "stream",
          "name": "stdout",
          "text": [
            "The list before appending 10 is [1, 2, 3, 4]\n",
            "The list after appending 10 is [1, 2, 3, 4, 10]\n"
          ]
        }
      ]
    },
    {
      "cell_type": "code",
      "source": [
        "# 8. Write a code to remove the number 3 from the list [1, 2, 3, 4, 5].\n",
        "List = [1, 2, 3, 4, 5]\n",
        "List.remove(3)\n",
        "List"
      ],
      "metadata": {
        "id": "wk3tEDyecbto",
        "colab": {
          "base_uri": "https://localhost:8080/"
        },
        "outputId": "2cbaf305-e6fd-4774-ab49-899ee14ae9d0"
      },
      "execution_count": null,
      "outputs": [
        {
          "output_type": "execute_result",
          "data": {
            "text/plain": [
              "[1, 2, 4, 5]"
            ]
          },
          "metadata": {},
          "execution_count": 4
        }
      ]
    },
    {
      "cell_type": "code",
      "source": [
        "# 9. Write a code to access the second element in the list ['a', 'b', 'c', 'd'].\n",
        "L1 = ['a', 'b', 'c', 'd']\n",
        "second_element = L1[1]\n",
        "print(f\"Second element in the list is '{second_element}'\")"
      ],
      "metadata": {
        "id": "Bm0AuR1zccLt",
        "colab": {
          "base_uri": "https://localhost:8080/"
        },
        "outputId": "3024cdab-3185-4dc4-b439-673177700e39"
      },
      "execution_count": null,
      "outputs": [
        {
          "output_type": "stream",
          "name": "stdout",
          "text": [
            "Second element in the list is 'b'\n"
          ]
        }
      ]
    },
    {
      "cell_type": "code",
      "source": [
        "# 10. Write a code to reverse the list [10, 20, 30, 40, 50].\n",
        "lst = [10, 20, 30, 40, 50]\n",
        "print(f'Before reversing the list {lst}')\n",
        "lst.reverse()\n",
        "print(f'After reversing the list {lst}')"
      ],
      "metadata": {
        "id": "ENnPqrA6ccoM",
        "colab": {
          "base_uri": "https://localhost:8080/"
        },
        "outputId": "d978c62e-0935-401d-a15e-a848e5c6a47c"
      },
      "execution_count": null,
      "outputs": [
        {
          "output_type": "stream",
          "name": "stdout",
          "text": [
            "Before reversing the list [10, 20, 30, 40, 50]\n",
            "After reversing the list [50, 40, 30, 20, 10]\n"
          ]
        }
      ]
    },
    {
      "cell_type": "code",
      "source": [
        "# 11. Write a code to create a tuple with the elements 100, 200, 300 and print it.\n",
        "Tuple = (100, 200, 300)\n",
        "print(Tuple)"
      ],
      "metadata": {
        "id": "zRzdHvVAeOJK",
        "colab": {
          "base_uri": "https://localhost:8080/"
        },
        "outputId": "262493c2-aeb2-4b82-9307-5c6db39f0b2e"
      },
      "execution_count": null,
      "outputs": [
        {
          "output_type": "stream",
          "name": "stdout",
          "text": [
            "(100, 200, 300)\n"
          ]
        }
      ]
    },
    {
      "cell_type": "code",
      "source": [
        "# 12. Write a code to access the second-to-last element of the tuple ('red', 'green', 'blue', 'yellow').\n",
        "t = ('red', 'green', 'blue', 'yellow')\n",
        "print(f'The second-to-last element of the tuple is \"{t[-2]}\"')"
      ],
      "metadata": {
        "id": "NzXGjBh8eOom",
        "colab": {
          "base_uri": "https://localhost:8080/"
        },
        "outputId": "12106285-7821-4578-c6e9-3bb3e6baa1a7"
      },
      "execution_count": null,
      "outputs": [
        {
          "output_type": "stream",
          "name": "stdout",
          "text": [
            "The second-to-last element of the tuple is \"blue\"\n"
          ]
        }
      ]
    },
    {
      "cell_type": "code",
      "source": [
        "# 13. Write a code to find the minimum number in the tuple (10, 20, 5, 15).\n",
        "Tuple = (10, 20, 5, 15)\n",
        "print(f'The minimum number in the tuple is {Tuple}')"
      ],
      "metadata": {
        "id": "ik0z5KU0eO2O",
        "colab": {
          "base_uri": "https://localhost:8080/"
        },
        "outputId": "76d664fa-f6a6-4c67-ff67-2a8181d00d91"
      },
      "execution_count": null,
      "outputs": [
        {
          "output_type": "stream",
          "name": "stdout",
          "text": [
            "The minimum number in the tuple is (10, 20, 5, 15)\n"
          ]
        }
      ]
    },
    {
      "cell_type": "code",
      "source": [
        "# 14. Write a code to find the index of the element \"cat\" in the tuple ('dog', 'cat', 'rabbit').\n",
        "T1 = ('dog', 'cat', 'rabbit')\n",
        "print(f'The index of the element \"cat\" in the tuple is {T1.index(\"cat\")}')"
      ],
      "metadata": {
        "id": "cROW0cG3ePFD",
        "colab": {
          "base_uri": "https://localhost:8080/"
        },
        "outputId": "70f9dff5-85de-49b5-907e-1f72d48bdf5b"
      },
      "execution_count": null,
      "outputs": [
        {
          "output_type": "stream",
          "name": "stdout",
          "text": [
            "The index of the element \"cat\" in the tuple is 1\n"
          ]
        }
      ]
    },
    {
      "cell_type": "code",
      "source": [
        "# 15. Write a code to create a tuple containing three different fruits and check if \"kiwi\" is in it.\n",
        "fruit = (\"apple\", \"banana\", \"orange\")\n",
        "'kiwi' in fruit"
      ],
      "metadata": {
        "id": "hwtmZKChePVk",
        "colab": {
          "base_uri": "https://localhost:8080/"
        },
        "outputId": "9f30d561-1b58-41c9-a919-8b54a2563949"
      },
      "execution_count": null,
      "outputs": [
        {
          "output_type": "execute_result",
          "data": {
            "text/plain": [
              "False"
            ]
          },
          "metadata": {},
          "execution_count": 16
        }
      ]
    },
    {
      "cell_type": "code",
      "source": [
        "# 16. Write a code to create a set with the elements 'a', 'b', 'c' and print it.\n",
        "Set = {'a','b','c'}\n",
        "print(Set)"
      ],
      "metadata": {
        "id": "H-8F015xePvq",
        "colab": {
          "base_uri": "https://localhost:8080/"
        },
        "outputId": "0d1d4219-c641-4bdd-f33e-b57f7d1c579f"
      },
      "execution_count": null,
      "outputs": [
        {
          "output_type": "stream",
          "name": "stdout",
          "text": [
            "{'b', 'a', 'c'}\n"
          ]
        }
      ]
    },
    {
      "cell_type": "code",
      "source": [
        "# 17. Write a code to clear all elements from the set {1, 2, 3, 4, 5}.\n",
        "s = {1, 2, 3, 4, 5}\n",
        "print(f'Before clearing the set {s}')\n",
        "s.clear()\n",
        "print(f'After Clearing the set {s}')"
      ],
      "metadata": {
        "id": "4S0nG8o8eP_f",
        "colab": {
          "base_uri": "https://localhost:8080/"
        },
        "outputId": "6dac114f-3bb0-4ae2-a3f2-87775944d9c6"
      },
      "execution_count": null,
      "outputs": [
        {
          "output_type": "stream",
          "name": "stdout",
          "text": [
            "Before clearing the set {1, 2, 3, 4, 5}\n",
            "After Clearing the set set()\n"
          ]
        }
      ]
    },
    {
      "cell_type": "code",
      "source": [
        "# 18. Write a code to remove the element 4 from the set {1, 2, 3, 4}.\n",
        "s = {1, 2, 3, 4}\n",
        "print(f'Before removing the element 4 from the set is {s}')\n",
        "s.remove(4)\n",
        "print(f'After removing the element 4 from the set is {s}')"
      ],
      "metadata": {
        "id": "oxJLtygeeQQD",
        "colab": {
          "base_uri": "https://localhost:8080/"
        },
        "outputId": "71a60fa7-79f9-43f7-cb72-f9ff760e493f"
      },
      "execution_count": null,
      "outputs": [
        {
          "output_type": "stream",
          "name": "stdout",
          "text": [
            "Before removing the element 4 from the set is {1, 2, 3, 4}\n",
            "After removing the element 4 from the set is {1, 2, 3}\n"
          ]
        }
      ]
    },
    {
      "cell_type": "code",
      "source": [
        "# 19. Write a code to find the union of two sets {1, 2, 3} and {3, 4, 5}.\n",
        "s1 = {1, 2, 3}\n",
        "s2 = {3, 4, 5}\n",
        "print(f'The union of two sets {s1} and {s2} is {s1.union(s2)}')"
      ],
      "metadata": {
        "id": "1f_KNsc-7vQp",
        "colab": {
          "base_uri": "https://localhost:8080/"
        },
        "outputId": "f333f045-40d9-4ffb-f6bf-ea6d8c184999"
      },
      "execution_count": null,
      "outputs": [
        {
          "output_type": "stream",
          "name": "stdout",
          "text": [
            "The union of two sets {1, 2, 3} and {3, 4, 5} is {1, 2, 3, 4, 5}\n"
          ]
        }
      ]
    },
    {
      "cell_type": "code",
      "source": [
        "# 20. Write a code to find the intersection of two sets {1, 2, 3} and {2, 3, 4}.\n",
        "s1 = {1, 2, 3}\n",
        "s2 = {2, 3, 4}\n",
        "print(f'The intersection of two sets {s1} and {s2} is {s1.intersection(s2)}')"
      ],
      "metadata": {
        "id": "P_DfLwI-7vTx",
        "colab": {
          "base_uri": "https://localhost:8080/"
        },
        "outputId": "fd86193b-000a-4dd9-8c94-5e4a3a04d997"
      },
      "execution_count": null,
      "outputs": [
        {
          "output_type": "stream",
          "name": "stdout",
          "text": [
            "The intersection of two sets {1, 2, 3} and {2, 3, 4} is {2, 3}\n"
          ]
        }
      ]
    },
    {
      "cell_type": "code",
      "source": [
        "# 21. Write a code to create a dictionary with the keys \"name\", \"age\", and \"city\", and print it.\n",
        "my_dict = {\"name\":\"Muskan\", \"age\": 26, \"city\": \"Mumbai\"}\n",
        "print(my_dict)"
      ],
      "metadata": {
        "id": "iAT9V7pa7vXz",
        "colab": {
          "base_uri": "https://localhost:8080/"
        },
        "outputId": "73db7890-ed01-4a37-da01-557b80606799"
      },
      "execution_count": null,
      "outputs": [
        {
          "output_type": "stream",
          "name": "stdout",
          "text": [
            "{'name': 'Muskan', 'age': 26, 'city': 'Mumbai'}\n"
          ]
        }
      ]
    },
    {
      "cell_type": "code",
      "source": [
        "# 22. Write a code to add a new key-value pair \"country\": \"USA\" to the dictionary {'name': 'John', 'age': 25}.\n",
        "Dict = {'name': 'John', 'age': 25}\n",
        "print(f'Before adding \"country\" : \"USA\" to the dictionary {Dict}')\n",
        "Dict[\"country\"] = \"USA\"\n",
        "print(f'After adding \"country\" : \"USA\" to the dictionary {Dict}')"
      ],
      "metadata": {
        "id": "hoat5GPj7vbT",
        "colab": {
          "base_uri": "https://localhost:8080/"
        },
        "outputId": "6d938421-1f14-4384-a009-5c213f511fed"
      },
      "execution_count": null,
      "outputs": [
        {
          "output_type": "stream",
          "name": "stdout",
          "text": [
            "Before adding \"country\" : \"USA\" to the dictionary {'name': 'John', 'age': 25}\n",
            "After adding \"country\" : \"USA\" to the dictionary {'name': 'John', 'age': 25, 'country': 'USA'}\n"
          ]
        }
      ]
    },
    {
      "cell_type": "code",
      "source": [
        "# 23. Write a code to access the value associated with the key \"name\" in the dictionary {'name': 'Alice', 'age': 30}.\n",
        "d = {'name': 'Alice', 'age': 30}\n",
        "print(f'The value associated with the key \"name\" in the dictionary is {d[\"name\"]}')"
      ],
      "metadata": {
        "id": "0yOQArwL7vec",
        "colab": {
          "base_uri": "https://localhost:8080/"
        },
        "outputId": "d8f394dd-43de-43d3-b509-5c1a0c6975ea"
      },
      "execution_count": null,
      "outputs": [
        {
          "output_type": "stream",
          "name": "stdout",
          "text": [
            "The value associated with the key \"name\" in the dictionary is Alice\n"
          ]
        }
      ]
    },
    {
      "cell_type": "code",
      "source": [
        "# 24. Write a code to remove the key \"age\" from the dictionary {'name': 'Bob', 'age': 22, 'city': 'New York'}.\n",
        "my_dict = {'name': 'Bob', 'age': 22, 'city': 'New York'}\n",
        "print(f'Before removing the key \"age\" from the dictionary is {my_dict}')\n",
        "del my_dict[\"age\"]\n",
        "print(f'After removing the key \"age\" from the dictionary is {my_dict}')"
      ],
      "metadata": {
        "id": "77ZpoRJP7vhL",
        "colab": {
          "base_uri": "https://localhost:8080/"
        },
        "outputId": "7e1afed7-8a22-448c-9395-196b723ffc03"
      },
      "execution_count": null,
      "outputs": [
        {
          "output_type": "stream",
          "name": "stdout",
          "text": [
            "Before removing the key \"age\" from the dictionary is {'name': 'Bob', 'age': 22, 'city': 'New York'}\n",
            "After removing the key \"age\" from the dictionary is {'name': 'Bob', 'city': 'New York'}\n"
          ]
        }
      ]
    },
    {
      "cell_type": "code",
      "source": [
        "# 25. Write a code to check if the key \"city\" exists in the dictionary {'name': 'Alice', 'city': 'Paris'}.\n",
        "d1 = {'name': 'Alice', 'city': 'Paris'}\n",
        "\"city\" in d1"
      ],
      "metadata": {
        "id": "4SXtgoLf7vj8",
        "colab": {
          "base_uri": "https://localhost:8080/"
        },
        "outputId": "3030c4a7-5083-489c-bbd9-16cdbee872a9"
      },
      "execution_count": null,
      "outputs": [
        {
          "output_type": "execute_result",
          "data": {
            "text/plain": [
              "True"
            ]
          },
          "metadata": {},
          "execution_count": 44
        }
      ]
    },
    {
      "cell_type": "code",
      "source": [
        "# 26. Write a code to create a list, a tuple, and a dictionary, and print them all.\n",
        "lst = [1, \"apple\", 2, 4.5, True, (1,2,3)]\n",
        "tpl = (1, 6, \"hello\", 5, 7, 9)\n",
        "dct = {\"name\":\"Muskan\", \"age\": 26, \"city\": \"Mumbai\"}\n",
        "print(f'The list is {lst}')\n",
        "print(f'The tuple is {tpl}')\n",
        "print(f'The dictionary is {dct}')"
      ],
      "metadata": {
        "id": "Gf9QxKhp7vna",
        "colab": {
          "base_uri": "https://localhost:8080/"
        },
        "outputId": "75a7680e-647b-49af-e529-418356e81b69"
      },
      "execution_count": null,
      "outputs": [
        {
          "output_type": "stream",
          "name": "stdout",
          "text": [
            "The list is [1, 'apple', 2, 4.5, True, (1, 2, 3)]\n",
            "The tuple is (1, 6, 'hello', 5, 7, 9)\n",
            "The dictionary is {'name': 'Muskan', 'age': 26, 'city': 'Mumbai'}\n"
          ]
        }
      ]
    },
    {
      "cell_type": "code",
      "source": [
        "# 27. Write a code to create a list of 5 random numbers between 1 and 100, sort it in ascending order, and print the result.(replaced)\n",
        "import random\n",
        "lst = [random.randint(1,100) for i in range(5)]\n",
        "print(f'Before sorting the list is {lst}')\n",
        "lst.sort()\n",
        "print(f'After sorting the list is {lst}')\n"
      ],
      "metadata": {
        "id": "fbaxVuTY7vqo",
        "colab": {
          "base_uri": "https://localhost:8080/"
        },
        "outputId": "ba534858-f05a-4213-b648-bf6842a77933"
      },
      "execution_count": null,
      "outputs": [
        {
          "output_type": "stream",
          "name": "stdout",
          "text": [
            "Before sorting the list is [22, 75, 99, 69, 71]\n",
            "After sorting the list is [22, 69, 71, 75, 99]\n"
          ]
        }
      ]
    },
    {
      "cell_type": "code",
      "source": [
        "# 28. Write a code to create a list with strings and print the element at the third index.\n",
        "List = [\"apple\", \"banana\", \"orange\", \"grape\", \"mango\"]\n",
        "print(f'The element at the third index is \"{List[2]}\"')"
      ],
      "metadata": {
        "id": "S5bx1gw37vxv",
        "colab": {
          "base_uri": "https://localhost:8080/"
        },
        "outputId": "d83bfda9-748a-4d76-aac6-1f5896b9a1ae"
      },
      "execution_count": null,
      "outputs": [
        {
          "output_type": "stream",
          "name": "stdout",
          "text": [
            "The element at the third index is \"orange\"\n"
          ]
        }
      ]
    },
    {
      "cell_type": "code",
      "source": [
        "# 29. Write a code to combine two dictionaries into one and print the result.\n",
        "d1 = {'name': 'John', 'age': 25}\n",
        "d2 = {\"city\": \"Mumbai\",\"country\":\"India\"}\n",
        "d1.update(d2)\n",
        "print(d1)"
      ],
      "metadata": {
        "id": "Y75hcLoi8jhx",
        "colab": {
          "base_uri": "https://localhost:8080/"
        },
        "outputId": "5a954e52-ca10-4002-8ef2-b69d91bffb32"
      },
      "execution_count": null,
      "outputs": [
        {
          "output_type": "stream",
          "name": "stdout",
          "text": [
            "{'name': 'John', 'age': 25, 'city': 'Mumbai', 'country': 'India'}\n"
          ]
        }
      ]
    },
    {
      "cell_type": "code",
      "source": [
        "# 30. Write a code to convert a list of strings into a set.\n",
        "List = [\"apple\", \"banana\", \"orange\", \"grape\", \"mango\"]\n",
        "s = set(List)\n",
        "print(s)"
      ],
      "metadata": {
        "id": "Otgfs3N08jsZ",
        "colab": {
          "base_uri": "https://localhost:8080/"
        },
        "outputId": "bc7552bc-f986-4ffe-ee21-3559b0e59e0e"
      },
      "execution_count": null,
      "outputs": [
        {
          "output_type": "stream",
          "name": "stdout",
          "text": [
            "{'mango', 'banana', 'orange', 'grape', 'apple'}\n"
          ]
        }
      ]
    }
  ]
}