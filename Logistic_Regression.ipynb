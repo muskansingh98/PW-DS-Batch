{
  "nbformat": 4,
  "nbformat_minor": 0,
  "metadata": {
    "colab": {
      "provenance": []
    },
    "kernelspec": {
      "name": "python3",
      "display_name": "Python 3"
    },
    "language_info": {
      "name": "python"
    }
  },
  "cells": [
    {
      "cell_type": "markdown",
      "source": [
        "1. What is Logistic Regression, and how does it differ from Linear Regression?\n",
        "  - **What is Logistic Regression?**\n",
        "  \n",
        "      Logistic Regression is a statistical model used for binary classification, which is a type of supervised learning. It's employed when the outcome variable is categorical and typically has two possible classes (e.g., yes/no, true/false, spam/not spam).\n",
        "  - **how does it differ from Linear Regression?**\n",
        "\n",
        "      **Linear Regression:** Used to predict a continuous outcome variable based on one or more predictor variables. It aims to find a linear relationship between the variables.\n",
        "      \n",
        "      **Logistic Regression:** Used to predict a categorical outcome variable (typically binary, i.e., two classes) based on one or more predictor variables. It models the probability that an observation belongs to a particular category.\n",
        "\n",
        "2. What is the mathematical equation of Logistic Regression?\n",
        "  - The mathematical equation of Logistic Regression involves the logit, which can be written as:\n",
        "\n",
        "      $logit(p) = \\log(\\frac{p}{1-p}) = \\beta_0 + \\beta_1x_1 + \\dots + \\beta_nx_n$$logit(p) = \\log(\\frac{p}{1-p}) = \\beta_0 + \\beta_1x_1 + \\dots + \\beta_nx_n$\n",
        "\n",
        "      Where $p$$p$ is the probability of the outcome belonging to a specific class, $\\beta_0$$\\beta_0$ is the intercept, and $\\beta_1, \\dots, \\beta_n$$\\beta_1, \\dots, \\beta_n$ are the coefficients for the independent variables $x_1, \\dots, x_n$$x_1, \\dots, x_n$.\n",
        "\n",
        "3. Why do we use the Sigmoid function in Logistic Regression?\n",
        "  - The Sigmoid function is essential in Logistic Regression because it provides a way to convert the linear model's output into a meaningful probability, allowing us to perform binary classification. It \"squashes\" the output of the linear combination of features into a range between 0 and 1, which is precisely what is needed to represent a probability.\n",
        "\n",
        "4. What is the cost function of Logistic Regression?\n",
        "  - A cost function is a mathematical function that calculates the difference between the target actual values (ground truth) and the values predicted by the model. A function that assesses a machine learning model's performance also referred to as a loss function or objective function. Usually, the objective of a machine learning algorithm is to reduce the error or output of cost function.\n",
        "  \n",
        "5. What is Regularization in Logistic Regression? Why is it needed?\n",
        "  - Regularization adds a penalty to the model for being too complex, encouraging it to stay simpler and more general. This way, it’s less likely to make extreme predictions based on the noise in the data.\n",
        "  \n",
        "      **Why is it needed?**\n",
        "\n",
        "    Regularization is needed in Logistic Regression to:\n",
        "      - **Prevent Overfitting:** By penalizing large coefficients, regularization reduces the model's complexity and helps it generalize better to unseen data [1, 2].\n",
        "      - **Handle Multicollinearity:** Regularization can help to stabilize coefficient estimates when there is multicollinearity (high correlation between independent variables) [1].\n",
        "      - **Feature Selection (L1 Regularization):** L1 regularization can force some coefficients to zero, effectively selecting the most important features for the model [1].\n",
        "6. Explain the difference between Lasso, Ridge, and Elastic Net regression.\n",
        "  - **Lasso Regression:** Lasso regression addresses overfitting by adding an L1 penalty (also called L1 regularization) (sum of absolute coefficients) to the model's loss function. This penalty term encourages sparsity by shrinking some coefficients to zero, effectively removing less important features from the model. It is especially useful for feature selection, as it keeps only the most significant predictors.\n",
        "  - **Ridge Regression:** Ridge regression is a technique used to address overfitting by adding a penalty to the model's complexity. It introduces an L2 penalty (also called L2 regularization), which is the sum of the squares of the model's coefficients. This penalty term discourages large coefficients, thereby helping to reduce overfitting while retaining all features in the model.\n",
        "  - **Elastic Net Regression:** Elastic Net regression combines both L1 (Lasso) and L2 (Ridge) penalties to perform feature selection and manage multicollinearity, balancing coefficient shrinkage and sparsity.It is also called L1 + L2 Regularization. This method helps reduce overfitting while retaining all features in the model, making it ideal for datasets with correlated features.\n",
        "  \n",
        "7. When should we use Elastic Net instead of Lasso or Ridge?\n",
        "  - We should use Elastic Net Regression when:\n",
        "      -We want to combine the benefits of both Lasso and Ridge regression.\n",
        "      - We want to perform feature selection (like Lasso) and also handle multicollinearity (like Ridge).\n",
        "      - We have a dataset with correlated features, as Elastic Net is well-suited for this scenario.\n",
        "\n",
        "8. What is the impact of the regularization parameter (λ) in Logistic Regression?\n",
        "  -  The regularization parameter $\\lambda$$\\lambda$ is a tuning parameter that allows you to balance the model's ability to fit the training data with its ability to generalize to unseen data. Finding the optimal value of $\\lambda$$\\lambda$ is crucial for achieving good model performance.\n",
        "\n",
        "      The regularization parameter ($\\lambda$$\\lambda$) in Logistic Regression controls the impact of the regularization term.\n",
        "        - Higher values of $\\lambda$$\\lambda$ lead to smaller coefficients.\n",
        "        - Higher values of $\\lambda$$\\lambda$ can also push coefficients towards zero, potentially performing variable selection [2].\n",
        "        - Too high values for $\\lambda$$\\lambda$ can lead to underfitting [1].\n",
        "\n",
        "9. What are the key assumptions of Logistic Regression?\n",
        "  - Logistic Regression has several key assumptions:\n",
        "      - **Binary or Ordinal Outcome:** The dependent variable must be categorical. For the most common form of Logistic Regression, it's binary (two categories).\n",
        "      - **Independence of Observations:** Observations should be independent of each other. This means that the outcome of one observation should not be influenced by the outcome of another observation.\n",
        "      - **Linearity of the Logit:** This is a crucial assumption. While the relationship between the independent variables and the outcome is not linear, Logistic Regression assumes that there is a linear relationship between the independent variables and the logit of the dependent variable.\n",
        "      - **No Multicollinearity:** Independent variables should not be highly correlated with each other. High multicollinearity can lead to unstable coefficient estimates and make it difficult to interpret the individual effect of each predictor.\n",
        "      - **Large Sample Size:** Logistic Regression typically requires a sufficiently large sample size to estimate the parameters accurately.\n",
        "      - **Absence of Outliers:** While not as sensitive as Linear Regression, extreme values in the independent variables can still impact the model's performance and coefficient estimates.\n",
        "      - **The dependent variable does not need to be measured on an interval or ratio scale.** This is a difference compared to Linear Regression.\n",
        "      - **Homoscedasticity is not required.** This is another difference compared to Linear Regression.\n",
        "      **Error terms (residuals) do not need to follow a normal distribution.** This is also a difference compared to Linear Regression.\n",
        "\n",
        "10. What are some alternatives to Logistic Regression for classification tasks?\n",
        "  - Some alternatives to Logistic Regression for classification tasks include:\n",
        "      - Neural networks\n",
        "      - Support vector machines\n",
        "      - Decision trees (CART)\n",
        "      - Meta-classifiers (in particular, boosting)\n",
        "\n",
        "11. What are Classification Evaluation Metrics?\n",
        "  - Classification evaluation metrics are used to assess the performance of a classification model. There are some common metrics:\n",
        "      - **Accuracy:** Accuracy is a fundamental metric for evaluating the performance of a classification model, providing a quick snapshot of how well the model is performing in terms of correct predictions.\n",
        "      - **Precision:** Precision is a measure of a model’s performance that tells you how many of the positive predictions made by the model are actually correct.\n",
        "      - **Recall:** Recall is the ratio of correctly predicted positive instances to the total actual positive instances. It measures how well the model captures all relevant positive cases.\n",
        "      - **F1 Score:** F1-Score is a harmonic mean between recall and precision. Its range is [0,1]. This metric usually tells us how precise (correctly classifies how many instances) and robust (does not miss any significant number of instances) our classifier is.\n",
        "      - **Confusion Matrix:** A table that summarizes the performance of a classification model on a set of test data. It shows the number of true positives, true negatives, false positives, and false negatives.\n",
        "      - **Area Under Curve (AUC):** The AUC represents the area under the ROC curve and provides an aggregate measure of performance across all possible classification thresholds.\n",
        "      - **Logarithmic Loss:** Measures the performance of a classification model where the prediction is a probability value between 0 and 1.\n",
        "      - **Matthews Correlation Coefficient (MCC):** A measure of the quality of binary classifications, considering true and false positives and negatives. It is generally regarded as a balanced measure which can be used even if the classes are of very different sizes.\n",
        "      - **Cohen's Kappa:** A statistic that measures inter-rater reliability for qualitative items. It is generally thought to be a more robust measure than simple percent agreement calculation, as it takes into account the possibility of the agreement occurring by chance.\n",
        "\n",
        "12. How does class imbalance affect Logistic Regression?\n",
        "  - Class imbalance can affect Logistic Regression. While the document doesn't explicitly detail how it affects it, it does mention that methods to correct class imbalance are receiving increasing interest for developing prediction models and that it examined the effect of imbalance correction on the performance of logistic regression models [1]. This suggests that class imbalance is a factor that needs to be considered and potentially addressed when using Logistic Regression.\n",
        "\n",
        "13. What is Hyperparameter Tuning in Logistic Regression?\n",
        "  - Hyperparameter tuning in Logistic Regression is about finding the right settings for the model to achieve optimal performance on your specific dataset. It is the process of selecting the best values for the model's hyperparameters to improve its performance.\n",
        "\n",
        "14. What are different solvers in Logistic Regression? Which one should be used?\n",
        "  - Different solvers are available for optimizing the cost function in Logistic Regression. The choice of solver can depend on the dataset size, the type of regularization used, and computational efficiency. There are some common solvers used in scikit-learn's `LogisticRegression`\n",
        "      - **'liblinear':** This solver is a good choice for small datasets and supports both L1 and L2 regularization. It's generally fast for smaller problems. However, it does not support Elastic Net regularization or multinomial loss.\n",
        "      - **'lbfgs':** This is a widely used solver that is suitable for medium to large datasets, especially dense ones. It supports L2 regularization and multinomial loss but does not support L1 or Elastic Net regularization.\n",
        "      - **'newton-cg':** Similar to 'lbfgs', this solver is good for medium to large datasets with L2 regularization and multinomial loss. It is computationally more expensive than 'lbfgs' but can be more robust in some cases.\n",
        "      - **'sag':** This solver is designed for large datasets where the number of samples is significantly larger than the number of features. It supports L2 regularization and multinomial loss but is not suitable for L1 regularization or Elastic Net.\n",
        "      - **'saga':** This is a more flexible solver that supports all types of regularization (L1, L2, Elastic Net) and multinomial loss. It is a good choice for large datasets and when using Elastic Net regularization.\n",
        "\n",
        "      **Which one should be used?**\n",
        "\n",
        "      The best solver to use depends on your specific problem and dataset:\n",
        "            \n",
        "        - For small datasets and L1 or L2 regularization, 'liblinear' is a good starting point.\n",
        "        - For medium to large datasets and L2 regularization with dense data, 'lbfgs' is often a good choice. 'newton-cg' can also be used.\n",
        "        - For large datasets where the number of samples is much larger than the number of features and L2 regularization, 'sag' can be more efficient.\n",
        "        - For large datasets or when using Elastic Net regularization, 'saga' is the recommended solver.\n",
        "\n",
        "15. How is Logistic Regression extended for multiclass classification?\n",
        "  - Logistic Regression, by nature, is a binary classification algorithm. To extend it for multiclass classification (problems with more than two classes), two common strategies are used: One-vs-Rest (OvR) and Multinomial (Softmax) Regression.\n",
        "  1. **One-vs-Rest (OvR) or One-vs-All (OvA):**\n",
        "      - In this approach, you train a separate binary logistic regression model for each class.\n",
        "      - For each model, the target variable is treated as a binary outcome: the instances belonging to that specific class are considered the positive class, and all other instances (from the remaining classes) are considered the negative class.\n",
        "      - When you want to make a prediction for a new instance, you pass it through all the trained binary models.\n",
        "      - The class that receives the highest probability from its corresponding model is the predicted class for that instance [1].\n",
        "  2. **Multinomial Logistic Regression (Softmax Regression):**\n",
        "      - This approach is a direct extension of Logistic Regression for multiclass problems.\n",
        "      - Instead of training multiple binary models, it trains a single model that directly predicts the probabilities of an instance belonging to each class.\n",
        "      - It uses the softmax function in the output layer to convert the linear model's output into probabilities for each class. The sum of these probabilities across all classes for a given instance will be 1.\n",
        "      - The class with the highest predicted probability is the predicted class for that instance.\n",
        "\n",
        "16. What are the advantages and disadvantages of Logistic Regression?\n",
        "  - **Advantages**\n",
        "      - Logistic regression is easier to implement, interpret, and very efficient to train.\n",
        "      - It is very fast at classifying unknown records.\n",
        "      - It can easily extend to multiple classes(multinomial regression) and a natural probabilistic view of class predictions.\n",
        "  - **Disadvantages**\n",
        "      - If the number of observations is lesser than the number of features, Logistic Regression should not be used, otherwise, it may lead to overfitting.\n",
        "      - It constructs linear boundaries.\n",
        "      - Logistic Regression requires average or no multicollinearity between independent variables.\n",
        "\n",
        "17. What are some use cases of Logistic Regression?\n",
        "  - Some use cases of Logistic Regression include:\n",
        "      - **Fraud detection:** Logistic regression models can help teams identify data anomalies, which are predictive of fraud.\n",
        "      - **Disease prediction:** In medicine, this analytics approach can be used to predict the likelihood of disease or illness for a given population.\n",
        "\n",
        "18. What is the difference between Softmax Regression and Logistic Regression?\n",
        "  - Logistic Regression is primarily used for binary classification problems (two classes). It uses the sigmoid function to output a probability between 0 and 1.\n",
        "  \n",
        "      Softmax Regression is an extension of Logistic Regression that handles multiclass classification problems (more than two classes) [1]. It uses the softmax function, which calculates the probabilities of an input belonging to each class, with the sum of probabilities for all classes being 1.\n",
        "\n",
        "19. How do we choose between One-vs-Rest (OvR) and Softmax for multiclass classification?\n",
        "  - When choosing between One-vs-Rest (OvR) and Softmax (Multinomial Logistic Regression) for multiclass classification with Logistic Regression, consider these factors:\n",
        "      - **Nature of the Classes:** If your classes are mutually exclusive (each instance belongs to only one class), Softmax is generally the more appropriate choice. It directly models the probability distribution over all classes, ensuring probabilities sum to 1. OvR trains independent binary classifiers, which doesn't enforce this constraint and can sometimes lead to ambiguous predictions (where an instance is predicted as belonging to multiple classes with high probability).\n",
        "      - **Solver Support:** Not all solvers for Logistic Regression support both OvR and Softmax. In scikit-learn, the liblinear solver only supports OvR. Solvers like lbfgs, newton-cg, and sag support both. The saga solver supports both and is suitable for large datasets. When using scikit-learn's LogisticRegression, setting multi_class='auto' will automatically choose between OvR and Softmax based on the solver and data.\n",
        "      - **Computational Cost:** For a large number of classes, Softmax can be more computationally efficient than OvR because it trains a single model rather than 'k' independent models (where 'k' is the number of classes).\n",
        "      - **Interpretability:** OvR can sometimes offer slightly more interpretability, as you can examine the coefficients of each binary classifier to understand what features are important for distinguishing a specific class from all others.\n",
        "\n",
        "20. How do we interpret coefficients in Logistic Regression?\n",
        "  - In Logistic Regression, the coefficients are interpreted in terms of the change in the log-odds of the dependent variable for a one-unit increase in the independent variable, assuming all other variables are held constant.\n",
        "\n",
        "      Logistic Regression coefficients tell you about the direction and strength of the relationship between the independent variables and the log-odds of the outcome. By exponentiating the coefficients, you can interpret the relationship in terms of odds ratios, which are often easier to understand"
      ],
      "metadata": {
        "id": "ZaJNOw2JSjfA"
      }
    },
    {
      "cell_type": "markdown",
      "source": [
        "# **Practical Question**"
      ],
      "metadata": {
        "id": "N-mzdgOySnTt"
      }
    },
    {
      "cell_type": "code",
      "source": [
        "import numpy as np\n",
        "import pandas as pd\n",
        "import matplotlib.pyplot as plt\n",
        "import joblib\n",
        "from sklearn.linear_model import LogisticRegression\n",
        "from sklearn.multiclass import OneVsOneClassifier\n",
        "from sklearn.model_selection import train_test_split\n",
        "from sklearn.datasets import make_classification\n",
        "from sklearn.metrics import classification_report\n",
        "from sklearn.impute import SimpleImputer\n",
        "from sklearn.preprocessing import OneHotEncoder\n",
        "from sklearn.compose import ColumnTransformer\n",
        "from sklearn.pipeline import Pipeline\n",
        "from sklearn.metrics import cohen_kappa_score\n",
        "from sklearn.metrics import matthews_corrcoef\n",
        "from sklearn.preprocessing import StandardScaler\n",
        "from sklearn.metrics import accuracy_score\n",
        "from collections import Counter\n",
        "from sklearn.model_selection import StratifiedKFold, cross_val_score\n",
        "from sklearn.preprocessing import OneHotEncoder, StandardScaler\n",
        "from sklearn.model_selection import train_test_split, RandomizedSearchCV\n",
        "from sklearn.metrics import confusion_matrix, ConfusionMatrixDisplay\n",
        "from sklearn.metrics import accuracy_score, classification_report\n",
        "from sklearn.metrics import roc_auc_score, roc_curve\n",
        "from sklearn.metrics import precision_recall_curve, auc\n",
        "from sklearn.model_selection import GridSearchCV, train_test_split"
      ],
      "metadata": {
        "id": "qX_Qq_xFKhjP"
      },
      "execution_count": 1,
      "outputs": []
    },
    {
      "cell_type": "code",
      "source": [
        "# 1. Write a Python program that loads a dataset, splits it into training and testing sets, applies Logistic Regression, and prints the model accuracy.\n",
        "\n",
        "X, y = make_classification(n_samples=1000, n_features=20, random_state=42)\n",
        "\n",
        "print(\"Dataset loaded/generated.\")\n",
        "print(\"Features shape:\", X.shape)\n",
        "print(\"Target shape:\", y.shape)\n",
        "\n",
        "X_train, X_test, y_train, y_test = train_test_split(X, y, test_size=0.2, random_state=42)\n",
        "\n",
        "print(\"\\nData split into training and testing sets.\")\n",
        "print(f\"Training data shape: {X_train.shape}\")\n",
        "print(f\"Testing data shape: {X_test.shape}\")\n",
        "\n",
        "model = LogisticRegression(random_state=42)\n",
        "\n",
        "model.fit(X_train, y_train)\n",
        "\n",
        "print(\"\\nLogistic Regression model trained.\")\n",
        "\n",
        "y_pred = model.predict(X_test)\n",
        "\n",
        "accuracy = accuracy_score(y_test, y_pred)\n",
        "\n",
        "print(f\"\\nModel Accuracy: {accuracy:.4f}\")"
      ],
      "metadata": {
        "id": "GS46mUJGTDGs",
        "colab": {
          "base_uri": "https://localhost:8080/"
        },
        "outputId": "7f184136-0d58-4e55-f0aa-38df08d3c134"
      },
      "execution_count": 8,
      "outputs": [
        {
          "output_type": "stream",
          "name": "stdout",
          "text": [
            "Dataset loaded/generated.\n",
            "Features shape: (1000, 20)\n",
            "Target shape: (1000,)\n",
            "\n",
            "Data split into training and testing sets.\n",
            "Training data shape: (800, 20)\n",
            "Testing data shape: (200, 20)\n",
            "\n",
            "Logistic Regression model trained.\n",
            "\n",
            "Model Accuracy: 0.8550\n"
          ]
        }
      ]
    },
    {
      "cell_type": "code",
      "source": [
        "# 2. Write a Python program to apply L1 regularization (Lasso) on a dataset using LogisticRegression(penalty='l1') and print the model accuracy.\n",
        "\n",
        "X, y = make_classification(n_samples=100, n_features=20, random_state=42)\n",
        "\n",
        "X_train, X_test, y_train, y_test = train_test_split(X, y, test_size=0.2, random_state=42)\n",
        "\n",
        "model = LogisticRegression(penalty='l1', C=1.0, random_state=42, solver='liblinear')\n",
        "\n",
        "model.fit(X_train, y_train)\n",
        "\n",
        "y_pred = model.predict(X_test)\n",
        "\n",
        "accuracy = accuracy_score(y_test, y_pred)\n",
        "print(f\"Logistic Regression with L1 Regularization Accuracy: {accuracy:.4f}\")"
      ],
      "metadata": {
        "id": "1fjZccfmTDZ5",
        "colab": {
          "base_uri": "https://localhost:8080/"
        },
        "outputId": "ef229c85-d8d4-483a-d573-5296549d71d5"
      },
      "execution_count": 7,
      "outputs": [
        {
          "output_type": "stream",
          "name": "stdout",
          "text": [
            "Logistic Regression with L1 Regularization Accuracy: 1.0000\n"
          ]
        }
      ]
    },
    {
      "cell_type": "code",
      "source": [
        "# 3. Write a Python program to train Logistic Regression with L2 regularization (Ridge) using LogisticRegression(penalty='l2'). Print model accuracy and coefficients.\n",
        "\n",
        "X, y = make_classification(n_samples=100, n_features=20, random_state=42)\n",
        "\n",
        "X_train, X_test, y_train, y_test = train_test_split(X, y, test_size=0.2, random_state=42)\n",
        "\n",
        "model = LogisticRegression(penalty='l2', C=1.0, random_state=42, solver='liblinear')\n",
        "\n",
        "model.fit(X_train, y_train)\n",
        "\n",
        "y_pred = model.predict(X_test)\n",
        "\n",
        "accuracy = accuracy_score(y_test, y_pred)\n",
        "print(f\"Logistic Regression with L2 Regularization Accuracy: {accuracy:.4f}\")\n",
        "\n",
        "print(\"\\nModel Coefficients:\")\n",
        "print(np.round(model.coef_[0], 4))"
      ],
      "metadata": {
        "id": "mMrHienRTDmE",
        "colab": {
          "base_uri": "https://localhost:8080/"
        },
        "outputId": "63826741-76f5-46df-c81c-8a76d324bd94"
      },
      "execution_count": 6,
      "outputs": [
        {
          "output_type": "stream",
          "name": "stdout",
          "text": [
            "Logistic Regression with L2 Regularization Accuracy: 1.0000\n",
            "\n",
            "Model Coefficients:\n",
            "[ 0.0202 -1.3925  0.1829  0.1595 -0.4629 -0.6165 -0.1778 -0.2952  0.3998\n",
            " -0.1641  1.9609  0.1568  0.1142  0.1228  0.2643 -0.9688  0.0479 -0.0066\n",
            " -0.4174  0.1971]\n"
          ]
        }
      ]
    },
    {
      "cell_type": "code",
      "source": [
        "# 4. Write a Python program to train Logistic Regression with Elastic Net Regularization (penalty='elasticnet').\n",
        "\n",
        "X, y = make_classification(n_samples=100, n_features=20, random_state=42)\n",
        "\n",
        "X_train, X_test, y_train, y_test = train_test_split(X, y, test_size=0.2, random_state=42)\n",
        "\n",
        "model = LogisticRegression(\n",
        "    penalty='elasticnet',\n",
        "    solver='saga',\n",
        "    l1_ratio=0.5,\n",
        "    random_state=42,\n",
        "    max_iter=1000\n",
        ")\n",
        "\n",
        "model.fit(X_train, y_train)\n",
        "\n",
        "y_pred = model.predict(X_test)\n",
        "\n",
        "accuracy = accuracy_score(y_test, y_pred)\n",
        "print(f\"Logistic Regression with Elastic Net Regularization Accuracy: {accuracy:.4f}\")\n",
        "\n",
        "print(\"\\nClassification Report:\")\n",
        "print(classification_report(y_test, y_pred))"
      ],
      "metadata": {
        "id": "Ff5TliNsTDvC",
        "colab": {
          "base_uri": "https://localhost:8080/"
        },
        "outputId": "e31ab3ee-634d-4992-c8c8-55709a645516"
      },
      "execution_count": 5,
      "outputs": [
        {
          "output_type": "stream",
          "name": "stdout",
          "text": [
            "Logistic Regression with Elastic Net Regularization Accuracy: 0.9500\n",
            "\n",
            "Classification Report:\n",
            "              precision    recall  f1-score   support\n",
            "\n",
            "           0       1.00      0.92      0.96        13\n",
            "           1       0.88      1.00      0.93         7\n",
            "\n",
            "    accuracy                           0.95        20\n",
            "   macro avg       0.94      0.96      0.95        20\n",
            "weighted avg       0.96      0.95      0.95        20\n",
            "\n"
          ]
        }
      ]
    },
    {
      "cell_type": "code",
      "source": [
        "# 5. Write a Python program to train a Logistic Regression model for multiclass classification using multi_class='ovr'.\n",
        "\n",
        "X, y = make_classification(n_samples=200, n_features=20, n_informative=15, n_classes=3, random_state=42)\n",
        "\n",
        "X_train, X_test, y_train, y_test = train_test_split(X, y, test_size=0.2, random_state=42)\n",
        "\n",
        "model = LogisticRegression(multi_class='ovr', solver='liblinear', random_state=42)\n",
        "\n",
        "model.fit(X_train, y_train)\n",
        "\n",
        "y_pred = model.predict(X_test)\n",
        "\n",
        "accuracy = accuracy_score(y_test, y_pred)\n",
        "print(f\"Logistic Regression (OvR) Multiclass Accuracy: {accuracy:.4f}\")\n",
        "\n",
        "print(\"\\nClassification Report:\")\n",
        "print(classification_report(y_test, y_pred))"
      ],
      "metadata": {
        "id": "eWPNKcQtTD2n",
        "colab": {
          "base_uri": "https://localhost:8080/"
        },
        "outputId": "83b3b4d5-98ea-489e-c607-2bc37108137b"
      },
      "execution_count": 4,
      "outputs": [
        {
          "output_type": "stream",
          "name": "stdout",
          "text": [
            "Logistic Regression (OvR) Multiclass Accuracy: 0.5500\n",
            "\n",
            "Classification Report:\n",
            "              precision    recall  f1-score   support\n",
            "\n",
            "           0       0.50      0.50      0.50        14\n",
            "           1       0.57      0.67      0.62        12\n",
            "           2       0.58      0.50      0.54        14\n",
            "\n",
            "    accuracy                           0.55        40\n",
            "   macro avg       0.55      0.56      0.55        40\n",
            "weighted avg       0.55      0.55      0.55        40\n",
            "\n"
          ]
        },
        {
          "output_type": "stream",
          "name": "stderr",
          "text": [
            "/usr/local/lib/python3.11/dist-packages/sklearn/linear_model/_logistic.py:1256: FutureWarning: 'multi_class' was deprecated in version 1.5 and will be removed in 1.7. Use OneVsRestClassifier(LogisticRegression(..)) instead. Leave it to its default value to avoid this warning.\n",
            "  warnings.warn(\n"
          ]
        }
      ]
    },
    {
      "cell_type": "code",
      "source": [
        "# 6. Write a Python program to apply GridSearchCV to tune the hyperparameters (C and penalty) of Logistic Regression. Print the best parameters and accuracy.\n",
        "\n",
        "X, y = make_classification(n_samples=100, n_features=20, random_state=42)\n",
        "\n",
        "X_train, X_test, y_train, y_test = train_test_split(X, y, test_size=0.2, random_state=42)\n",
        "\n",
        "param_grid = {\n",
        "    'C': np.logspace(-4, 4, 20),\n",
        "    'penalty': ['l1', 'l2']\n",
        "}\n",
        "\n",
        "logistic_regression = LogisticRegression(solver='liblinear')\n",
        "\n",
        "grid_search = GridSearchCV(\n",
        "    logistic_regression,\n",
        "    param_grid,\n",
        "    cv=5,\n",
        "    scoring='accuracy'\n",
        ")\n",
        "\n",
        "grid_search.fit(X_train, y_train)\n",
        "\n",
        "best_c = grid_search.best_params_['C']\n",
        "best_penalty = grid_search.best_params_['penalty']\n",
        "best_score = grid_search.best_score_\n",
        "\n",
        "print(\"Best Parameters found by GridSearchCV:\")\n",
        "print(f\"C: {best_c}\")\n",
        "print(f\"penalty: {best_penalty}\")\n",
        "\n",
        "print(f\"\\nBest Cross-Validation Accuracy: {best_score:.4f}\")\n",
        "\n",
        "optimal_model = grid_search.best_estimator_\n",
        "test_accuracy = optimal_model.score(X_test, y_test)\n",
        "\n",
        "print(f\"\\nAccuracy on the Test Set with Best Parameters: {test_accuracy:.4f}\")"
      ],
      "metadata": {
        "id": "s-K0mcKYTn8c",
        "colab": {
          "base_uri": "https://localhost:8080/"
        },
        "outputId": "5f5ffe58-47aa-405c-ad83-cdc6f54ef23a"
      },
      "execution_count": 3,
      "outputs": [
        {
          "output_type": "stream",
          "name": "stdout",
          "text": [
            "Best Parameters found by GridSearchCV:\n",
            "C: 1.623776739188721\n",
            "penalty: l1\n",
            "\n",
            "Best Cross-Validation Accuracy: 0.9875\n",
            "\n",
            "Accuracy on the Test Set with Best Parameters: 1.0000\n"
          ]
        }
      ]
    },
    {
      "cell_type": "code",
      "source": [
        "# 7. Write a Python program to evaluate Logistic Regression using Stratified K-Fold Cross-Validation. Print the average accuracy.\n",
        "\n",
        "X, y = make_classification(n_samples=1000, n_features=20, random_state=42)\n",
        "\n",
        "model = LogisticRegression(random_state=42, solver='liblinear')\n",
        "\n",
        "n_splits = 5\n",
        "\n",
        "kf = StratifiedKFold(n_splits=n_splits, shuffle=True, random_state=42)\n",
        "\n",
        "scores = cross_val_score(model, X, y, cv=kf, scoring='accuracy')\n",
        "\n",
        "print(f'Scores for each fold are: {scores}')\n",
        "\n",
        "average_accuracy = np.mean(scores)\n",
        "print(f'Average score: {average_accuracy:.4f}')\n",
        "\n",
        "print(f'Standard deviation of scores: {np.std(scores):.4f}')"
      ],
      "metadata": {
        "id": "WKFYkWnmToGa",
        "colab": {
          "base_uri": "https://localhost:8080/"
        },
        "outputId": "571fa4e5-2a1e-4a8a-abda-64aeaa23a3b6"
      },
      "execution_count": 2,
      "outputs": [
        {
          "output_type": "stream",
          "name": "stdout",
          "text": [
            "Scores for each fold are: [0.87  0.885 0.87  0.86  0.86 ]\n",
            "Average score: 0.8690\n",
            "Standard deviation of scores: 0.0092\n"
          ]
        }
      ]
    },
    {
      "cell_type": "code",
      "source": [
        "# 8. Write a Python program to load a dataset from a CSV file, apply Logistic Regression, and evaluate its accuracy.\n",
        "\n",
        "file_path = 'your_dataset.csv'\n",
        "\n",
        "target_column = 'target_column_name'\n",
        "\n",
        "feature_columns = ['feature1', 'feature2']\n",
        "\n",
        "try:\n",
        "    df = pd.read_csv(file_path)\n",
        "    print(f\"Successfully loaded data from {file_path}\")\n",
        "    print(\"Dataset shape:\", df.shape)\n",
        "    print(\"First 5 rows:\")\n",
        "    display(df.head())\n",
        "except FileNotFoundError:\n",
        "    print(f\"Error: The file '{file_path}' was not found.\")\n",
        "    print(\"Please upload the CSV file to your Colab environment or provide the correct path.\")\n",
        "    exit()\n",
        "\n",
        "if target_column not in df.columns:\n",
        "    print(f\"Error: Target column '{target_column}' not found in the dataset.\")\n",
        "    print(\"Available columns:\", df.columns.tolist())\n",
        "    exit()\n",
        "\n",
        "y = df[target_column]\n",
        "\n",
        "if not feature_columns:\n",
        "    feature_columns = df.columns.tolist()\n",
        "    feature_columns.remove(target_column)\n",
        "    print(f\"Using all columns except '{target_column}' as features.\")\n",
        "\n",
        "X = df[feature_columns]\n",
        "\n",
        "numerical_features = X.select_dtypes(include=['int64', 'float64']).columns\n",
        "categorical_features = X.select_dtypes(include=['object', 'category']).columns\n",
        "\n",
        "numerical_transformer = Pipeline(steps=[\n",
        "    ('imputer', SimpleImputer(strategy='mean')),\n",
        "    ('scaler', StandardScaler())\n",
        "])\n",
        "\n",
        "categorical_transformer = Pipeline(steps=[\n",
        "    ('imputer', SimpleImputer(strategy='most_frequent')),\n",
        "    ('onehot', OneHotEncoder(handle_unknown='ignore'))\n",
        "])\n",
        "\n",
        "preprocessor = ColumnTransformer(\n",
        "    transformers=[\n",
        "        ('num', numerical_transformer, numerical_features),\n",
        "        ('cat', categorical_transformer, categorical_features)\n",
        "    ],\n",
        "    remainder='passthrough'\n",
        ")\n",
        "\n",
        "model = LogisticRegression(random_state=42)\n",
        "\n",
        "pipeline = Pipeline(steps=[('preprocessor', preprocessor),\n",
        "                           ('classifier', model)])\n",
        "\n",
        "X_train, X_test, y_train, y_test = train_test_split(X, y, test_size=0.2, random_state=42)\n",
        "\n",
        "print(\"\\nSplitting data into training (80%) and testing (20%)...\")\n",
        "print(f\"Training data shape: {X_train.shape}\")\n",
        "print(f\"Testing data shape: {X_test.shape}\")\n",
        "\n",
        "print(\"\\nTraining Logistic Regression model...\")\n",
        "pipeline.fit(X_train, y_train)\n",
        "print(\"Training complete.\")\n",
        "\n",
        "print(\"\\nEvaluating model performance...\")\n",
        "y_pred = pipeline.predict(X_test)\n",
        "\n",
        "accuracy = accuracy_score(y_test, y_pred)\n",
        "\n",
        "print(f\"Logistic Regression Model Performance:\")\n",
        "print(f\"Accuracy: {accuracy:.4f}\")\n",
        "\n",
        "from sklearn.metrics import classification_report\n",
        "print(\"\\nClassification Report:\")\n",
        "print(classification_report(y_test, y_pred))"
      ],
      "metadata": {
        "id": "wEdfjc-IToNp",
        "colab": {
          "base_uri": "https://localhost:8080/",
          "height": 245
        },
        "outputId": "3b661248-8813-472c-9d7f-7d548fd22e6f"
      },
      "execution_count": 6,
      "outputs": [
        {
          "output_type": "stream",
          "name": "stdout",
          "text": [
            "Error: The file 'your_dataset.csv' was not found.\n",
            "Please upload the CSV file to your Colab environment or provide the correct path.\n"
          ]
        },
        {
          "output_type": "error",
          "ename": "NameError",
          "evalue": "name 'df' is not defined",
          "traceback": [
            "\u001b[0;31m---------------------------------------------------------------------------\u001b[0m",
            "\u001b[0;31mNameError\u001b[0m                                 Traceback (most recent call last)",
            "\u001b[0;32m<ipython-input-6-b9071b537b69>\u001b[0m in \u001b[0;36m<cell line: 0>\u001b[0;34m()\u001b[0m\n\u001b[1;32m     18\u001b[0m     \u001b[0mexit\u001b[0m\u001b[0;34m(\u001b[0m\u001b[0;34m)\u001b[0m\u001b[0;34m\u001b[0m\u001b[0;34m\u001b[0m\u001b[0m\n\u001b[1;32m     19\u001b[0m \u001b[0;34m\u001b[0m\u001b[0m\n\u001b[0;32m---> 20\u001b[0;31m \u001b[0;32mif\u001b[0m \u001b[0mtarget_column\u001b[0m \u001b[0;32mnot\u001b[0m \u001b[0;32min\u001b[0m \u001b[0mdf\u001b[0m\u001b[0;34m.\u001b[0m\u001b[0mcolumns\u001b[0m\u001b[0;34m:\u001b[0m\u001b[0;34m\u001b[0m\u001b[0;34m\u001b[0m\u001b[0m\n\u001b[0m\u001b[1;32m     21\u001b[0m     \u001b[0mprint\u001b[0m\u001b[0;34m(\u001b[0m\u001b[0;34mf\"Error: Target column '{target_column}' not found in the dataset.\"\u001b[0m\u001b[0;34m)\u001b[0m\u001b[0;34m\u001b[0m\u001b[0;34m\u001b[0m\u001b[0m\n\u001b[1;32m     22\u001b[0m     \u001b[0mprint\u001b[0m\u001b[0;34m(\u001b[0m\u001b[0;34m\"Available columns:\"\u001b[0m\u001b[0;34m,\u001b[0m \u001b[0mdf\u001b[0m\u001b[0;34m.\u001b[0m\u001b[0mcolumns\u001b[0m\u001b[0;34m.\u001b[0m\u001b[0mtolist\u001b[0m\u001b[0;34m(\u001b[0m\u001b[0;34m)\u001b[0m\u001b[0;34m)\u001b[0m\u001b[0;34m\u001b[0m\u001b[0;34m\u001b[0m\u001b[0m\n",
            "\u001b[0;31mNameError\u001b[0m: name 'df' is not defined"
          ]
        }
      ]
    },
    {
      "cell_type": "code",
      "source": [
        "# 9. Write a Python program to apply RandomizedSearchCV for tuning hyperparameters (C, penalty, solver) in Logistic Regression. Print the best parameters and accuracy.\n",
        "\n",
        "X, y = make_classification(n_samples=100, n_features=20, random_state=42)\n",
        "\n",
        "X_train, X_test, y_train, y_test = train_test_split(X, y, test_size=0.2, random_state=42)\n",
        "\n",
        "param_dist = {\n",
        "    'C': np.logspace(-4, 4, 20),\n",
        "    'penalty': ['l1', 'l2', 'elasticnet', 'none'],\n",
        "    'solver': ['liblinear', 'lbfgs', 'saga']\n",
        "}\n",
        "\n",
        "logistic_regression = LogisticRegression(random_state=42, max_iter=1000)\n",
        "\n",
        "random_search = RandomizedSearchCV(\n",
        "    logistic_regression,\n",
        "    param_distributions=param_dist,\n",
        "    n_iter=10,\n",
        "    cv=5,\n",
        "    scoring='accuracy',\n",
        "    random_state=42,\n",
        "    n_jobs=-1\n",
        ")\n",
        "\n",
        "random_search.fit(X_train, y_train)\n",
        "\n",
        "print(\"Best Parameters found by RandomizedSearchCV:\")\n",
        "print(random_search.best_params_)\n",
        "\n",
        "print(f\"\\nBest Cross-Validation Accuracy: {random_search.best_score_:.4f}\")\n",
        "\n",
        "best_model = random_search.best_estimator_\n",
        "y_pred = best_model.predict(X_test)\n",
        "test_accuracy = accuracy_score(y_test, y_pred)\n",
        "\n",
        "print(f\"\\nAccuracy on the Test Set with Best Parameters: {test_accuracy:.4f}\")"
      ],
      "metadata": {
        "id": "aBZdZylJToV1",
        "colab": {
          "base_uri": "https://localhost:8080/"
        },
        "outputId": "bb2041c1-cd99-4554-e56d-881e6eaa615f"
      },
      "execution_count": 4,
      "outputs": [
        {
          "output_type": "stream",
          "name": "stdout",
          "text": [
            "Best Parameters found by RandomizedSearchCV:\n",
            "{'solver': 'lbfgs', 'penalty': 'l2', 'C': np.float64(78.47599703514607)}\n",
            "\n",
            "Best Cross-Validation Accuracy: 0.9750\n",
            "\n",
            "Accuracy on the Test Set with Best Parameters: 1.0000\n"
          ]
        },
        {
          "output_type": "stream",
          "name": "stderr",
          "text": [
            "/usr/local/lib/python3.11/dist-packages/sklearn/model_selection/_validation.py:528: FitFailedWarning: \n",
            "30 fits failed out of a total of 50.\n",
            "The score on these train-test partitions for these parameters will be set to nan.\n",
            "If these failures are not expected, you can try to debug them by setting error_score='raise'.\n",
            "\n",
            "Below are more details about the failures:\n",
            "--------------------------------------------------------------------------------\n",
            "5 fits failed with the following error:\n",
            "Traceback (most recent call last):\n",
            "  File \"/usr/local/lib/python3.11/dist-packages/sklearn/model_selection/_validation.py\", line 866, in _fit_and_score\n",
            "    estimator.fit(X_train, y_train, **fit_params)\n",
            "  File \"/usr/local/lib/python3.11/dist-packages/sklearn/base.py\", line 1389, in wrapper\n",
            "    return fit_method(estimator, *args, **kwargs)\n",
            "           ^^^^^^^^^^^^^^^^^^^^^^^^^^^^^^^^^^^^^^\n",
            "  File \"/usr/local/lib/python3.11/dist-packages/sklearn/linear_model/_logistic.py\", line 1193, in fit\n",
            "    solver = _check_solver(self.solver, self.penalty, self.dual)\n",
            "             ^^^^^^^^^^^^^^^^^^^^^^^^^^^^^^^^^^^^^^^^^^^^^^^^^^^\n",
            "  File \"/usr/local/lib/python3.11/dist-packages/sklearn/linear_model/_logistic.py\", line 71, in _check_solver\n",
            "    raise ValueError(\n",
            "ValueError: Only 'saga' solver supports elasticnet penalty, got solver=liblinear.\n",
            "\n",
            "--------------------------------------------------------------------------------\n",
            "5 fits failed with the following error:\n",
            "Traceback (most recent call last):\n",
            "  File \"/usr/local/lib/python3.11/dist-packages/sklearn/model_selection/_validation.py\", line 866, in _fit_and_score\n",
            "    estimator.fit(X_train, y_train, **fit_params)\n",
            "  File \"/usr/local/lib/python3.11/dist-packages/sklearn/base.py\", line 1382, in wrapper\n",
            "    estimator._validate_params()\n",
            "  File \"/usr/local/lib/python3.11/dist-packages/sklearn/base.py\", line 436, in _validate_params\n",
            "    validate_parameter_constraints(\n",
            "  File \"/usr/local/lib/python3.11/dist-packages/sklearn/utils/_param_validation.py\", line 98, in validate_parameter_constraints\n",
            "    raise InvalidParameterError(\n",
            "sklearn.utils._param_validation.InvalidParameterError: The 'penalty' parameter of LogisticRegression must be a str among {'elasticnet', 'l1', 'l2'} or None. Got 'none' instead.\n",
            "\n",
            "--------------------------------------------------------------------------------\n",
            "5 fits failed with the following error:\n",
            "Traceback (most recent call last):\n",
            "  File \"/usr/local/lib/python3.11/dist-packages/sklearn/model_selection/_validation.py\", line 866, in _fit_and_score\n",
            "    estimator.fit(X_train, y_train, **fit_params)\n",
            "  File \"/usr/local/lib/python3.11/dist-packages/sklearn/base.py\", line 1389, in wrapper\n",
            "    return fit_method(estimator, *args, **kwargs)\n",
            "           ^^^^^^^^^^^^^^^^^^^^^^^^^^^^^^^^^^^^^^\n",
            "  File \"/usr/local/lib/python3.11/dist-packages/sklearn/linear_model/_logistic.py\", line 1193, in fit\n",
            "    solver = _check_solver(self.solver, self.penalty, self.dual)\n",
            "             ^^^^^^^^^^^^^^^^^^^^^^^^^^^^^^^^^^^^^^^^^^^^^^^^^^^\n",
            "  File \"/usr/local/lib/python3.11/dist-packages/sklearn/linear_model/_logistic.py\", line 63, in _check_solver\n",
            "    raise ValueError(\n",
            "ValueError: Solver lbfgs supports only 'l2' or None penalties, got l1 penalty.\n",
            "\n",
            "--------------------------------------------------------------------------------\n",
            "5 fits failed with the following error:\n",
            "Traceback (most recent call last):\n",
            "  File \"/usr/local/lib/python3.11/dist-packages/sklearn/model_selection/_validation.py\", line 866, in _fit_and_score\n",
            "    estimator.fit(X_train, y_train, **fit_params)\n",
            "  File \"/usr/local/lib/python3.11/dist-packages/sklearn/base.py\", line 1389, in wrapper\n",
            "    return fit_method(estimator, *args, **kwargs)\n",
            "           ^^^^^^^^^^^^^^^^^^^^^^^^^^^^^^^^^^^^^^\n",
            "  File \"/usr/local/lib/python3.11/dist-packages/sklearn/linear_model/_logistic.py\", line 1203, in fit\n",
            "    raise ValueError(\"l1_ratio must be specified when penalty is elasticnet.\")\n",
            "ValueError: l1_ratio must be specified when penalty is elasticnet.\n",
            "\n",
            "--------------------------------------------------------------------------------\n",
            "10 fits failed with the following error:\n",
            "Traceback (most recent call last):\n",
            "  File \"/usr/local/lib/python3.11/dist-packages/sklearn/model_selection/_validation.py\", line 866, in _fit_and_score\n",
            "    estimator.fit(X_train, y_train, **fit_params)\n",
            "  File \"/usr/local/lib/python3.11/dist-packages/sklearn/base.py\", line 1382, in wrapper\n",
            "    estimator._validate_params()\n",
            "  File \"/usr/local/lib/python3.11/dist-packages/sklearn/base.py\", line 436, in _validate_params\n",
            "    validate_parameter_constraints(\n",
            "  File \"/usr/local/lib/python3.11/dist-packages/sklearn/utils/_param_validation.py\", line 98, in validate_parameter_constraints\n",
            "    raise InvalidParameterError(\n",
            "sklearn.utils._param_validation.InvalidParameterError: The 'penalty' parameter of LogisticRegression must be a str among {'elasticnet', 'l2', 'l1'} or None. Got 'none' instead.\n",
            "\n",
            "  warnings.warn(some_fits_failed_message, FitFailedWarning)\n",
            "/usr/local/lib/python3.11/dist-packages/sklearn/model_selection/_search.py:1108: UserWarning: One or more of the test scores are non-finite: [0.4625    nan    nan    nan    nan 0.975  0.975  0.9375    nan    nan]\n",
            "  warnings.warn(\n"
          ]
        }
      ]
    },
    {
      "cell_type": "code",
      "source": [
        "# 10. Write a Python program to implement One-vs-One (OvO) Multiclass Logistic Regression and print accuracy.\n",
        "\n",
        "X, y = make_classification(n_samples=200, n_features=20, n_informative=15, n_classes=3, random_state=42)\n",
        "\n",
        "X_train, X_test, y_train, y_test = train_test_split(X, y, test_size=0.2, random_state=42)\n",
        "\n",
        "logistic_regression = LogisticRegression(random_state=42)\n",
        "\n",
        "ovo_model = OneVsOneClassifier(logistic_regression)\n",
        "\n",
        "ovo_model.fit(X_train, y_train)\n",
        "\n",
        "y_pred = ovo_model.predict(X_test)\n",
        "\n",
        "accuracy = accuracy_score(y_test, y_pred)\n",
        "print(f\"One-vs-One Multiclass Logistic Regression Accuracy: {accuracy:.4f}\")"
      ],
      "metadata": {
        "id": "6Hy5fiveTodT",
        "colab": {
          "base_uri": "https://localhost:8080/"
        },
        "outputId": "4029a71f-4d23-4c35-fcf7-d2d55a8bca81"
      },
      "execution_count": 2,
      "outputs": [
        {
          "output_type": "stream",
          "name": "stdout",
          "text": [
            "One-vs-One Multiclass Logistic Regression Accuracy: 0.5750\n"
          ]
        }
      ]
    },
    {
      "cell_type": "code",
      "source": [
        "# 11. Write a Python program to train a Logistic Regression model and visualize the confusion matrix for binary classification.\n",
        "\n",
        "X, y = make_classification(n_samples=1000, n_features=20, n_classes=2, random_state=42)\n",
        "\n",
        "X_train, X_test, y_train, y_test = train_test_split(X, y, test_size=0.2, random_state=42)\n",
        "\n",
        "model = LogisticRegression(random_state=42)\n",
        "model.fit(X_train, y_train)\n",
        "\n",
        "y_pred = model.predict(X_test)\n",
        "\n",
        "cm = confusion_matrix(y_test, y_pred)\n",
        "\n",
        "disp = ConfusionMatrixDisplay(confusion_matrix=cm, display_labels=model.classes_)\n",
        "\n",
        "disp.plot(cmap=plt.cm.Blues)\n",
        "plt.title('Confusion Matrix for Logistic Regression')\n",
        "plt.show()"
      ],
      "metadata": {
        "id": "tj3yJ7IHTooO",
        "colab": {
          "base_uri": "https://localhost:8080/",
          "height": 472
        },
        "outputId": "12132aab-f635-4f5d-c761-6efdbcac3ac0"
      },
      "execution_count": null,
      "outputs": [
        {
          "output_type": "display_data",
          "data": {
            "text/plain": [
              "<Figure size 640x480 with 2 Axes>"
            ],
            "image/png": "[encoded data removed]"
          },
          "metadata": {}
        }
      ]
    },
    {
      "cell_type": "code",
      "source": [
        "# 12. Write a Python program to train a Logistic Regression model and evaluate its performance using Precision, Recall, and F1-Score.\n",
        "\n",
        "X, y = make_classification(n_samples=1000, n_features=20, random_state=42)\n",
        "\n",
        "X_train, X_test, y_train, y_test = train_test_split(X, y, test_size=0.2, random_state=42)\n",
        "\n",
        "model = LogisticRegression(random_state=42)\n",
        "model.fit(X_train, y_train)\n",
        "\n",
        "y_pred = model.predict(X_test)\n",
        "\n",
        "print(\"Classification Report:\")\n",
        "print(classification_report(y_test, y_pred))"
      ],
      "metadata": {
        "id": "LdkrTAQHUOQd",
        "colab": {
          "base_uri": "https://localhost:8080/"
        },
        "outputId": "168ad708-436a-4039-c457-82d835eb1fdf"
      },
      "execution_count": null,
      "outputs": [
        {
          "output_type": "stream",
          "name": "stdout",
          "text": [
            "Classification Report:\n",
            "              precision    recall  f1-score   support\n",
            "\n",
            "           0       0.80      0.91      0.85        93\n",
            "           1       0.91      0.80      0.86       107\n",
            "\n",
            "    accuracy                           0.85       200\n",
            "   macro avg       0.86      0.86      0.85       200\n",
            "weighted avg       0.86      0.85      0.86       200\n",
            "\n"
          ]
        }
      ]
    },
    {
      "cell_type": "code",
      "source": [
        "# 13. Write a Python program to train a Logistic Regression model on imbalanced data and apply class weights to improve model performance.\n",
        "\n",
        "X, y = make_classification(n_samples=1000, n_features=20, weights=[0.9, 0.1], random_state=42)\n",
        "\n",
        "X_train, X_test, y_train, y_test = train_test_split(X, y, test_size=0.2, random_state=42, stratify=y)\n",
        "\n",
        "print(\"Class distribution in training data:\", Counter(y_train))\n",
        "print(\"Class distribution in testing data:\", Counter(y_test))\n",
        "print(\"-\" * 30)\n",
        "\n",
        "print(\"Training Logistic Regression without class weights:\")\n",
        "model_no_weights = LogisticRegression(random_state=42, solver='liblinear')\n",
        "model_no_weights.fit(X_train, y_train)\n",
        "y_pred_no_weights = model_no_weights.predict(X_test)\n",
        "\n",
        "accuracy_no_weights = accuracy_score(y_test, y_pred_no_weights)\n",
        "print(f\"Accuracy without class weights: {accuracy_no_weights:.4f}\")\n",
        "print(\"Classification Report without class weights:\")\n",
        "print(classification_report(y_test, y_pred_no_weights))\n",
        "print(\"-\" * 30)\n",
        "\n",
        "print(\"Training Logistic Regression with class weights:\")\n",
        "model_with_weights = LogisticRegression(random_state=42, solver='liblinear', class_weight='balanced')\n",
        "model_with_weights.fit(X_train, y_train)\n",
        "y_pred_with_weights = model_with_weights.predict(X_test)\n",
        "\n",
        "accuracy_with_weights = accuracy_score(y_test, y_pred_with_weights)\n",
        "print(f\"Accuracy with class weights: {accuracy_with_weights:.4f}\")\n",
        "print(\"Classification Report with class weights:\")\n",
        "print(classification_report(y_test, y_pred_with_weights))\n",
        "print(\"-\" * 30)\n",
        "\n",
        "print(\"Comparison of Accuracy:\")\n",
        "print(f\"Accuracy without class weights: {accuracy_no_weights:.4f}\")\n",
        "print(f\"Accuracy with class weights: {accuracy_with_weights:.4f}\")"
      ],
      "metadata": {
        "id": "SIY1x1PSUOaH",
        "colab": {
          "base_uri": "https://localhost:8080/"
        },
        "outputId": "155fac98-be1d-47ed-c8ca-864dded17f10"
      },
      "execution_count": null,
      "outputs": [
        {
          "output_type": "stream",
          "name": "stdout",
          "text": [
            "Class distribution in training data: Counter({np.int64(0): 718, np.int64(1): 82})\n",
            "Class distribution in testing data: Counter({np.int64(0): 179, np.int64(1): 21})\n",
            "------------------------------\n",
            "Training Logistic Regression without class weights:\n",
            "Accuracy without class weights: 0.9100\n",
            "Classification Report without class weights:\n",
            "              precision    recall  f1-score   support\n",
            "\n",
            "           0       0.93      0.97      0.95       179\n",
            "           1       0.62      0.38      0.47        21\n",
            "\n",
            "    accuracy                           0.91       200\n",
            "   macro avg       0.77      0.68      0.71       200\n",
            "weighted avg       0.90      0.91      0.90       200\n",
            "\n",
            "------------------------------\n",
            "Training Logistic Regression with class weights:\n",
            "Accuracy with class weights: 0.8450\n",
            "Classification Report with class weights:\n",
            "              precision    recall  f1-score   support\n",
            "\n",
            "           0       0.96      0.86      0.91       179\n",
            "           1       0.38      0.71      0.49        21\n",
            "\n",
            "    accuracy                           0.84       200\n",
            "   macro avg       0.67      0.79      0.70       200\n",
            "weighted avg       0.90      0.84      0.86       200\n",
            "\n",
            "------------------------------\n",
            "Comparison of Accuracy:\n",
            "Accuracy without class weights: 0.9100\n",
            "Accuracy with class weights: 0.8450\n"
          ]
        }
      ]
    },
    {
      "cell_type": "code",
      "source": [
        "# 14. Write a Python program to train Logistic Regression on the Titanic dataset, handle missing values, and evaluate performance.\n",
        "\n",
        "File = \"titanic.csv\"\n",
        "titanic_df = pd.read_csv(File)\n",
        "\n",
        "features = ['Pclass', 'Sex', 'Age', 'SibSp', 'Parch', 'Fare', 'Embarked']\n",
        "target = 'Survived'\n",
        "\n",
        "X = titanic_df[features]\n",
        "y = titanic_df[target]\n",
        "\n",
        "preprocessor = ColumnTransformer(\n",
        "    transformers=[\n",
        "        ('num', SimpleImputer(strategy='mean'), ['Age']),\n",
        "        ('cat', Pipeline(steps=[\n",
        "            ('imputer', SimpleImputer(strategy='most_frequent')),\n",
        "            ('onehot', OneHotEncoder(handle_unknown='ignore'))]), ['Sex', 'Embarked']),\n",
        "        ('passthrough', 'passthrough', ['Pclass', 'SibSp', 'Parch', 'Fare'])\n",
        "    ])\n",
        "\n",
        "model = LogisticRegression(solver='liblinear', random_state=42)\n",
        "\n",
        "pipeline = Pipeline(steps=[('preprocessor', preprocessor),\n",
        "                           ('classifier', model)])\n",
        "\n",
        "X_train, X_test, y_train, y_test = train_test_split(X, y, test_size=0.2, random_state=42)\n",
        "\n",
        "pipeline.fit(X_train, y_train)\n",
        "\n",
        "y_pred = pipeline.predict(X_test)\n",
        "\n",
        "accuracy = accuracy_score(y_test, y_pred)\n",
        "\n",
        "print(f\"Logistic Regression Model Performance on Titanic Dataset:\")\n",
        "print(f\"Accuracy: {accuracy:.4f}\")"
      ],
      "metadata": {
        "id": "oqV7Vqx0UOdm"
      },
      "execution_count": null,
      "outputs": []
    },
    {
      "cell_type": "code",
      "source": [
        "# 15. Write a Python program to apply feature scaling (Standardization) before training a Logistic Regression model. Evaluate its accuracy and compare results with and without scaling.\n",
        "\n",
        "X, y = make_classification(n_samples=200, n_features=10, random_state=42)\n",
        "\n",
        "X_train, X_test, y_train, y_test = train_test_split(X, y, test_size=0.2, random_state=42)\n",
        "\n",
        "print(\"Training Logistic Regression on Raw Data:\")\n",
        "\n",
        "model_raw = LogisticRegression(random_state=42)\n",
        "model_raw.fit(X_train, y_train)\n",
        "\n",
        "y_pred_raw = model_raw.predict(X_test)\n",
        "\n",
        "accuracy_raw = accuracy_score(y_test, y_pred_raw)\n",
        "print(f\"Accuracy on Raw Data: {accuracy_raw:.4f}\")\n",
        "print(\"-\" * 30)\n",
        "\n",
        "print(\"Training Logistic Regression on Standardized Data:\")\n",
        "\n",
        "scaler = StandardScaler()\n",
        "\n",
        "X_train_scaled = scaler.fit_transform(X_train)\n",
        "X_test_scaled = scaler.transform(X_test)\n",
        "\n",
        "model_scaled = LogisticRegression(random_state=42)\n",
        "model_scaled.fit(X_train_scaled, y_train)\n",
        "\n",
        "y_pred_scaled = model_scaled.predict(X_test_scaled)\n",
        "\n",
        "accuracy_scaled = accuracy_score(y_test, y_pred_scaled)\n",
        "print(f\"Accuracy on Standardized Data: {accuracy_scaled:.4f}\")\n",
        "print(\"-\" * 30)\n",
        "\n",
        "print(\"Comparison:\")\n",
        "print(f\"Accuracy Raw Data: {accuracy_raw:.4f}\")\n",
        "print(f\"Accuracy Standardized Data: {accuracy_scaled:.4f}\")\n",
        "\n",
        "if accuracy_scaled > accuracy_raw:\n",
        "    print(\"Standardization improved accuracy.\")\n",
        "elif accuracy_scaled < accuracy_raw:\n",
        "    print(\"Standardization decreased accuracy.\")\n",
        "else:\n",
        "    print(\"Standardization had no significant impact on accuracy.\")"
      ],
      "metadata": {
        "id": "6NFQTtZ_UOiK",
        "colab": {
          "base_uri": "https://localhost:8080/"
        },
        "outputId": "7c574db9-71ad-4160-92a8-1994961e79a0"
      },
      "execution_count": null,
      "outputs": [
        {
          "output_type": "stream",
          "name": "stdout",
          "text": [
            "Training Logistic Regression on Raw Data:\n",
            "Accuracy on Raw Data: 0.7500\n",
            "------------------------------\n",
            "Training Logistic Regression on Standardized Data:\n",
            "Accuracy on Standardized Data: 0.7500\n",
            "------------------------------\n",
            "Comparison:\n",
            "Accuracy Raw Data: 0.7500\n",
            "Accuracy Standardized Data: 0.7500\n",
            "Standardization had no significant impact on accuracy.\n"
          ]
        }
      ]
    },
    {
      "cell_type": "code",
      "source": [
        "# 16. Write a Python program to train Logistic Regression and evaluate its performance using ROC-AUC score.\n",
        "\n",
        "X, y = make_classification(n_samples=1000, n_features=20, n_classes=2, random_state=42)\n",
        "\n",
        "X_train, X_test, y_train, y_test = train_test_split(X, y, test_size=0.2, random_state=42)\n",
        "\n",
        "model = LogisticRegression(random_state=42)\n",
        "model.fit(X_train, y_train)\n",
        "\n",
        "y_scores = model.predict_proba(X_test)[:, 1]\n",
        "\n",
        "roc_auc = roc_auc_score(y_test, y_scores)\n",
        "\n",
        "fpr, tpr, thresholds = roc_curve(y_test, y_scores)\n",
        "\n",
        "print(f\"ROC AUC Score: {roc_auc:.4f}\")\n",
        "\n",
        "plt.figure(figsize=(8, 6))\n",
        "plt.plot(fpr, tpr, label=f'Logistic Regression (AUC = {roc_auc:.2f})')\n",
        "plt.plot([0, 1], [0, 1], 'k--', label='Random Guessing')\n",
        "plt.xlabel('False Positive Rate (FPR)')\n",
        "plt.ylabel('True Positive Rate (TPR) - Recall')\n",
        "plt.title('Receiver Operating Characteristic (ROC) Curve')\n",
        "plt.legend(loc='lower right')\n",
        "plt.grid(True)\n",
        "plt.show()"
      ],
      "metadata": {
        "id": "VDC3smEFUOlI",
        "colab": {
          "base_uri": "https://localhost:8080/",
          "height": 581
        },
        "outputId": "71fb126c-8db3-44ab-9b79-1fcc82d99911"
      },
      "execution_count": null,
      "outputs": [
        {
          "output_type": "stream",
          "name": "stdout",
          "text": [
            "ROC AUC Score: 0.9216\n"
          ]
        },
        {
          "output_type": "display_data",
          "data": {
            "text/plain": [
              "<Figure size 800x600 with 1 Axes>"
            ],
            "image/png": "[encoded data removed]"
          },
          "metadata": {}
        }
      ]
    },
    {
      "cell_type": "code",
      "source": [
        "# 17. Write a Python program to train Logistic Regression using a custom learning rate (C=0.5) and evaluate accuracy.\n",
        "\n",
        "X, y = make_classification(n_samples=100, n_features=20, random_state=42)\n",
        "\n",
        "X_train, X_test, y_train, y_test = train_test_split(X, y, test_size=0.2, random_state=42)\n",
        "\n",
        "custom_c = 0.5\n",
        "\n",
        "model = LogisticRegression(C=custom_c, solver='liblinear', random_state=42)\n",
        "\n",
        "model.fit(X_train, y_train)\n",
        "\n",
        "y_pred = model.predict(X_test)\n",
        "\n",
        "accuracy = accuracy_score(y_test, y_pred)\n",
        "\n",
        "print(f\"Training Logistic Regression with C = {custom_c}\")\n",
        "print(f\"Accuracy with custom C: {accuracy:.4f}\")"
      ],
      "metadata": {
        "id": "3nXw22KYUOou",
        "colab": {
          "base_uri": "https://localhost:8080/"
        },
        "outputId": "1c718351-930f-4bad-a420-7ddc8f5ed7ec"
      },
      "execution_count": null,
      "outputs": [
        {
          "output_type": "stream",
          "name": "stdout",
          "text": [
            "Training Logistic Regression with C = 0.5\n",
            "Accuracy with custom C: 1.0000\n"
          ]
        }
      ]
    },
    {
      "cell_type": "code",
      "source": [
        "# 18. Write a Python program to train Logistic Regression and identify important features based on model coefficients.\n",
        "\n",
        "X, y = make_classification(n_samples=100, n_features=10, n_informative=5, n_redundant=2, random_state=42)\n",
        "\n",
        "feature_names = [f'feature_{i}' for i in range(X.shape[1])]\n",
        "\n",
        "X_train, X_test, y_train, y_test = train_test_split(X, y, test_size=0.2, random_state=42)\n",
        "\n",
        "from sklearn.preprocessing import StandardScaler\n",
        "scaler = StandardScaler()\n",
        "X_train_scaled = scaler.fit_transform(X_train)\n",
        "X_test_scaled = scaler.transform(X_test)\n",
        "\n",
        "model = LogisticRegression(random_state=42)\n",
        "model.fit(X_train_scaled, y_train)\n",
        "\n",
        "coefficients = model.coef_[0]\n",
        "\n",
        "feature_importance = pd.DataFrame({\n",
        "    'Feature': feature_names,\n",
        "    'Coefficient': coefficients\n",
        "})\n",
        "\n",
        "feature_importance['Absolute_Coefficient'] = np.abs(feature_importance['Coefficient'])\n",
        "feature_importance = feature_importance.sort_values(by='Absolute_Coefficient', ascending=False)\n",
        "\n",
        "print(\"Feature Importance based on Logistic Regression Coefficients:\")\n",
        "print(feature_importance[['Feature', 'Coefficient']].to_string(index=False))\n",
        "\n",
        "print(\"\\nInterpretation of Coefficients:\")\n",
        "print(\"A positive coefficient for a feature increases the log-odds of the outcome belonging to the positive class.\")\n",
        "print(\"A negative coefficient for a feature decreases the log-odds of the outcome belonging to the positive class.\")\n",
        "print(\"The magnitude of the coefficient indicates the strength of the relationship (after scaling).\")"
      ],
      "metadata": {
        "id": "26wUAfV_UOsk",
        "colab": {
          "base_uri": "https://localhost:8080/"
        },
        "outputId": "a857978d-d8ef-4a30-f274-e8e24f813ba1"
      },
      "execution_count": null,
      "outputs": [
        {
          "output_type": "stream",
          "name": "stdout",
          "text": [
            "Feature Importance based on Logistic Regression Coefficients:\n",
            "  Feature  Coefficient\n",
            "feature_9    -1.609057\n",
            "feature_2     1.305664\n",
            "feature_4    -1.160732\n",
            "feature_7     1.127917\n",
            "feature_5    -0.980961\n",
            "feature_1     0.334505\n",
            "feature_6     0.294374\n",
            "feature_8     0.156504\n",
            "feature_0     0.094462\n",
            "feature_3     0.086645\n",
            "\n",
            "Interpretation of Coefficients:\n",
            "A positive coefficient for a feature increases the log-odds of the outcome belonging to the positive class.\n",
            "A negative coefficient for a feature decreases the log-odds of the outcome belonging to the positive class.\n",
            "The magnitude of the coefficient indicates the strength of the relationship (after scaling).\n"
          ]
        }
      ]
    },
    {
      "cell_type": "code",
      "source": [
        "# 19. Write a Python program to train Logistic Regression and evaluate its performance using Cohen’s Kappa Score.\n",
        "\n",
        "X, y = make_classification(n_samples=100, n_features=20, random_state=42)\n",
        "\n",
        "X_train, X_test, y_train, y_test = train_test_split(X, y, test_size=0.2, random_state=42)\n",
        "\n",
        "model = LogisticRegression(random_state=42)\n",
        "model.fit(X_train, y_train)\n",
        "\n",
        "y_pred = model.predict(X_test)\n",
        "\n",
        "kappa_score = cohen_kappa_score(y_test, y_pred)\n",
        "\n",
        "print(f\"Cohen's Kappa Score: {kappa_score:.4f}\")"
      ],
      "metadata": {
        "id": "MOKgr0BEUOxQ",
        "colab": {
          "base_uri": "https://localhost:8080/"
        },
        "outputId": "89d5f8e1-4f50-465c-b45a-10dfe2d85672"
      },
      "execution_count": null,
      "outputs": [
        {
          "output_type": "stream",
          "name": "stdout",
          "text": [
            "Cohen's Kappa Score: 1.0000\n"
          ]
        }
      ]
    },
    {
      "cell_type": "code",
      "source": [
        "# 20. Write a Python program to train Logistic Regression and visualize the Precision-Recall Curve for binary classification.\n",
        "\n",
        "X, y = make_classification(n_samples=1000, n_features=20, n_classes=2, random_state=42)\n",
        "\n",
        "X_train, X_test, y_train, y_test = train_test_split(X, y, test_size=0.2, random_state=42)\n",
        "\n",
        "model = LogisticRegression(random_state=42)\n",
        "model.fit(X_train, y_train)\n",
        "\n",
        "y_scores = model.predict_proba(X_test)[:, 1]\n",
        "\n",
        "precision, recall, thresholds = precision_recall_curve(y_test, y_scores)\n",
        "\n",
        "auprc = auc(recall, precision)\n",
        "\n",
        "plt.figure(figsize=(8, 6))\n",
        "plt.plot(recall, precision, label=f'Logistic Regression (AUPRC = {auprc:.2f})')\n",
        "plt.xlabel('Recall')\n",
        "plt.ylabel('Precision')\n",
        "plt.title('Precision-Recall Curve')\n",
        "plt.legend(loc='lower left')\n",
        "plt.grid(True)\n",
        "plt.show()\n",
        "\n",
        "print(f\"Area Under the Precision-Recall Curve (AUPRC): {auprc:.4f}\")"
      ],
      "metadata": {
        "id": "1nzL1iarbrnF",
        "colab": {
          "base_uri": "https://localhost:8080/",
          "height": 581
        },
        "outputId": "0122b24f-6871-4548-c876-7c4845fe7971"
      },
      "execution_count": null,
      "outputs": [
        {
          "output_type": "display_data",
          "data": {
            "text/plain": [
              "<Figure size 800x600 with 1 Axes>"
            ],
            "image/png": "[encoded data removed]"
          },
          "metadata": {}
        },
        {
          "output_type": "stream",
          "name": "stdout",
          "text": [
            "Area Under the Precision-Recall Curve (AUPRC): 0.9391\n"
          ]
        }
      ]
    },
    {
      "cell_type": "code",
      "source": [
        "# 21. Write a Python program to train Logistic Regression with different solvers (liblinear, saga, lbfgs) and compare their accuracy.\n",
        "\n",
        "X, y = make_classification(n_samples=200, n_features=10, random_state=42)\n",
        "\n",
        "X_train, X_test, y_train, y_test = train_test_split(X, y, test_size=0.2, random_state=42)\n",
        "\n",
        "solvers = ['liblinear', 'lbfgs', 'saga']\n",
        "\n",
        "for solver in solvers:\n",
        "    try:\n",
        "        print(f\"Training Logistic Regression with solver: {solver}\")\n",
        "        model = LogisticRegression(solver=solver, random_state=42, max_iter=1000)\n",
        "\n",
        "        model.fit(X_train, y_train)\n",
        "\n",
        "        y_pred = model.predict(X_test)\n",
        "\n",
        "        accuracy = accuracy_score(y_test, y_pred)\n",
        "        print(f\"Accuracy with {solver} solver: {accuracy:.4f}\")\n",
        "        print(\"-\" * 30)\n",
        "\n",
        "    except Exception as e:\n",
        "        print(f\"Could not train with solver {solver} due to error: {e}\")\n",
        "        print(\"-\" * 30)"
      ],
      "metadata": {
        "id": "FGr4heK5brsJ",
        "colab": {
          "base_uri": "https://localhost:8080/"
        },
        "outputId": "3f9814e4-bef2-4730-e9ee-a5f62fe1b8a1"
      },
      "execution_count": null,
      "outputs": [
        {
          "output_type": "stream",
          "name": "stdout",
          "text": [
            "Training Logistic Regression with solver: liblinear\n",
            "Accuracy with liblinear solver: 0.7500\n",
            "------------------------------\n",
            "Training Logistic Regression with solver: lbfgs\n",
            "Accuracy with lbfgs solver: 0.7500\n",
            "------------------------------\n",
            "Training Logistic Regression with solver: saga\n",
            "Accuracy with saga solver: 0.7500\n",
            "------------------------------\n"
          ]
        }
      ]
    },
    {
      "cell_type": "code",
      "source": [
        "# 22. Write a Python program to train Logistic Regression and evaluate its performance using Matthews Correlation Coefficient (MCC).\n",
        "\n",
        "X, y = make_classification(n_samples=100, n_features=10, random_state=42)\n",
        "\n",
        "X_train, X_test, y_train, y_test = train_test_split(X, y, test_size=0.2, random_state=42)\n",
        "\n",
        "model = LogisticRegression(random_state=42)\n",
        "model.fit(X_train, y_train)\n",
        "\n",
        "y_pred = model.predict(X_test)\n",
        "\n",
        "mcc = matthews_corrcoef(y_test, y_pred)\n",
        "\n",
        "print(f\"Matthews Correlation Coefficient (MCC): {mcc:.4f}\")"
      ],
      "metadata": {
        "id": "6LOahMJhbrwg",
        "colab": {
          "base_uri": "https://localhost:8080/"
        },
        "outputId": "cf52e534-fd6d-4296-e1b5-3018797c2a74"
      },
      "execution_count": null,
      "outputs": [
        {
          "output_type": "stream",
          "name": "stdout",
          "text": [
            "Matthews Correlation Coefficient (MCC): 1.0000\n"
          ]
        }
      ]
    },
    {
      "cell_type": "code",
      "source": [
        "# 23. Write a Python program to train Logistic Regression on both raw and standardized data. Compare their accuracy to see the impact of feature scaling.\n",
        "\n",
        "X, y = make_classification(n_samples=200, n_features=10, random_state=42)\n",
        "\n",
        "X_train, X_test, y_train, y_test = train_test_split(X, y, test_size=0.2, random_state=42)\n",
        "\n",
        "print(\"Training Logistic Regression on Raw Data:\")\n",
        "\n",
        "model_raw = LogisticRegression(random_state=42)\n",
        "model_raw.fit(X_train, y_train)\n",
        "\n",
        "y_pred_raw = model_raw.predict(X_test)\n",
        "\n",
        "accuracy_raw = accuracy_score(y_test, y_pred_raw)\n",
        "print(f\"Accuracy on Raw Data: {accuracy_raw:.4f}\")\n",
        "print(\"-\" * 30)\n",
        "\n",
        "print(\"Training Logistic Regression on Standardized Data:\")\n",
        "\n",
        "scaler = StandardScaler()\n",
        "\n",
        "X_train_scaled = scaler.fit_transform(X_train)\n",
        "X_test_scaled = scaler.transform(X_test)\n",
        "\n",
        "model_scaled = LogisticRegression(random_state=42)\n",
        "model_scaled.fit(X_train_scaled, y_train)\n",
        "\n",
        "y_pred_scaled = model_scaled.predict(X_test_scaled)\n",
        "\n",
        "accuracy_scaled = accuracy_score(y_test, y_pred_scaled)\n",
        "print(f\"Accuracy on Standardized Data: {accuracy_scaled:.4f}\")\n",
        "print(\"-\" * 30)\n",
        "\n",
        "print(\"Comparison:\")\n",
        "print(f\"Accuracy Raw Data: {accuracy_raw:.4f}\")\n",
        "print(f\"Accuracy Standardized Data: {accuracy_scaled:.4f}\")\n",
        "\n",
        "if accuracy_scaled > accuracy_raw:\n",
        "    print(\"Standardization improved accuracy.\")\n",
        "elif accuracy_scaled < accuracy_raw:\n",
        "    print(\"Standardization decreased accuracy.\")\n",
        "else:\n",
        "    print(\"Standardization had no significant impact on accuracy.\")"
      ],
      "metadata": {
        "id": "QUwVbnirbr1T",
        "colab": {
          "base_uri": "https://localhost:8080/"
        },
        "outputId": "0cc7dcae-efc2-4833-cf80-ce29eb0e26d1"
      },
      "execution_count": null,
      "outputs": [
        {
          "output_type": "stream",
          "name": "stdout",
          "text": [
            "Training Logistic Regression on Raw Data:\n",
            "Accuracy on Raw Data: 0.7500\n",
            "------------------------------\n",
            "Training Logistic Regression on Standardized Data:\n",
            "Accuracy on Standardized Data: 0.7500\n",
            "------------------------------\n",
            "Comparison:\n",
            "Accuracy Raw Data: 0.7500\n",
            "Accuracy Standardized Data: 0.7500\n",
            "Standardization had no significant impact on accuracy.\n"
          ]
        }
      ]
    },
    {
      "cell_type": "code",
      "source": [
        "# 24. Write a Python program to train Logistic Regression and find the optimal C (regularization strength) using cross-validation.\n",
        "\n",
        "X, y = make_classification(n_samples=100, n_features=20, random_state=42)\n",
        "\n",
        "X_train, X_test, y_train, y_test = train_test_split(X, y, test_size=0.2, random_state=42)\n",
        "\n",
        "param_grid = {'C': np.logspace(-4, 4, 20)}\n",
        "\n",
        "logistic_regression = LogisticRegression(solver='liblinear')\n",
        "\n",
        "grid_search = GridSearchCV(logistic_regression, param_grid, cv=5)\n",
        "\n",
        "grid_search.fit(X_train, y_train)\n",
        "\n",
        "best_c = grid_search.best_params_['C']\n",
        "best_score = grid_search.best_score_\n",
        "\n",
        "print(f\"Optimal C: {best_c}\")\n",
        "print(f\"Best cross-validation score: {best_score}\")\n",
        "\n",
        "optimal_model = LogisticRegression(C=best_c, solver='liblinear')\n",
        "optimal_model.fit(X_train, y_train)\n",
        "\n",
        "test_accuracy = optimal_model.score(X_test, y_test)\n",
        "print(f\"Accuracy on the test set with optimal C: {test_accuracy}\")"
      ],
      "metadata": {
        "id": "90W-MXgjbsXC",
        "colab": {
          "base_uri": "https://localhost:8080/"
        },
        "outputId": "d736d00d-b0e7-4e53-a5e9-68556f25999a"
      },
      "execution_count": null,
      "outputs": [
        {
          "output_type": "stream",
          "name": "stdout",
          "text": [
            "Optimal C: 0.23357214690901212\n",
            "Best cross-validation score: 0.975\n",
            "Accuracy on the test set with optimal C: 0.9\n"
          ]
        }
      ]
    },
    {
      "cell_type": "code",
      "source": [
        "# 25. Write a Python program to train Logistic Regression, save the trained model using joblib, and load it again to make predictions.\n",
        "\n",
        "X, y = make_classification(n_samples=100, n_features=20, random_state=42)\n",
        "\n",
        "X_train, X_test, y_train, y_test = train_test_split(X, y, test_size=0.2, random_state=42)\n",
        "\n",
        "model = LogisticRegression()\n",
        "model.fit(X_train, y_train)\n",
        "\n",
        "filename = 'logistic_regression_model.joblib'\n",
        "joblib.dump(model, filename)\n",
        "\n",
        "loaded_model = joblib.load(filename)\n",
        "\n",
        "predictions = loaded_model.predict(X_test)\n",
        "\n",
        "print(\"Predictions using the loaded model:\", predictions)"
      ],
      "metadata": {
        "id": "GfJHx30xbsb1",
        "colab": {
          "base_uri": "https://localhost:8080/"
        },
        "outputId": "2e5fe889-a47d-4fd6-8db2-fde790374f29"
      },
      "execution_count": null,
      "outputs": [
        {
          "output_type": "stream",
          "name": "stdout",
          "text": [
            "Predictions using the loaded model: [0 1 1 1 0 1 0 1 1 0 0 0 0 0 0 0 1 0 0 0]\n"
          ]
        }
      ]
    }
  ]
}