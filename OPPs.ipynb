{
  "nbformat": 4,
  "nbformat_minor": 0,
  "metadata": {
    "colab": {
      "provenance": []
    },
    "kernelspec": {
      "name": "python3",
      "display_name": "Python 3"
    },
    "language_info": {
      "name": "python"
    }
  },
  "cells": [
    {
      "cell_type": "markdown",
      "source": [
        "1. What is Object-Oriented Programming (OOP)?\n",
        "  - OOPs is a way of organizing code that uses objects and classes to represent real-world entities and their behavior. In OOPs, object has attributes thing that has specific data and can perform certain actions using methods.\n",
        "\n",
        "2. What is a class in OOP?\n",
        "  - A class is a blueprints for creating objects. it is created by keyword `class`.\n",
        "\n",
        "3. What is an object in OOP?\n",
        "  - An object is called an instance of a class. It represents a specific implementation of the class and holds its own data.\n",
        "\n",
        "  **Syntax**\n",
        "  \n",
        "    ```objectName = ClassName()```\n",
        "\n",
        "    We use the `.` notation to access the attributes of a class.\n",
        "\n",
        "4. What is the difference between abstraction and encapsulation?\n",
        "  - **Encapsulation** is the bundling of data (attributes) and methods (functions) within a class, restricting access to some components to control interactions. Direct access to some components of an object is restricted while controlled access is provided through methods.\n",
        "  - **Abstraction** hides the internal implementation details while exposing only the necessary functionality. It allows you to represent essential features of an object while hiding unnecessary details. It helps manage complexity by separating what an object does (methods) from how it achieves it (implementation details).\n",
        "\n",
        "5. What are dunder methods in Python?\n",
        "  - Dunder methods are also called Magic methods. They are the methods starting and ending with double underscores ‘__’. They are defined by built-in classes in Python and commonly used for operator overloading. Built in classes define many magic methods, `dir()` function can show you magic methods inherited by a class.\n",
        "\n",
        "6. Explain the concept of inheritance in OOP.\n",
        "  - Inheritance is a feature or a process in which, new classes are created from the existing classes. The new class created is called “derived class” or “child class” and the existing class is known as the “base class” or “parent class”. The derived class now is said to be inherited from the base class.\n",
        "  - When we say derived class inherits the base class, it means that the derived class inherits all the properties of the base class, without changing the properties of base class and may add new features to its own. These new features in the derived class will not affect the base class.\n",
        "\n",
        "7. What is polymorphism in OOP?\n",
        "  - In OOP, polymorphism allows methods in different classes to share the same name but perform distinct tasks. This is achieved through inheritance and interface design. Polymorphism complements other OOP principles like inheritance (sharing behavior) and encapsulation (hiding complexity) to create robust and modular applications.\n",
        "\n",
        "8. How is encapsulation achieved in Python?\n",
        "  - Using Access Modifiers:\n",
        "      - Public members: Accessible from anywhere. By default, all members in a Python class are public.\n",
        "      - Protected members: Accessible within the class and its subclasses. Indicated by a single underscore prefix (_). This is a convention, not a strict enforcement.\n",
        "      - Private members: Accessible only within the class. Indicated by a double underscore prefix (__). Python performs name mangling to make them less accessible from outside the class.\n",
        "  - Using Getter and Setter Methods:\n",
        "      - Getter methods: Used to retrieve the value of an attribute.\n",
        "      - Setter methods: Used to modify the value of an attribute.\n",
        "\n",
        "9. What is a constructor in Python?\n",
        "  - In Python, a constructor is a special method that is called automatically when an object is created from a class. Its main role is to initialize the object by setting up its attributes or state.\n",
        "\n",
        "10. What are class and static methods in Python?\n",
        "  - **Class method** is method that is called on the class itself, not on a specific object instance. Therefore, it belongs to a class level, and all class instances share a class method.\n",
        "  - **Static method** is a general utility method that performs a task in isolation. This method doesn’t have access to the instance and class variable.\n",
        "\n",
        "11. What is method overloading in Python?\n",
        "  - Two or more methods have the same name but different numbers of parameters or different types of parameters, or both. These methods are called overloaded methods and this is called method overloading.\n",
        "\n",
        "12. What is method overriding in OOP?\n",
        "  - Method overriding occurs in Python when a method in a subclass has the same name, parameters, and signature as a method in its parent class. By overriding a method, the subclass can provide a specific implementation of the method that is different from the one in its parent class.\n",
        "\n",
        "13. What is a property decorator in Python?\n",
        "  - `@property` decorator is a built-in decorator in Python which is helpful in defining the properties effortlessly without manually calling the inbuilt function property(). Which is used to return the property attributes of a class from the stated getter, setter and deleter as parameters.\n",
        "\n",
        "14. Why is polymorphism important in OOP?\n",
        "  - Polymorphism in OOPs helps to use overriding, overloading, inheritance in our code which makes it more readable, effective and faster. Polymorphism in oops is one of the most Important principles of object-oriented programming. ‘Poly’ means many, and ‘morphism’ means forms.\n",
        "\n",
        "15. What is an abstract class in Python?\n",
        "  - In Python, an abstract class is a class that cannot be instantiated on its own and is designed to be a blueprint for other classes. Abstract classes allow us to define methods that must be implemented by subclasses, ensuring a consistent interface while still allowing the subclasses to provide specific implementations.\n",
        "\n",
        "16. What are the advantages of OOP?\n",
        "  - OOP language allows to break the program into the bit-sized problems that can be solved easily (one object at a time).\n",
        "  - OOP systems can be easily upgraded from small to large systems.\n",
        "  - The new technology promises greater programmer productivity, better quality of software and lesser maintenance cost.\n",
        "  - It is possible that multiple instances of objects co-exist without any interference.\n",
        "\n",
        "17. What is the difference between a class variable and an instance variable?\n",
        "  - **Class variables** also known as static variables are declared with the static keyword in a class, but outside a method, constructor or a block. **Instance variables** are created when an object is created with the use of the keyword 'new' and destroyed when the object is destroyed.\n",
        "  - **Instance variables** are created when an object is created with the use of the keyword 'new' and destroyed when the object is destroyed. but **Static variables** are created when the program starts and destroyed when the program stops.\n",
        "\n",
        "18. What is multiple inheritance in Python?\n",
        "  - A class can be derived from more than one superclass in Python. This is called multiple inheritance. The derived class inherits all the features of the base case.\n",
        "\n",
        "19. Explain the purpose of ‘’__str__’ and ‘__repr__’ ‘ methods in Python.\n",
        "  - `__str__` : To provide a user-friendly, informal string representation of an object. It's intended for end-users or for printing objects in a readable format.\n",
        "  - `__repr__`: To provide a more formal, unambiguous string representation of an object. It's intended for developers or for debugging purposes.\n",
        "\n",
        "20. What is the significance of the ‘super()’ function in Python?\n",
        "  - In Python, the `super()` function is used to refer to the parent class or superclass. It allows you to call methods defined in the superclass from the subclass, enabling you to extend and customize the functionality inherited from the parent class.\n",
        "\n",
        "21. What is the significance of the __del__ method in Python?\n",
        "  - The `__del__ ()` method is a known as a destructor method in Python. It is called when all references to the object have been deleted i.e when an object is garbage collected. # body of destructor Note : A reference to objects is also deleted when the object goes out of reference or when the program ends.\n",
        "\n",
        "22. What is the difference between @staticmethod and @classmethod in Python?\n",
        "  - `@staticmethod`:\n",
        "      - A static method doesn't receive any implicit arguments (like self or cls).\n",
        "      - It behaves like a regular function, but it's logically grouped within the class.\n",
        "      - It's primarily used for utility functions that don't need access to the class or instance state.\n",
        "  - `@classmethod`:\n",
        "      - A class method receives the class itself as the first implicit argument, conventionally named cls.\n",
        "      - It can access and modify class-level attributes.\n",
        "      - It's often used for factory methods that create instances of the class or for operations related to the class as a whole.\n",
        "\n",
        "23. How does polymorphism work in Python with inheritance?\n",
        "  - Polymorphism can be achieved using class inheritance by defining a common interface in a base class and then providing specific implementations in derived classes. This allows objects of different classes to be treated as objects of a common superclass.\n",
        "\n",
        "24. What is method chaining in Python OOP?\n",
        "  - Method chaining is a powerful technique in Python programming that allows us to call multiple methods on an object in a single, continuous line of code. This approach makes the code cleaner, more readable, and often easier to maintain. It is frequently used in data processing, object-oriented programming, and frameworks such as Pandas, Django ORM, and Flask.\n",
        "\n",
        "25. What is the purpose of the __call__ method in Python?\n",
        "  - The goal of `.__call__()` is to turn your instances into callable objects. In other words, its purpose is to create objects that you can call as you would call a regular function."
      ],
      "metadata": {
        "id": "nLNmeERexCuj"
      }
    },
    {
      "cell_type": "code",
      "source": [
        "# 1. Create a parent class Animal with a method speak() that prints a generic message. Create a child class Dog that overrides the speak() method to print \"Bark!\".\n",
        "class Animal:\n",
        "  def speak(self):\n",
        "    print(\"Generic message\")\n",
        "\n",
        "class Dog(Animal):\n",
        "  def speak(self):\n",
        "    print(\"Bark!\")\n",
        "\n",
        "dog = Dog()\n",
        "dog.speak()"
      ],
      "metadata": {
        "id": "j1ciRrJRxEmF"
      },
      "execution_count": null,
      "outputs": []
    },
    {
      "cell_type": "code",
      "source": [
        "# 2.  Write a program to create an abstract class Shape with a method area(). Derive classes Circle and Rectangle from it and implement the area() method in both.\n",
        "from abc import ABC, abstractmethod\n",
        "import math\n",
        "\n",
        "class Shape(ABC):\n",
        "    @abstractmethod\n",
        "    def area(self):\n",
        "        pass\n",
        "\n",
        "class Circle(Shape):\n",
        "    def __init__(self, radius):\n",
        "        self.radius = radius\n",
        "\n",
        "    def area(self):\n",
        "        return math.pi * self.radius**2\n",
        "\n",
        "class Rectangle(Shape):\n",
        "    def __init__(self, width, height):\n",
        "        self.width = width\n",
        "        self.height = height\n",
        "\n",
        "    def area(self):\n",
        "        return self.width * self.height\n",
        "\n",
        "# Create instances of Circle and Rectangle\n",
        "circle = Circle(5)\n",
        "rectangle = Rectangle(4, 6)\n",
        "\n",
        "# Calculate and print areas\n",
        "print(\"Circle Area:\", circle.area())\n",
        "print(\"Rectangle Area:\", rectangle.area())"
      ],
      "metadata": {
        "id": "V1dYWSdRxE-S",
        "colab": {
          "base_uri": "https://localhost:8080/"
        },
        "outputId": "ad2d4f34-19a3-484e-ae59-6415339f718b"
      },
      "execution_count": 6,
      "outputs": [
        {
          "output_type": "stream",
          "name": "stdout",
          "text": [
            "Circle Area: 78.53981633974483\n",
            "Rectangle Area: 24\n"
          ]
        }
      ]
    },
    {
      "cell_type": "code",
      "source": [
        "# 3. Implement a multi-level inheritance scenario where a class Vehicle has an attribute type. Derive a class Car and further derive a class ElectricCar that adds a battery attribute.\n",
        "class Vehicle:\n",
        "  def __init__(self, type):\n",
        "    self.type = type\n",
        "\n",
        "  def get_type(self):\n",
        "    return self.type\n",
        "\n",
        "class Car(Vehicle):\n",
        "  def __init__(self, type, fuel_type):\n",
        "    super().__init__(type)\n",
        "    self.fuel_type = fuel_type\n",
        "\n",
        "  def get_fuel_type(self):\n",
        "    return self.fuel_type\n",
        "\n",
        "class ElectricCar(Car):\n",
        "  def __init__(self, type, fuel_type, battery_capacity):\n",
        "    super().__init__(type, fuel_type)\n",
        "    self.battery_capacity = battery_capacity\n",
        "\n",
        "  def get_battery_capacity(self):\n",
        "    return self.battery_capacity\n",
        "\n",
        "vehicle = Vehicle(\"Truck\")\n",
        "car = Car(\"Sedan\", \"Gasoline\")\n",
        "electric_car = ElectricCar(\"SUV\", \"Electric\", \"75 kWh\")\n",
        "\n",
        "print(\"Vehicle Type:\", vehicle.get_type())\n",
        "print(\"Car Type:\", car.get_type())\n",
        "print(\"Car Fuel Type:\", car.get_fuel_type())\n",
        "print(\"Electric Car Type:\", electric_car.get_type())"
      ],
      "metadata": {
        "id": "BaqxcFEkxFOY",
        "colab": {
          "base_uri": "https://localhost:8080/"
        },
        "outputId": "332b3c4b-bdd3-4558-aa77-264f7a7215e3"
      },
      "execution_count": 7,
      "outputs": [
        {
          "output_type": "stream",
          "name": "stdout",
          "text": [
            "Vehicle Type: Truck\n",
            "Car Type: Sedan\n",
            "Car Fuel Type: Gasoline\n",
            "Electric Car Type: SUV\n"
          ]
        }
      ]
    },
    {
      "cell_type": "code",
      "source": [
        "# 4. Demonstrate polymorphism by creating a base class Bird with a method fly(). Create two derived classes Sparrow and Penguin that override the fly() method.\n",
        "class Bird:\n",
        "    def fly(self):\n",
        "        print(\"Generic bird flying\")\n",
        "\n",
        "class Sparrow(Bird):\n",
        "    def fly(self):\n",
        "        print(\"Sparrow flying\")\n",
        "\n",
        "class Penguin(Bird):\n",
        "    def fly(self):\n",
        "        print(\"Penguins can't fly, they waddle\")\n",
        "\n",
        "bird = Bird()\n",
        "sparrow = Sparrow()\n",
        "penguin = Penguin()\n",
        "\n",
        "bird.fly()\n",
        "sparrow.fly()\n",
        "penguin.fly()"
      ],
      "metadata": {
        "id": "9ZxL7tk0xFbV",
        "colab": {
          "base_uri": "https://localhost:8080/"
        },
        "outputId": "08124245-790c-48a3-cf4f-2c621884b5ed"
      },
      "execution_count": 25,
      "outputs": [
        {
          "output_type": "stream",
          "name": "stdout",
          "text": [
            "Generic bird flying\n",
            "Sparrow flying\n",
            "Penguins can't fly, they waddle\n"
          ]
        }
      ]
    },
    {
      "cell_type": "code",
      "source": [
        "# 5. Write a program to demonstrate encapsulation by creating a class BankAccount with private attributes balance and methods to deposit, withdraw, and check balance.\n",
        "class BankAccount:\n",
        "    def __init__(self, initial_balance=0):\n",
        "        self.__balance = initial_balance  # Private attribute\n",
        "\n",
        "    def deposit(self, amount):\n",
        "        if amount > 0:\n",
        "            self.__balance += amount\n",
        "            print(f\"Deposited: ${amount}\")\n",
        "        else:\n",
        "            print(\"Invalid deposit amount.\")\n",
        "\n",
        "    def withdraw(self, amount):\n",
        "        if 0 < amount <= self.__balance:\n",
        "            self.__balance -= amount\n",
        "            print(f\"Withdrew: ${amount}\")\n",
        "        else:\n",
        "            print(\"Insufficient funds or invalid withdrawal amount.\")\n",
        "\n",
        "    def check_balance(self):\n",
        "        print(f\"Current balance: ${self.__balance}\")\n",
        "\n",
        "account = BankAccount(1000)\n",
        "account.deposit(500)\n",
        "account.withdraw(200)\n",
        "account.check_balance()"
      ],
      "metadata": {
        "id": "RpvK0bBz2xdX",
        "colab": {
          "base_uri": "https://localhost:8080/"
        },
        "outputId": "b854f47f-445f-4f97-a411-210a3261313d"
      },
      "execution_count": 26,
      "outputs": [
        {
          "output_type": "stream",
          "name": "stdout",
          "text": [
            "Deposited: $500\n",
            "Withdrew: $200\n",
            "Current balance: $1300\n"
          ]
        }
      ]
    },
    {
      "cell_type": "code",
      "source": [
        "# 6. Demonstrate runtime polymorphism using a method play() in a base class Instrument. Derive classes Guitar and Piano that implement their own version of play().\n",
        "class Instrument:\n",
        "    def play(self):\n",
        "        print(\"Playing a generic instrument\")\n",
        "\n",
        "class Guitar(Instrument):\n",
        "    def play(self):\n",
        "        print(\"Strumming the guitar\")\n",
        "\n",
        "class Piano(Instrument):\n",
        "    def play(self):\n",
        "        print(\"Playing the piano keys\")\n",
        "\n",
        "instrument = Instrument()\n",
        "guitar = Guitar()\n",
        "piano = Piano()\n",
        "\n",
        "instrument.play()\n",
        "guitar.play()\n",
        "piano.play()"
      ],
      "metadata": {
        "id": "NaOuuDMy2x1Y",
        "colab": {
          "base_uri": "https://localhost:8080/"
        },
        "outputId": "78310c5f-fa3c-4fa3-a39b-9fcbfff69ce7"
      },
      "execution_count": 27,
      "outputs": [
        {
          "output_type": "stream",
          "name": "stdout",
          "text": [
            "Playing a generic instrument\n",
            "Strumming the guitar\n",
            "Playing the piano keys\n"
          ]
        }
      ]
    },
    {
      "cell_type": "code",
      "source": [
        "# 7. Create a class MathOperations with a class method add_numbers() to add two numbers and a static method subtract_numbers() to subtract two numbers.\n",
        "class MathOperations:\n",
        "    @classmethod\n",
        "    def add_numbers(cls, a, b):\n",
        "        return a + b\n",
        "\n",
        "    @staticmethod\n",
        "    def subtract_numbers(a, b):\n",
        "        return a - b\n",
        "\n",
        "result1 = MathOperations.add_numbers(5, 3)\n",
        "result2 = MathOperations.subtract_numbers(10, 4)\n",
        "print(f'Addition: {result1}')\n",
        "print(f'Substraction: {result2}')"
      ],
      "metadata": {
        "id": "gudxlc8U2yEc",
        "colab": {
          "base_uri": "https://localhost:8080/"
        },
        "outputId": "66fc4d8f-f8cc-431c-df19-6eb1fb3c81c9"
      },
      "execution_count": 23,
      "outputs": [
        {
          "output_type": "stream",
          "name": "stdout",
          "text": [
            "Addition: 8\n",
            "Substraction: 6\n"
          ]
        }
      ]
    },
    {
      "cell_type": "code",
      "source": [
        "# 8. Implement a class Person with a class method to count the total number of persons created.\n",
        "class Person:\n",
        "    total_persons = 0\n",
        "\n",
        "    def __init__(self, name, age):\n",
        "        self.name = name\n",
        "        self.age = age\n",
        "        Person.total_persons += 1\n",
        "\n",
        "    @classmethod\n",
        "    def get_total_persons(cls):\n",
        "        return cls.total_persons\n",
        "\n",
        "person1 = Person(\"Alice\", 25)\n",
        "person2 = Person(\"Bob\", 30)\n",
        "print(f'Total person created: {Person.get_total_persons()}')"
      ],
      "metadata": {
        "id": "PXLyadLQ2yQg",
        "colab": {
          "base_uri": "https://localhost:8080/"
        },
        "outputId": "c57ea206-2f0f-483a-a16c-e3ed15025914"
      },
      "execution_count": 22,
      "outputs": [
        {
          "output_type": "stream",
          "name": "stdout",
          "text": [
            "Total person created: 2\n"
          ]
        }
      ]
    },
    {
      "cell_type": "code",
      "source": [
        "# 9. Write a class Fraction with attributes numerator and denominator. Override the str method to display the fraction as \"numerator/denominator\".\n",
        "class Fraction:\n",
        "    def __init__(self, numerator, denominator):\n",
        "        self.numerator = numerator\n",
        "        self.denominator = denominator\n",
        "\n",
        "    def __str__(self):\n",
        "        return f\"{self.numerator}/{self.denominator}\"\n",
        "\n",
        "fraction = Fraction(3, 4)\n",
        "print(fraction)"
      ],
      "metadata": {
        "id": "yQ5o1YEZ3OHl",
        "colab": {
          "base_uri": "https://localhost:8080/"
        },
        "outputId": "90482006-6859-4d2d-8b3f-f3919fb75c55"
      },
      "execution_count": 21,
      "outputs": [
        {
          "output_type": "stream",
          "name": "stdout",
          "text": [
            "3/4\n"
          ]
        }
      ]
    },
    {
      "cell_type": "code",
      "source": [
        "# 10. Demonstrate operator overloading by creating a class Vector and overriding the add method to add two vectors.\n",
        "class Vector:\n",
        "    def __init__(self, x, y):\n",
        "      self.x = x\n",
        "      self.y = y\n",
        "\n",
        "    def __add__(self, other):\n",
        "      return Vector(self.x + other.x, self.y + other.y)\n",
        "\n",
        "    def __str__(self):\n",
        "      return f\"{self.x}, {self.y}\"\n",
        "\n",
        "vector1 = Vector(1, 2)\n",
        "vector2 = Vector(3, 4)\n",
        "result = vector1 + vector2\n",
        "print(result)"
      ],
      "metadata": {
        "id": "tq4yeNJr3OPA",
        "colab": {
          "base_uri": "https://localhost:8080/"
        },
        "outputId": "8bbd810d-3f1f-4028-d13e-c2561533d17a"
      },
      "execution_count": 20,
      "outputs": [
        {
          "output_type": "stream",
          "name": "stdout",
          "text": [
            "4, 6\n"
          ]
        }
      ]
    },
    {
      "cell_type": "code",
      "source": [
        "# 11. Create a class Person with attributes name and age. Add a method greet() that prints \"Hello, my name is {name} and I am {age} years old.\"\n",
        "class Person:\n",
        "    def __init__(self, name, age):\n",
        "        self.name = name\n",
        "        self.age = age\n",
        "\n",
        "    def greet(self):\n",
        "        print(f\"Hello, my name is {self.name} and I am {self.age} years old.\")\n",
        "\n",
        "\n",
        "person1 = Person(\"Muskan\", 25)\n",
        "person1.greet()"
      ],
      "metadata": {
        "id": "Gy_S_i233OTB",
        "colab": {
          "base_uri": "https://localhost:8080/"
        },
        "outputId": "20578737-127d-4df1-ade9-522cd5277d1d"
      },
      "execution_count": 19,
      "outputs": [
        {
          "output_type": "stream",
          "name": "stdout",
          "text": [
            "Hello, my name is Muskan and I am 25 years old.\n"
          ]
        }
      ]
    },
    {
      "cell_type": "code",
      "source": [
        "# 12. Implement a class Student with attributes name and grades. Create a method average_grade() to compute the average of the grades.\n",
        "class Student:\n",
        "    def __init__(self, name, grades):\n",
        "        self.name = name\n",
        "        self.grades = grades\n",
        "\n",
        "    def average_grade(self):\n",
        "        if len(self.grades) == 0:\n",
        "            return 0  # Handle empty grades list\n",
        "        else:\n",
        "            return sum(self.grades) / len(self.grades)\n",
        "\n",
        "student1 = Student(\"Alice\", [85, 90, 92, 78, 88])\n",
        "average = student1.average_grade()\n",
        "print(f\"{student1.name}'s average grade: {average}\")"
      ],
      "metadata": {
        "id": "zSlF0qSb3OYK",
        "colab": {
          "base_uri": "https://localhost:8080/"
        },
        "outputId": "759fb7b6-974c-4502-ee7b-b521a3b1b238"
      },
      "execution_count": 18,
      "outputs": [
        {
          "output_type": "stream",
          "name": "stdout",
          "text": [
            "Alice's average grade: 86.6\n"
          ]
        }
      ]
    },
    {
      "cell_type": "code",
      "source": [
        "# 13. Create a class Rectangle with methods set_dimensions() to set the dimensions and area() to calculate the area.\n",
        "class Rectangle:\n",
        "    def __init__(self, width=0, height=0):\n",
        "        self.width = width\n",
        "        self.height = height\n",
        "\n",
        "    def set_dimensions(self, width, height):\n",
        "        self.width = width\n",
        "        self.height = height\n",
        "\n",
        "    def area(self):\n",
        "        return self.width * self.height\n",
        "\n",
        "my_rectangle = Rectangle()\n",
        "print(my_rectangle.area())\n",
        "my_rectangle.set_dimensions(5, 10)\n",
        "print(my_rectangle.area())"
      ],
      "metadata": {
        "id": "Ncv0l0c53OdA",
        "colab": {
          "base_uri": "https://localhost:8080/"
        },
        "outputId": "13e733d0-0dc0-4818-dcaa-530ee1fdd245"
      },
      "execution_count": 17,
      "outputs": [
        {
          "output_type": "stream",
          "name": "stdout",
          "text": [
            "0\n",
            "50\n"
          ]
        }
      ]
    },
    {
      "cell_type": "code",
      "source": [
        "# 14. Create a class Employee with a method calculate_salary() that computes the salary based on hours worked and hourly rate. Create a derived class Manager that adds a bonus to the salary.\n",
        "class Employee:\n",
        "    def __init__(self, name, hours_worked, hourly_rate):\n",
        "        self.name = name\n",
        "        self.hours_worked = hours_worked\n",
        "        self.hourly_rate = hourly_rate\n",
        "\n",
        "    def calculate_salary(self):\n",
        "        return self.hours_worked * self.hourly_rate\n",
        "\n",
        "class Manager(Employee):\n",
        "    def __init__(self, name, hours_worked, hourly_rate, bonus):\n",
        "        super().__init__(name, hours_worked, hourly_rate)\n",
        "        self.bonus = bonus\n",
        "\n",
        "    def calculate_salary(self):\n",
        "        base_salary = super().calculate_salary()\n",
        "        return base_salary + self.bonus\n",
        "\n",
        "employee = Employee(\"Alice\", 40, 25)\n",
        "manager = Manager(\"Bob\", 40, 50, 1000)\n",
        "print(employee.calculate_salary())\n",
        "print(manager.calculate_salary())\n"
      ],
      "metadata": {
        "id": "WLUMr41O3OjM",
        "colab": {
          "base_uri": "https://localhost:8080/"
        },
        "outputId": "ea68bad5-866e-4e07-f2c2-fde4778f73e3"
      },
      "execution_count": 16,
      "outputs": [
        {
          "output_type": "stream",
          "name": "stdout",
          "text": [
            "1000\n",
            "3000\n"
          ]
        }
      ]
    },
    {
      "cell_type": "code",
      "source": [
        "# 15. Create a class Product with attributes name, price, and quantity. Implement a method total_price() that calculates the total price of the product.\n",
        "class Product:\n",
        "    def __init__(self, name, price, quantity):\n",
        "        self.name = name\n",
        "        self.price = price\n",
        "        self.quantity = quantity\n",
        "\n",
        "    def total_price(self):\n",
        "        return self.price * self.quantity\n",
        "\n",
        "product1 = Product(\"Laptop\", 12000, 2)\n",
        "product1.total_price()"
      ],
      "metadata": {
        "id": "9Zy9Wbm_3Ouo",
        "colab": {
          "base_uri": "https://localhost:8080/"
        },
        "outputId": "e3adba69-c968-4b77-9a21-257eb2587620"
      },
      "execution_count": 14,
      "outputs": [
        {
          "output_type": "execute_result",
          "data": {
            "text/plain": [
              "24000"
            ]
          },
          "metadata": {},
          "execution_count": 14
        }
      ]
    },
    {
      "cell_type": "code",
      "source": [
        "# 16. Create a class Animal with an abstract method sound(). Create two derived classes Cow and Sheep that implement the sound() method.\n",
        "class Animal(ABC):\n",
        "  @abstractmethod\n",
        "  def sound(self):\n",
        "    pass\n",
        "\n",
        "class Cow(Animal):\n",
        "  def sound(self):\n",
        "    return \"Moo!\"\n",
        "\n",
        "class Dog(Animal):\n",
        "  def sound(self):\n",
        "    return \"bark!\"\n",
        "\n",
        "cow = Cow()\n",
        "dog = Dog()\n",
        "\n",
        "print(cow.sound())\n",
        "print(dog.sound())"
      ],
      "metadata": {
        "id": "BWqblTUT4XtS",
        "colab": {
          "base_uri": "https://localhost:8080/"
        },
        "outputId": "891255c5-2953-45bf-96c7-00e0ef60ce16"
      },
      "execution_count": 13,
      "outputs": [
        {
          "output_type": "stream",
          "name": "stdout",
          "text": [
            "Moo!\n",
            "bark!\n"
          ]
        }
      ]
    },
    {
      "cell_type": "code",
      "source": [
        "# 17. Create a class Book with attributes title, author, and year_published. Add a method get_book_info() that returns a formatted string with the book's details.\n",
        "class Book:\n",
        "  def __init__(self, title, author, year_published):\n",
        "    self.title = title\n",
        "    self.author = author\n",
        "    self.year_published = year_published\n",
        "\n",
        "  def get_book_info(self):\n",
        "    return f'Title: {self.title}\\nAuthor: {self.author}\\nYear Published: {self.year_published}'\n",
        "\n",
        "my_book = Book('Ramayana', 'Valmiki', 200)\n",
        "print(my_book.get_book_info())"
      ],
      "metadata": {
        "id": "FR5TRTL94Z_R",
        "colab": {
          "base_uri": "https://localhost:8080/"
        },
        "outputId": "c60c04b0-aa09-4180-e33d-12d5a60b4131"
      },
      "execution_count": 9,
      "outputs": [
        {
          "output_type": "stream",
          "name": "stdout",
          "text": [
            "Title: Ramayana\n",
            "Author: Valmiki\n",
            "Year Published: 200\n"
          ]
        }
      ]
    },
    {
      "cell_type": "code",
      "source": [
        "# 18. Create a class House with attributes address and price. Create a derived class Mansion that adds an attribute number_of_rooms.\n",
        "class House:\n",
        "  def __init__(self, address, price):\n",
        "    self.address = address\n",
        "    self.price = price\n",
        "\n",
        "  def get_house_info(self):\n",
        "    return f'Address: {self.address}\\nPrice: {self.price}'\n",
        "\n",
        "class Mansion(House):\n",
        "  def __init__(self, address, price, number_of_rooms):\n",
        "    super().__init__(address, price)\n",
        "    self.number_of_rooms = number_of_rooms\n",
        "\n",
        "my_mansion = Mansion('123 Main St', 250000, 8)\n",
        "print(my_mansion.get_house_info())\n",
        "print(f'Number of Rooms: {my_mansion.number_of_rooms}')"
      ],
      "metadata": {
        "id": "TRDJyBBE4aLl",
        "colab": {
          "base_uri": "https://localhost:8080/"
        },
        "outputId": "32b7bc07-7c2f-4a4b-f1b3-80c0fe1aa177"
      },
      "execution_count": 10,
      "outputs": [
        {
          "output_type": "stream",
          "name": "stdout",
          "text": [
            "Address: 123 Main St\n",
            "Price: 250000\n",
            "Number of Rooms: 8\n"
          ]
        }
      ]
    }
  ]
}